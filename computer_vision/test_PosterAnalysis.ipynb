{
 "cells": [
  {
   "cell_type": "code",
   "execution_count": 1,
   "metadata": {},
   "outputs": [],
   "source": [
    "from PosterAnalysis import analyse_img_from_url\n",
    "import pandas as pd\n",
    "from deepface import DeepFace\n",
    "from deepface.detectors import FaceDetector\n",
    "import yaml\n",
    "\n",
    "with open(\"config.yml\") as yml_file:\n",
    "    config = yaml.safe_load(yml_file)"
   ]
  },
  {
   "cell_type": "code",
   "execution_count": 2,
   "metadata": {},
   "outputs": [],
   "source": [
    "bechdel_df = pd.read_json('bechdel_data.json')\n",
    "imdb_df = pd.read_json('tmdb_data.json')"
   ]
  },
  {
   "cell_type": "code",
   "execution_count": 3,
   "metadata": {},
   "outputs": [],
   "source": [
    "imdb_df['imdb_id'] = imdb_df['imdb_id'].apply(lambda x: x[2:])"
   ]
  },
  {
   "cell_type": "code",
   "execution_count": 4,
   "metadata": {},
   "outputs": [],
   "source": [
    "merged_df = pd.merge(bechdel_df,imdb_df,left_on='imdbid', right_on='imdb_id')"
   ]
  },
  {
   "cell_type": "code",
   "execution_count": 5,
   "metadata": {},
   "outputs": [],
   "source": [
    "sample_df = merged_df.tail()"
   ]
  },
  {
   "cell_type": "code",
   "execution_count": null,
   "metadata": {},
   "outputs": [],
   "source": []
  },
  {
   "cell_type": "code",
   "execution_count": 6,
   "metadata": {},
   "outputs": [
    {
     "name": "stdout",
     "output_type": "stream",
     "text": [
      "[]\n",
      "[['Man', 1485.0], ['Man', 3149.0], ['Man', 1530.0]]\n",
      "[['Man', 115527.0]]\n",
      "[['Man', 25403.0], ['Woman', 22125.0]]\n",
      "[]\n"
     ]
    }
   ],
   "source": [
    "gender_detector = DeepFace.build_model(\"Gender\")\n",
    "face_detector = FaceDetector.build_model(config[\"detector_backend\"])\n",
    "age_detector = DeepFace.build_model(\"Age\")\n",
    "applied_df = sample_df.apply(lambda row: analyse_img_from_url(row['poster_path'], gender_detector=gender_detector, face_detector=face_detector, age_detector=age_detector), axis='columns', result_type='expand')\n",
    "applied_df.columns = ['nb_women', 'nb_men', 'area_women', 'area_men']"
   ]
  },
  {
   "cell_type": "code",
   "execution_count": 13,
   "metadata": {},
   "outputs": [
    {
     "data": {
      "text/html": [
       "<div>\n",
       "<style scoped>\n",
       "    .dataframe tbody tr th:only-of-type {\n",
       "        vertical-align: middle;\n",
       "    }\n",
       "\n",
       "    .dataframe tbody tr th {\n",
       "        vertical-align: top;\n",
       "    }\n",
       "\n",
       "    .dataframe thead th {\n",
       "        text-align: right;\n",
       "    }\n",
       "</style>\n",
       "<table border=\"1\" class=\"dataframe\">\n",
       "  <thead>\n",
       "    <tr style=\"text-align: right;\">\n",
       "      <th></th>\n",
       "      <th>year</th>\n",
       "      <th>title_x</th>\n",
       "      <th>imdbid</th>\n",
       "      <th>id_x</th>\n",
       "      <th>rating</th>\n",
       "      <th>adult</th>\n",
       "      <th>backdrop_path</th>\n",
       "      <th>belongs_to_collection</th>\n",
       "      <th>budget</th>\n",
       "      <th>genres</th>\n",
       "      <th>...</th>\n",
       "      <th>release_date</th>\n",
       "      <th>revenue</th>\n",
       "      <th>runtime</th>\n",
       "      <th>spoken_languages</th>\n",
       "      <th>status</th>\n",
       "      <th>tagline</th>\n",
       "      <th>title_y</th>\n",
       "      <th>video</th>\n",
       "      <th>vote_average</th>\n",
       "      <th>vote_count</th>\n",
       "    </tr>\n",
       "  </thead>\n",
       "  <tbody>\n",
       "    <tr>\n",
       "      <th>0</th>\n",
       "      <td>1984</td>\n",
       "      <td>C.H.U.D.</td>\n",
       "      <td>0087015</td>\n",
       "      <td>9327</td>\n",
       "      <td>2</td>\n",
       "      <td>False</td>\n",
       "      <td>/zY9ahWKd9wVgQ6Rj5iL2zo0UvOt.jpg</td>\n",
       "      <td>{'id': 257571, 'name': 'C.H.U.D. Collection', ...</td>\n",
       "      <td>1250000</td>\n",
       "      <td>[{'id': 27, 'name': 'Horror'}, {'id': 878, 'na...</td>\n",
       "      <td>...</td>\n",
       "      <td>1984-08-31</td>\n",
       "      <td>3412497</td>\n",
       "      <td>97.0</td>\n",
       "      <td>[{'english_name': 'English', 'iso_639_1': 'en'...</td>\n",
       "      <td>Released</td>\n",
       "      <td>They're not staying down there anymore!</td>\n",
       "      <td>C.H.U.D.</td>\n",
       "      <td>False</td>\n",
       "      <td>5.6</td>\n",
       "      <td>190</td>\n",
       "    </tr>\n",
       "  </tbody>\n",
       "</table>\n",
       "<p>1 rows × 30 columns</p>\n",
       "</div>"
      ],
      "text/plain": [
       "   year   title_x   imdbid  id_x  rating  adult  \\\n",
       "0  1984  C.H.U.D.  0087015  9327       2  False   \n",
       "\n",
       "                      backdrop_path  \\\n",
       "0  /zY9ahWKd9wVgQ6Rj5iL2zo0UvOt.jpg   \n",
       "\n",
       "                               belongs_to_collection   budget  \\\n",
       "0  {'id': 257571, 'name': 'C.H.U.D. Collection', ...  1250000   \n",
       "\n",
       "                                              genres  ... release_date  \\\n",
       "0  [{'id': 27, 'name': 'Horror'}, {'id': 878, 'na...  ...   1984-08-31   \n",
       "\n",
       "   revenue runtime                                   spoken_languages  \\\n",
       "0  3412497    97.0  [{'english_name': 'English', 'iso_639_1': 'en'...   \n",
       "\n",
       "     status                                  tagline   title_y  video  \\\n",
       "0  Released  They're not staying down there anymore!  C.H.U.D.  False   \n",
       "\n",
       "  vote_average vote_count  \n",
       "0          5.6        190  \n",
       "\n",
       "[1 rows x 30 columns]"
      ]
     },
     "execution_count": 13,
     "metadata": {},
     "output_type": "execute_result"
    }
   ],
   "source": [
    "i=1\n",
    "merged_df.iloc[i-1:i,:]"
   ]
  },
  {
   "cell_type": "code",
   "execution_count": null,
   "metadata": {},
   "outputs": [],
   "source": []
  }
 ],
 "metadata": {
  "interpreter": {
   "hash": "8a06b16eeb1aafe456feb02fe6e0b1401b216a035170a1a7613df3d99ddf6e3e"
  },
  "kernelspec": {
   "display_name": "Python 3.9.12 ('hackathon')",
   "language": "python",
   "name": "python3"
  },
  "language_info": {
   "codemirror_mode": {
    "name": "ipython",
    "version": 3
   },
   "file_extension": ".py",
   "mimetype": "text/x-python",
   "name": "python",
   "nbconvert_exporter": "python",
   "pygments_lexer": "ipython3",
   "version": "3.9.12"
  },
  "orig_nbformat": 4
 },
 "nbformat": 4,
 "nbformat_minor": 2
}
