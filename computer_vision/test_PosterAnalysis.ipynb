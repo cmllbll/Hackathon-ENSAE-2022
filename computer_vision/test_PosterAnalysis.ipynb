{
 "cells": [
  {
   "cell_type": "code",
   "execution_count": 1,
   "metadata": {},
   "outputs": [],
   "source": [
    "from PosterAnalysis import analyse_img_from_url\n",
    "import pandas as pd\n",
    "from deepface import DeepFace\n",
    "from deepface.detectors import FaceDetector\n",
    "import yaml\n",
    "\n",
    "with open(\"config.yml\") as yml_file:\n",
    "    config = yaml.safe_load(yml_file)"
   ]
  },
  {
   "cell_type": "code",
   "execution_count": 2,
   "metadata": {},
   "outputs": [],
   "source": [
    "bechdel_df = pd.read_json('bechdel_data.json')\n",
    "imdb_df = pd.read_json('tmdb_data.json')"
   ]
  },
  {
   "cell_type": "code",
   "execution_count": 3,
   "metadata": {},
   "outputs": [],
   "source": [
    "imdb_df['imdb_id'] = imdb_df['imdb_id'].apply(lambda x: x[2:])"
   ]
  },
  {
   "cell_type": "code",
   "execution_count": 4,
   "metadata": {},
   "outputs": [],
   "source": [
    "merged_df = pd.merge(bechdel_df,imdb_df,left_on='imdbid', right_on='imdb_id')"
   ]
  },
  {
   "cell_type": "code",
   "execution_count": 5,
   "metadata": {},
   "outputs": [],
   "source": [
    "sample_df = merged_df.tail()"
   ]
  },
  {
   "cell_type": "code",
   "execution_count": null,
   "metadata": {},
   "outputs": [],
   "source": []
  },
  {
   "cell_type": "code",
   "execution_count": 6,
   "metadata": {},
   "outputs": [
    {
     "name": "stdout",
     "output_type": "stream",
     "text": [
      "[]\n",
      "[['Man', 1485.0], ['Man', 3149.0], ['Man', 1530.0]]\n",
      "[['Man', 115527.0]]\n",
      "[['Man', 25403.0], ['Woman', 22125.0]]\n",
      "[]\n"
     ]
    }
   ],
   "source": [
    "gender_detector = DeepFace.build_model(\"Gender\")\n",
    "face_detector = FaceDetector.build_model(config[\"detector_backend\"])\n",
    "age_detector = DeepFace.build_model(\"Age\")\n",
    "applied_df = sample_df.apply(lambda row: analyse_img_from_url(row['poster_path'], gender_detector=gender_detector, face_detector=face_detector, age_detector=age_detector), axis='columns', result_type='expand')\n",
    "applied_df.columns = ['nb_women', 'nb_men', 'area_women', 'area_men']"
   ]
  },
  {
   "cell_type": "code",
   "execution_count": null,
   "metadata": {},
   "outputs": [],
   "source": []
  }
 ],
 "metadata": {
  "interpreter": {
   "hash": "8a06b16eeb1aafe456feb02fe6e0b1401b216a035170a1a7613df3d99ddf6e3e"
  },
  "kernelspec": {
   "display_name": "Python 3.9.12 ('hackathon')",
   "language": "python",
   "name": "python3"
  },
  "language_info": {
   "codemirror_mode": {
    "name": "ipython",
    "version": 3
   },
   "file_extension": ".py",
   "mimetype": "text/x-python",
   "name": "python",
   "nbconvert_exporter": "python",
   "pygments_lexer": "ipython3",
   "version": "3.9.12"
  },
  "orig_nbformat": 4
 },
 "nbformat": 4,
 "nbformat_minor": 2
}
