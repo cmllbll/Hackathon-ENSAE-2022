{
 "cells": [
  {
   "cell_type": "code",
   "execution_count": null,
   "metadata": {},
   "outputs": [],
   "source": [
    "#pip install shap"
   ]
  },
  {
   "cell_type": "code",
   "execution_count": 1,
   "metadata": {},
   "outputs": [],
   "source": [
    "import os\n",
    "os.chdir('..')\n",
    "from database import main\n",
    "import shap\n",
    "from sklearn.model_selection import train_test_split\n"
   ]
  },
  {
   "cell_type": "code",
   "execution_count": 2,
   "metadata": {},
   "outputs": [
    {
     "name": "stdout",
     "output_type": "stream",
     "text": [
      "Downloading pre-trained model...\n",
      "Encoding sentences...\n",
      "Done.\n"
     ]
    },
    {
     "ename": "NameError",
     "evalue": "name 'genres_global' is not defined",
     "output_type": "error",
     "traceback": [
      "\u001b[0;31m---------------------------------------------------------------------------\u001b[0m",
      "\u001b[0;31mNameError\u001b[0m                                 Traceback (most recent call last)",
      "\u001b[1;32m/Users/thomaskientz/Documents/Github/Hackathon-ENSAE-2022/analysis/SHAP_analysis.ipynb Cell 3'\u001b[0m in \u001b[0;36m<cell line: 1>\u001b[0;34m()\u001b[0m\n\u001b[0;32m----> <a href='vscode-notebook-cell:/Users/thomaskientz/Documents/Github/Hackathon-ENSAE-2022/analysis/SHAP_analysis.ipynb#ch0000002?line=0'>1</a>\u001b[0m df \u001b[39m=\u001b[39m main()\n",
      "File \u001b[0;32m~/Documents/Github/Hackathon-ENSAE-2022/database.py:55\u001b[0m, in \u001b[0;36mmain\u001b[0;34m()\u001b[0m\n\u001b[1;32m     <a href='file:///Users/thomaskientz/Documents/Github/Hackathon-ENSAE-2022/database.py?line=51'>52</a>\u001b[0m             genres_global\u001b[39m.\u001b[39mappend(d[\u001b[39m\"\u001b[39m\u001b[39mname\u001b[39m\u001b[39m\"\u001b[39m])\n\u001b[1;32m     <a href='file:///Users/thomaskientz/Documents/Github/Hackathon-ENSAE-2022/database.py?line=52'>53</a>\u001b[0m     \u001b[39mreturn\u001b[39;00m genres\n\u001b[0;32m---> <a href='file:///Users/thomaskientz/Documents/Github/Hackathon-ENSAE-2022/database.py?line=54'>55</a>\u001b[0m df[\u001b[39m\"\u001b[39m\u001b[39mGenres\u001b[39m\u001b[39m\"\u001b[39m] \u001b[39m=\u001b[39m df[\u001b[39m\"\u001b[39;49m\u001b[39mgenres\u001b[39;49m\u001b[39m\"\u001b[39;49m]\u001b[39m.\u001b[39;49mapply(parse_genres)\n\u001b[1;32m     <a href='file:///Users/thomaskientz/Documents/Github/Hackathon-ENSAE-2022/database.py?line=56'>57</a>\u001b[0m \u001b[39mfor\u001b[39;00m genre \u001b[39min\u001b[39;00m genres_global:\n\u001b[1;32m     <a href='file:///Users/thomaskientz/Documents/Github/Hackathon-ENSAE-2022/database.py?line=57'>58</a>\u001b[0m     df[\u001b[39mf\u001b[39m\u001b[39m\"\u001b[39m\u001b[39mIs_\u001b[39m\u001b[39m\"\u001b[39m \u001b[39m+\u001b[39m genre] \u001b[39m=\u001b[39m df[\u001b[39m\"\u001b[39m\u001b[39mGenres\u001b[39m\u001b[39m\"\u001b[39m]\u001b[39m.\u001b[39mapply(\u001b[39mlambda\u001b[39;00m x: genre \u001b[39min\u001b[39;00m x)\n",
      "File \u001b[0;32m~/miniforge3/lib/python3.9/site-packages/pandas/core/series.py:4357\u001b[0m, in \u001b[0;36mSeries.apply\u001b[0;34m(self, func, convert_dtype, args, **kwargs)\u001b[0m\n\u001b[1;32m   <a href='file:///Users/thomaskientz/miniforge3/lib/python3.9/site-packages/pandas/core/series.py?line=4246'>4247</a>\u001b[0m \u001b[39mdef\u001b[39;00m \u001b[39mapply\u001b[39m(\n\u001b[1;32m   <a href='file:///Users/thomaskientz/miniforge3/lib/python3.9/site-packages/pandas/core/series.py?line=4247'>4248</a>\u001b[0m     \u001b[39mself\u001b[39m,\n\u001b[1;32m   <a href='file:///Users/thomaskientz/miniforge3/lib/python3.9/site-packages/pandas/core/series.py?line=4248'>4249</a>\u001b[0m     func: AggFuncType,\n\u001b[0;32m   (...)\u001b[0m\n\u001b[1;32m   <a href='file:///Users/thomaskientz/miniforge3/lib/python3.9/site-packages/pandas/core/series.py?line=4251'>4252</a>\u001b[0m     \u001b[39m*\u001b[39m\u001b[39m*\u001b[39mkwargs,\n\u001b[1;32m   <a href='file:///Users/thomaskientz/miniforge3/lib/python3.9/site-packages/pandas/core/series.py?line=4252'>4253</a>\u001b[0m ) \u001b[39m-\u001b[39m\u001b[39m>\u001b[39m FrameOrSeriesUnion:\n\u001b[1;32m   <a href='file:///Users/thomaskientz/miniforge3/lib/python3.9/site-packages/pandas/core/series.py?line=4253'>4254</a>\u001b[0m     \u001b[39m\"\"\"\u001b[39;00m\n\u001b[1;32m   <a href='file:///Users/thomaskientz/miniforge3/lib/python3.9/site-packages/pandas/core/series.py?line=4254'>4255</a>\u001b[0m \u001b[39m    Invoke function on values of Series.\u001b[39;00m\n\u001b[1;32m   <a href='file:///Users/thomaskientz/miniforge3/lib/python3.9/site-packages/pandas/core/series.py?line=4255'>4256</a>\u001b[0m \n\u001b[0;32m   (...)\u001b[0m\n\u001b[1;32m   <a href='file:///Users/thomaskientz/miniforge3/lib/python3.9/site-packages/pandas/core/series.py?line=4354'>4355</a>\u001b[0m \u001b[39m    dtype: float64\u001b[39;00m\n\u001b[1;32m   <a href='file:///Users/thomaskientz/miniforge3/lib/python3.9/site-packages/pandas/core/series.py?line=4355'>4356</a>\u001b[0m \u001b[39m    \"\"\"\u001b[39;00m\n\u001b[0;32m-> <a href='file:///Users/thomaskientz/miniforge3/lib/python3.9/site-packages/pandas/core/series.py?line=4356'>4357</a>\u001b[0m     \u001b[39mreturn\u001b[39;00m SeriesApply(\u001b[39mself\u001b[39;49m, func, convert_dtype, args, kwargs)\u001b[39m.\u001b[39;49mapply()\n",
      "File \u001b[0;32m~/miniforge3/lib/python3.9/site-packages/pandas/core/apply.py:1043\u001b[0m, in \u001b[0;36mSeriesApply.apply\u001b[0;34m(self)\u001b[0m\n\u001b[1;32m   <a href='file:///Users/thomaskientz/miniforge3/lib/python3.9/site-packages/pandas/core/apply.py?line=1038'>1039</a>\u001b[0m \u001b[39mif\u001b[39;00m \u001b[39misinstance\u001b[39m(\u001b[39mself\u001b[39m\u001b[39m.\u001b[39mf, \u001b[39mstr\u001b[39m):\n\u001b[1;32m   <a href='file:///Users/thomaskientz/miniforge3/lib/python3.9/site-packages/pandas/core/apply.py?line=1039'>1040</a>\u001b[0m     \u001b[39m# if we are a string, try to dispatch\u001b[39;00m\n\u001b[1;32m   <a href='file:///Users/thomaskientz/miniforge3/lib/python3.9/site-packages/pandas/core/apply.py?line=1040'>1041</a>\u001b[0m     \u001b[39mreturn\u001b[39;00m \u001b[39mself\u001b[39m\u001b[39m.\u001b[39mapply_str()\n\u001b[0;32m-> <a href='file:///Users/thomaskientz/miniforge3/lib/python3.9/site-packages/pandas/core/apply.py?line=1042'>1043</a>\u001b[0m \u001b[39mreturn\u001b[39;00m \u001b[39mself\u001b[39;49m\u001b[39m.\u001b[39;49mapply_standard()\n",
      "File \u001b[0;32m~/miniforge3/lib/python3.9/site-packages/pandas/core/apply.py:1098\u001b[0m, in \u001b[0;36mSeriesApply.apply_standard\u001b[0;34m(self)\u001b[0m\n\u001b[1;32m   <a href='file:///Users/thomaskientz/miniforge3/lib/python3.9/site-packages/pandas/core/apply.py?line=1091'>1092</a>\u001b[0m         values \u001b[39m=\u001b[39m obj\u001b[39m.\u001b[39mastype(\u001b[39mobject\u001b[39m)\u001b[39m.\u001b[39m_values\n\u001b[1;32m   <a href='file:///Users/thomaskientz/miniforge3/lib/python3.9/site-packages/pandas/core/apply.py?line=1092'>1093</a>\u001b[0m         \u001b[39m# error: Argument 2 to \"map_infer\" has incompatible type\u001b[39;00m\n\u001b[1;32m   <a href='file:///Users/thomaskientz/miniforge3/lib/python3.9/site-packages/pandas/core/apply.py?line=1093'>1094</a>\u001b[0m         \u001b[39m# \"Union[Callable[..., Any], str, List[Union[Callable[..., Any], str]],\u001b[39;00m\n\u001b[1;32m   <a href='file:///Users/thomaskientz/miniforge3/lib/python3.9/site-packages/pandas/core/apply.py?line=1094'>1095</a>\u001b[0m         \u001b[39m# Dict[Hashable, Union[Union[Callable[..., Any], str],\u001b[39;00m\n\u001b[1;32m   <a href='file:///Users/thomaskientz/miniforge3/lib/python3.9/site-packages/pandas/core/apply.py?line=1095'>1096</a>\u001b[0m         \u001b[39m# List[Union[Callable[..., Any], str]]]]]\"; expected\u001b[39;00m\n\u001b[1;32m   <a href='file:///Users/thomaskientz/miniforge3/lib/python3.9/site-packages/pandas/core/apply.py?line=1096'>1097</a>\u001b[0m         \u001b[39m# \"Callable[[Any], Any]\"\u001b[39;00m\n\u001b[0;32m-> <a href='file:///Users/thomaskientz/miniforge3/lib/python3.9/site-packages/pandas/core/apply.py?line=1097'>1098</a>\u001b[0m         mapped \u001b[39m=\u001b[39m lib\u001b[39m.\u001b[39;49mmap_infer(\n\u001b[1;32m   <a href='file:///Users/thomaskientz/miniforge3/lib/python3.9/site-packages/pandas/core/apply.py?line=1098'>1099</a>\u001b[0m             values,\n\u001b[1;32m   <a href='file:///Users/thomaskientz/miniforge3/lib/python3.9/site-packages/pandas/core/apply.py?line=1099'>1100</a>\u001b[0m             f,  \u001b[39m# type: ignore[arg-type]\u001b[39;49;00m\n\u001b[1;32m   <a href='file:///Users/thomaskientz/miniforge3/lib/python3.9/site-packages/pandas/core/apply.py?line=1100'>1101</a>\u001b[0m             convert\u001b[39m=\u001b[39;49m\u001b[39mself\u001b[39;49m\u001b[39m.\u001b[39;49mconvert_dtype,\n\u001b[1;32m   <a href='file:///Users/thomaskientz/miniforge3/lib/python3.9/site-packages/pandas/core/apply.py?line=1101'>1102</a>\u001b[0m         )\n\u001b[1;32m   <a href='file:///Users/thomaskientz/miniforge3/lib/python3.9/site-packages/pandas/core/apply.py?line=1103'>1104</a>\u001b[0m \u001b[39mif\u001b[39;00m \u001b[39mlen\u001b[39m(mapped) \u001b[39mand\u001b[39;00m \u001b[39misinstance\u001b[39m(mapped[\u001b[39m0\u001b[39m], ABCSeries):\n\u001b[1;32m   <a href='file:///Users/thomaskientz/miniforge3/lib/python3.9/site-packages/pandas/core/apply.py?line=1104'>1105</a>\u001b[0m     \u001b[39m# GH 25959 use pd.array instead of tolist\u001b[39;00m\n\u001b[1;32m   <a href='file:///Users/thomaskientz/miniforge3/lib/python3.9/site-packages/pandas/core/apply.py?line=1105'>1106</a>\u001b[0m     \u001b[39m# so extension arrays can be used\u001b[39;00m\n\u001b[1;32m   <a href='file:///Users/thomaskientz/miniforge3/lib/python3.9/site-packages/pandas/core/apply.py?line=1106'>1107</a>\u001b[0m     \u001b[39mreturn\u001b[39;00m obj\u001b[39m.\u001b[39m_constructor_expanddim(pd_array(mapped), index\u001b[39m=\u001b[39mobj\u001b[39m.\u001b[39mindex)\n",
      "File \u001b[0;32m~/miniforge3/lib/python3.9/site-packages/pandas/_libs/lib.pyx:2859\u001b[0m, in \u001b[0;36mpandas._libs.lib.map_infer\u001b[0;34m()\u001b[0m\n",
      "File \u001b[0;32m~/Documents/Github/Hackathon-ENSAE-2022/database.py:51\u001b[0m, in \u001b[0;36mmain.<locals>.parse_genres\u001b[0;34m(x)\u001b[0m\n\u001b[1;32m     <a href='file:///Users/thomaskientz/Documents/Github/Hackathon-ENSAE-2022/database.py?line=48'>49</a>\u001b[0m \u001b[39mfor\u001b[39;00m d \u001b[39min\u001b[39;00m x:\n\u001b[1;32m     <a href='file:///Users/thomaskientz/Documents/Github/Hackathon-ENSAE-2022/database.py?line=49'>50</a>\u001b[0m     genres\u001b[39m.\u001b[39mappend(d[\u001b[39m\"\u001b[39m\u001b[39mname\u001b[39m\u001b[39m\"\u001b[39m])\n\u001b[0;32m---> <a href='file:///Users/thomaskientz/Documents/Github/Hackathon-ENSAE-2022/database.py?line=50'>51</a>\u001b[0m     \u001b[39mif\u001b[39;00m d[\u001b[39m\"\u001b[39m\u001b[39mname\u001b[39m\u001b[39m\"\u001b[39m] \u001b[39mnot\u001b[39;00m \u001b[39min\u001b[39;00m genres_global:\n\u001b[1;32m     <a href='file:///Users/thomaskientz/Documents/Github/Hackathon-ENSAE-2022/database.py?line=51'>52</a>\u001b[0m         genres_global\u001b[39m.\u001b[39mappend(d[\u001b[39m\"\u001b[39m\u001b[39mname\u001b[39m\u001b[39m\"\u001b[39m])\n\u001b[1;32m     <a href='file:///Users/thomaskientz/Documents/Github/Hackathon-ENSAE-2022/database.py?line=52'>53</a>\u001b[0m \u001b[39mreturn\u001b[39;00m genres\n",
      "\u001b[0;31mNameError\u001b[0m: name 'genres_global' is not defined"
     ]
    }
   ],
   "source": [
    "df = main()"
   ]
  },
  {
   "cell_type": "code",
   "execution_count": 9,
   "metadata": {},
   "outputs": [],
   "source": [
    "from joblib import dump, load\n",
    "model = load('../models/accuracy_65_61.joblib') "
   ]
  },
  {
   "cell_type": "code",
   "execution_count": 10,
   "metadata": {},
   "outputs": [
    {
     "ename": "NameError",
     "evalue": "name 'df' is not defined",
     "output_type": "error",
     "traceback": [
      "\u001b[0;31m---------------------------------------------------------------------------\u001b[0m",
      "\u001b[0;31mNameError\u001b[0m                                 Traceback (most recent call last)",
      "\u001b[1;32m/Users/thomaskientz/Documents/Github/Hackathon-ENSAE-2022/analysis/SHAP_analysis.ipynb Cell 4'\u001b[0m in \u001b[0;36m<cell line: 1>\u001b[0;34m()\u001b[0m\n\u001b[0;32m----> <a href='vscode-notebook-cell:/Users/thomaskientz/Documents/Github/Hackathon-ENSAE-2022/analysis/SHAP_analysis.ipynb#ch0000002?line=0'>1</a>\u001b[0m y \u001b[39m=\u001b[39m df[\u001b[39m\"\u001b[39m\u001b[39mrating\u001b[39m\u001b[39m\"\u001b[39m]             \n\u001b[1;32m      <a href='vscode-notebook-cell:/Users/thomaskientz/Documents/Github/Hackathon-ENSAE-2022/analysis/SHAP_analysis.ipynb#ch0000002?line=1'>2</a>\u001b[0m X \u001b[39m=\u001b[39m df\u001b[39m.\u001b[39mdrop([\u001b[39m'\u001b[39m\u001b[39mrating\u001b[39m\u001b[39m'\u001b[39m], axis\u001b[39m=\u001b[39m\u001b[39m1\u001b[39m)\n\u001b[1;32m      <a href='vscode-notebook-cell:/Users/thomaskientz/Documents/Github/Hackathon-ENSAE-2022/analysis/SHAP_analysis.ipynb#ch0000002?line=3'>4</a>\u001b[0m \u001b[39m# Break off test set from the training data\u001b[39;00m\n",
      "\u001b[0;31mNameError\u001b[0m: name 'df' is not defined"
     ]
    }
   ],
   "source": [
    "y = df[\"rating\"]             \n",
    "X = df.drop(['rating'], axis=1)\n",
    "\n",
    "# Break off test set from the training data\n",
    "X_train, X_test, y_train, y_test = train_test_split(X, y, train_size=0.8, test_size=0.2)\n",
    "\n",
    "\n",
    "background = shap.maskers.TabularPartitions(X, sample=100)\n",
    "def f(x):\n",
    "    return shap.links.identity(model.predict_proba(x, validate_features=False)[:,1])\n",
    "explainer = shap.Explainer(f, background, link=shap.links.logit)\n",
    "shap_values = explainer(X[:100])"
   ]
  },
  {
   "cell_type": "code",
   "execution_count": null,
   "metadata": {},
   "outputs": [],
   "source": []
  }
 ],
 "metadata": {
  "interpreter": {
   "hash": "a0b90876d94adc511a3a8e7828b93a9386f377fbaaa85423f66fa343a060b8d4"
  },
  "kernelspec": {
   "display_name": "Python 3.9.7 ('base')",
   "language": "python",
   "name": "python3"
  },
  "language_info": {
   "codemirror_mode": {
    "name": "ipython",
    "version": 3
   },
   "file_extension": ".py",
   "mimetype": "text/x-python",
   "name": "python",
   "nbconvert_exporter": "python",
   "pygments_lexer": "ipython3",
   "version": "3.9.12"
  },
  "orig_nbformat": 4
 },
 "nbformat": 4,
 "nbformat_minor": 2
}
