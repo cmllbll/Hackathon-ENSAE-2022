{
 "cells": [
  {
   "cell_type": "code",
   "execution_count": 10,
   "metadata": {},
   "outputs": [],
   "source": [
    "os.chdir('..')"
   ]
  },
  {
   "cell_type": "code",
   "execution_count": 11,
   "metadata": {},
   "outputs": [
    {
     "ename": "ModuleNotFoundError",
     "evalue": "No module named 'sentence_transformers'",
     "output_type": "error",
     "traceback": [
      "\u001b[0;31m---------------------------------------------------------------------------\u001b[0m",
      "\u001b[0;31mModuleNotFoundError\u001b[0m                       Traceback (most recent call last)",
      "\u001b[1;32m/Users/g0bel1n/hackathon/analysis/script_analysis.ipynb Cell 2'\u001b[0m in \u001b[0;36m<cell line: 1>\u001b[0;34m()\u001b[0m\n\u001b[0;32m----> <a href='vscode-notebook-cell:/Users/g0bel1n/hackathon/analysis/script_analysis.ipynb#ch0000002?line=0'>1</a>\u001b[0m \u001b[39mfrom\u001b[39;00m \u001b[39mdatabase\u001b[39;00m \u001b[39mimport\u001b[39;00m main\n",
      "File \u001b[0;32m~/hackathon/database.py:3\u001b[0m, in \u001b[0;36m<module>\u001b[0;34m\u001b[0m\n\u001b[1;32m      <a href='file:///Users/g0bel1n/hackathon/database.py?line=0'>1</a>\u001b[0m \u001b[39mimport\u001b[39;00m \u001b[39mpandas\u001b[39;00m \u001b[39mas\u001b[39;00m \u001b[39mpd\u001b[39;00m\n\u001b[1;32m      <a href='file:///Users/g0bel1n/hackathon/database.py?line=1'>2</a>\u001b[0m \u001b[39mimport\u001b[39;00m \u001b[39mnumpy\u001b[39;00m \u001b[39mas\u001b[39;00m \u001b[39mnp\u001b[39;00m\n\u001b[0;32m----> <a href='file:///Users/g0bel1n/hackathon/database.py?line=2'>3</a>\u001b[0m \u001b[39mfrom\u001b[39;00m \u001b[39manalysis\u001b[39;00m\u001b[39m.\u001b[39;00m\u001b[39mNLP_PCA\u001b[39;00m \u001b[39mimport\u001b[39;00m add_NLP_cols\n\u001b[1;32m      <a href='file:///Users/g0bel1n/hackathon/database.py?line=3'>4</a>\u001b[0m \u001b[39mfrom\u001b[39;00m \u001b[39msklearn\u001b[39;00m\u001b[39m.\u001b[39;00m\u001b[39mpreprocessing\u001b[39;00m \u001b[39mimport\u001b[39;00m StandardScaler\n\u001b[1;32m      <a href='file:///Users/g0bel1n/hackathon/database.py?line=5'>6</a>\u001b[0m DATA_FOLDER \u001b[39m=\u001b[39m \u001b[39m\"\u001b[39m\u001b[39mdata\u001b[39m\u001b[39m\"\u001b[39m\n",
      "File \u001b[0;32m~/hackathon/analysis/__init__.py:1\u001b[0m, in \u001b[0;36m<module>\u001b[0;34m\u001b[0m\n\u001b[0;32m----> <a href='file:///Users/g0bel1n/hackathon/analysis/__init__.py?line=0'>1</a>\u001b[0m \u001b[39mfrom\u001b[39;00m \u001b[39mNLP_PCA\u001b[39;00m \u001b[39mimport\u001b[39;00m add_NLP_cols\n\u001b[1;32m      <a href='file:///Users/g0bel1n/hackathon/analysis/__init__.py?line=2'>3</a>\u001b[0m __all_ \u001b[39m=\u001b[39m [\u001b[39m\"\u001b[39m\u001b[39madd_NLP_cols\u001b[39m\u001b[39m\"\u001b[39m]\n",
      "File \u001b[0;32m~/hackathon/analysis/NLP_PCA.py:5\u001b[0m, in \u001b[0;36m<module>\u001b[0;34m\u001b[0m\n\u001b[1;32m      <a href='file:///Users/g0bel1n/hackathon/analysis/NLP_PCA.py?line=2'>3</a>\u001b[0m \u001b[39mfrom\u001b[39;00m \u001b[39msklearn\u001b[39;00m\u001b[39m.\u001b[39;00m\u001b[39mdecomposition\u001b[39;00m \u001b[39mimport\u001b[39;00m PCA\n\u001b[1;32m      <a href='file:///Users/g0bel1n/hackathon/analysis/NLP_PCA.py?line=3'>4</a>\u001b[0m \u001b[39mfrom\u001b[39;00m \u001b[39msklearn\u001b[39;00m\u001b[39m.\u001b[39;00m\u001b[39mpreprocessing\u001b[39;00m \u001b[39mimport\u001b[39;00m StandardScaler\n\u001b[0;32m----> <a href='file:///Users/g0bel1n/hackathon/analysis/NLP_PCA.py?line=4'>5</a>\u001b[0m \u001b[39mfrom\u001b[39;00m \u001b[39msentence_transformers\u001b[39;00m \u001b[39mimport\u001b[39;00m SentenceTransformer\n\u001b[1;32m      <a href='file:///Users/g0bel1n/hackathon/analysis/NLP_PCA.py?line=8'>9</a>\u001b[0m \u001b[39mdef\u001b[39;00m \u001b[39madd_NLP_cols\u001b[39m(df, n_PCA):\n\u001b[1;32m     <a href='file:///Users/g0bel1n/hackathon/analysis/NLP_PCA.py?line=9'>10</a>\u001b[0m     \u001b[39mprint\u001b[39m(\u001b[39m\"\u001b[39m\u001b[39mDownloading pre-trained model...\u001b[39m\u001b[39m\"\u001b[39m)\n",
      "\u001b[0;31mModuleNotFoundError\u001b[0m: No module named 'sentence_transformers'"
     ]
    }
   ],
   "source": [
    "from database import main"
   ]
  },
  {
   "cell_type": "code",
   "execution_count": null,
   "metadata": {},
   "outputs": [],
   "source": [
    "abandonné :("
   ]
  }
 ],
 "metadata": {
  "interpreter": {
   "hash": "a0b90876d94adc511a3a8e7828b93a9386f377fbaaa85423f66fa343a060b8d4"
  },
  "kernelspec": {
   "display_name": "Python 3.9.7 ('base')",
   "language": "python",
   "name": "python3"
  },
  "language_info": {
   "codemirror_mode": {
    "name": "ipython",
    "version": 3
   },
   "file_extension": ".py",
   "mimetype": "text/x-python",
   "name": "python",
   "nbconvert_exporter": "python",
   "pygments_lexer": "ipython3",
   "version": "3.9.12"
  },
  "orig_nbformat": 4
 },
 "nbformat": 4,
 "nbformat_minor": 2
}
