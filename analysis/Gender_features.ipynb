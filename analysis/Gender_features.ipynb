{
 "cells": [
  {
   "cell_type": "code",
   "execution_count": null,
   "id": "a26c53e1",
   "metadata": {},
   "outputs": [],
   "source": [
    "import gender_guesser.detector as gg\n",
    "import matplotlib as plt\n",
    "import pandas as pd\n",
    "import seaborn as sns\n",
    "\n",
    "plt.style.use('seaborn')"
   ]
  },
  {
   "cell_type": "code",
   "execution_count": null,
   "id": "8abc99f9",
   "metadata": {},
   "outputs": [],
   "source": [
    "data = pd.read_csv('../data/imdb-directors-writers-cast.csv', index_col=0)\n",
    "data.head()"
   ]
  },
  {
   "cell_type": "code",
   "execution_count": null,
   "id": "e879a32b",
   "metadata": {},
   "outputs": [],
   "source": [
    "len(data['id'].unique()) == len(data)"
   ]
  },
  {
   "cell_type": "code",
   "execution_count": null,
   "id": "8c2a148d",
   "metadata": {},
   "outputs": [],
   "source": [
    "len(data['directors'].dropna())"
   ]
  },
  {
   "cell_type": "code",
   "execution_count": null,
   "id": "2ac38bda",
   "metadata": {},
   "outputs": [],
   "source": [
    "data.dropna(inplace=True)"
   ]
  },
  {
   "cell_type": "code",
   "execution_count": null,
   "id": "39d1e0c3",
   "metadata": {},
   "outputs": [],
   "source": [
    "data[data['directors'].apply(lambda x: len(x.split('\\n'))) > 10].head()"
   ]
  },
  {
   "cell_type": "code",
   "execution_count": null,
   "id": "a2eeec66",
   "metadata": {},
   "outputs": [],
   "source": [
    "gender_to_score = {'male': 1,\n",
    "                   'mostly_male': 0.5,\n",
    "                   'andy': 0,\n",
    "                   'unknown': 0,\n",
    "                   'mostly_female': -0.5,\n",
    "                   'female': -1}"
   ]
  },
  {
   "cell_type": "code",
   "execution_count": null,
   "id": "b0de2d3f",
   "metadata": {},
   "outputs": [],
   "source": [
    "detector = gg.Detector()"
   ]
  },
  {
   "cell_type": "code",
   "execution_count": null,
   "id": "da47547c",
   "metadata": {},
   "outputs": [],
   "source": [
    "def gender_score(string):\n",
    "    list_first_names = string.split('\\n')\n",
    "    list_first_names = [name.split(' ')[0] for name in list_first_names]\n",
    "    list_genders = [detector.get_gender(firstname) for firstname in list_first_names]\n",
    "    scores = [gender_to_score[gender] for gender in list_genders]\n",
    "    return scores"
   ]
  },
  {
   "cell_type": "code",
   "execution_count": null,
   "id": "4529513a",
   "metadata": {},
   "outputs": [],
   "source": [
    "df = data.copy()\n",
    "\n",
    "for col in ('directors', 'writers', 'cast'):\n",
    "    df[col] = data[col].apply(gender_score)\n",
    "    df[col + '_male'] = df[col].apply(lambda x: sum([el for el in x if el > 0]))\n",
    "    df[col + '_female'] = df[col].apply(lambda x: sum([-el for el in x if el < 0]))\n",
    "    df[col] = df[col].apply(sum)"
   ]
  },
  {
   "cell_type": "code",
   "execution_count": null,
   "id": "ae3a6a8a",
   "metadata": {},
   "outputs": [],
   "source": [
    "df"
   ]
  },
  {
   "cell_type": "code",
   "execution_count": null,
   "id": "9ab352ec",
   "metadata": {},
   "outputs": [],
   "source": [
    "df.to_csv('../data/directors_writers_cast_score.csv', index=False)"
   ]
  }
 ],
 "metadata": {
  "kernelspec": {
   "display_name": "Python 3 (ipykernel)",
   "language": "python",
   "name": "python3"
  },
  "language_info": {
   "codemirror_mode": {
    "name": "ipython",
    "version": 3
   },
   "file_extension": ".py",
   "mimetype": "text/x-python",
   "name": "python",
   "nbconvert_exporter": "python",
   "pygments_lexer": "ipython3",
   "version": "3.8.10"
  },
  "latex_envs": {
   "LaTeX_envs_menu_present": true,
   "autoclose": true,
   "autocomplete": false,
   "bibliofile": "biblio.bib",
   "cite_by": "apalike",
   "current_citInitial": 1,
   "eqLabelWithNumbers": true,
   "eqNumInitial": 1,
   "hotkeys": {
    "equation": "Ctrl-E",
    "itemize": "Ctrl-I"
   },
   "labels_anchors": false,
   "latex_user_defs": false,
   "report_style_numbering": false,
   "user_envs_cfg": false
  },
  "toc": {
   "base_numbering": 1,
   "nav_menu": {},
   "number_sections": true,
   "sideBar": true,
   "skip_h1_title": true,
   "title_cell": "Table of Contents",
   "title_sidebar": "Contents",
   "toc_cell": false,
   "toc_position": {},
   "toc_section_display": true,
   "toc_window_display": false
  },
  "varInspector": {
   "cols": {
    "lenName": 16,
    "lenType": 16,
    "lenVar": 40
   },
   "kernels_config": {
    "python": {
     "delete_cmd_postfix": "",
     "delete_cmd_prefix": "del ",
     "library": "var_list.py",
     "varRefreshCmd": "print(var_dic_list())"
    },
    "r": {
     "delete_cmd_postfix": ") ",
     "delete_cmd_prefix": "rm(",
     "library": "var_list.r",
     "varRefreshCmd": "cat(var_dic_list()) "
    }
   },
   "types_to_exclude": [
    "module",
    "function",
    "builtin_function_or_method",
    "instance",
    "_Feature"
   ],
   "window_display": false
  }
 },
 "nbformat": 4,
 "nbformat_minor": 5
}
