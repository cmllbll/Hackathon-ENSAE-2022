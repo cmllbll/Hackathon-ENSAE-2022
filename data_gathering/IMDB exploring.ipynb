{
 "cells": [
  {
   "cell_type": "code",
   "execution_count": null,
   "id": "1e5aeaf0",
   "metadata": {},
   "outputs": [],
   "source": [
    "from imdb import Cinemagoer, IMDbDataAccessError\n",
    "from tqdm import TqdmExperimentalWarning as TEW\n",
    "import pandas as pd\n",
    "import os\n",
    "import warnings\n",
    "\n",
    "warnings.filterwarnings(action='ignore', category=TEW)\n",
    "from tqdm.autonotebook import tqdm"
   ]
  },
  {
   "cell_type": "code",
   "execution_count": null,
   "id": "3d7af5a1",
   "metadata": {},
   "outputs": [],
   "source": [
    "FILE_PATH = '../bechdel_data.json'"
   ]
  },
  {
   "cell_type": "code",
   "execution_count": null,
   "id": "db98f647",
   "metadata": {},
   "outputs": [],
   "source": [
    "data = pd.read_json(FILE_PATH)\n",
    "data.reset_index(inplace=True)\n",
    "data.drop(columns='index', inplace=True)\n",
    "print(f'There are {len(data)} films')\n",
    "data.head()"
   ]
  },
  {
   "cell_type": "code",
   "execution_count": null,
   "id": "c1860d28",
   "metadata": {},
   "outputs": [],
   "source": [
    "def add_infos(df, start_index=0, end_index=2000):\n",
    "    data = df.copy().iloc[start_index:end_index, :]\n",
    "    data['directors'] = pd.NA\n",
    "    data['writers'] = pd.NA\n",
    "    data['cast'] = pd.NA\n",
    "    \n",
    "    movie_fetcher = Cinemagoer()\n",
    "    index = start_index\n",
    "    movie_ids = data['imdbid'].to_list()\n",
    "    \n",
    "    for imdb_id in tqdm(movie_ids):\n",
    "        try:\n",
    "            movie = movie_fetcher.get_movie_full_credits(imdb_id)\n",
    "        except IMDbDataAccessError:\n",
    "            movie = {'data': {}}\n",
    "        try:\n",
    "            directors = movie['data']['director']\n",
    "            directors = [director['name'] for director in directors]\n",
    "        except KeyError:\n",
    "            directors = []\n",
    "        try:\n",
    "            cast = movie['data']['cast']\n",
    "            cast = [actor['name'] for actor in cast]\n",
    "        except KeyError:\n",
    "            cast = []  \n",
    "        try:\n",
    "            writers = movie['data']['writer']\n",
    "            writers = [writer['name'] for writer in writers if len(writer) > 0]\n",
    "        except:\n",
    "            writers = []\n",
    "        data.loc[index, 'directors'] = '\\n'.join(directors)\n",
    "        data.loc[index, 'writers'] = '\\n'.join(writers)\n",
    "        data.loc[index, 'cast'] = '\\n'.join(cast)\n",
    "        index += 1\n",
    "        \n",
    "    return data"
   ]
  },
  {
   "cell_type": "code",
   "execution_count": null,
   "id": "316445a1",
   "metadata": {},
   "outputs": [],
   "source": [
    "sub_df = add_infos(data, start_index=0, end_index=8475)\n",
    "if not os.path.exists('../data/'):\n",
    "    os.makedirs('../data/')\n",
    "sub_df.to_csv('../data/imdb-directors-writers-cast.csv')"
   ]
  }
 ],
 "metadata": {
  "kernelspec": {
   "display_name": "Python 3 (ipykernel)",
   "language": "python",
   "name": "python3"
  },
  "language_info": {
   "codemirror_mode": {
    "name": "ipython",
    "version": 3
   },
   "file_extension": ".py",
   "mimetype": "text/x-python",
   "name": "python",
   "nbconvert_exporter": "python",
   "pygments_lexer": "ipython3",
   "version": "3.8.10"
  },
  "latex_envs": {
   "LaTeX_envs_menu_present": true,
   "autoclose": true,
   "autocomplete": false,
   "bibliofile": "biblio.bib",
   "cite_by": "apalike",
   "current_citInitial": 1,
   "eqLabelWithNumbers": true,
   "eqNumInitial": 1,
   "hotkeys": {
    "equation": "Ctrl-E",
    "itemize": "Ctrl-I"
   },
   "labels_anchors": false,
   "latex_user_defs": false,
   "report_style_numbering": false,
   "user_envs_cfg": false
  },
  "toc": {
   "base_numbering": 1,
   "nav_menu": {},
   "number_sections": true,
   "sideBar": true,
   "skip_h1_title": true,
   "title_cell": "Table of Contents",
   "title_sidebar": "Contents",
   "toc_cell": false,
   "toc_position": {},
   "toc_section_display": true,
   "toc_window_display": false
  },
  "varInspector": {
   "cols": {
    "lenName": 16,
    "lenType": 16,
    "lenVar": 40
   },
   "kernels_config": {
    "python": {
     "delete_cmd_postfix": "",
     "delete_cmd_prefix": "del ",
     "library": "var_list.py",
     "varRefreshCmd": "print(var_dic_list())"
    },
    "r": {
     "delete_cmd_postfix": ") ",
     "delete_cmd_prefix": "rm(",
     "library": "var_list.r",
     "varRefreshCmd": "cat(var_dic_list()) "
    }
   },
   "position": {
    "height": "349.85px",
    "left": "1550px",
    "right": "20px",
    "top": "120px",
    "width": "350px"
   },
   "types_to_exclude": [
    "module",
    "function",
    "builtin_function_or_method",
    "instance",
    "_Feature"
   ],
   "window_display": true
  }
 },
 "nbformat": 4,
 "nbformat_minor": 5
}
