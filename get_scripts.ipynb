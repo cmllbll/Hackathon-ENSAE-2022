{
 "cells": [
  {
   "cell_type": "code",
   "execution_count": 73,
   "metadata": {
    "collapsed": true
   },
   "outputs": [],
   "source": [
    "from bs4 import BeautifulSoup\n",
    "import bs4\n",
    "import json\n",
    "import pandas as pd\n",
    "import numpy as np\n",
    "from urllib import request\n",
    "import parser\n",
    "from urllib import parse as parse"
   ]
  },
  {
   "cell_type": "markdown",
   "source": [
    "# Get list of films on IMSDB"
   ],
   "metadata": {
    "collapsed": false,
    "pycharm": {
     "name": "#%% md\n"
    }
   }
  },
  {
   "cell_type": "code",
   "execution_count": 37,
   "outputs": [],
   "source": [
    "url_allscripts = 'https://imsdb.com/all-scripts.html'\n",
    "req_text = request.urlopen(url_allscripts)\n",
    "page = bs4.BeautifulSoup(req_text,'html')\n",
    "#print(page)"
   ],
   "metadata": {
    "collapsed": false,
    "pycharm": {
     "name": "#%%\n"
    }
   }
  },
  {
   "cell_type": "code",
   "execution_count": 36,
   "outputs": [],
   "source": [
    "rows = page.findAll('p')\n",
    "movie_list = [row.a['title'] for row in rows]"
   ],
   "metadata": {
    "collapsed": false,
    "pycharm": {
     "name": "#%%\n"
    }
   }
  },
  {
   "cell_type": "code",
   "execution_count": 42,
   "outputs": [
    {
     "data": {
      "text/plain": "['10-Things-I-Hate-About-You',\n '12',\n '12-and-Holding',\n '12-Monkeys',\n '12-Years-a-Slave',\n '127-Hours',\n '1492--Conquest-of-Paradise',\n '15-Minutes',\n '17-Again',\n '187',\n '2001--A-Space-Odyssey',\n '2012',\n '25th-Hour',\n '28-Days-Later',\n '30-Minutes-or-Less',\n '42',\n '44-Inch-Chest',\n '48-Hrs.',\n '50-50',\n '500-Days-of-Summer',\n '8-Mile',\n '8MM',\n '9',\n 'A-Few-Good-Men',\n 'A-Most-Violent-Year',\n 'A-Prayer-Before-Dawn',\n 'A-Quiet-Place',\n 'A-Scanner-Darkly',\n 'A-Serious-Man',\n 'A.I.',\n 'Above-the-Law',\n 'Absolute-Power',\n 'Abyss,-The',\n 'Ace-Ventura--Pet-Detective',\n 'Adaptation',\n 'Addams-Family,-The',\n 'Adjustment-Bureau,-The',\n 'Adventures-of-Buckaroo-Banzai-Across-the-Eighth-Dimension,-The',\n 'Affliction',\n 'After-School-Special',\n 'After.Life',\n 'Agnes-of-God',\n 'Air-Force-One',\n 'Airplane',\n 'Airplane-2--The-Sequel',\n 'Aladdin',\n 'Ali',\n 'Alien',\n 'Alien-3',\n 'Alien-Nation',\n 'Alien-vs.-Predator',\n 'Alien--Resurrection',\n 'Aliens',\n 'All-About-Eve',\n 'All-About-Steve',\n \"All-the-King's-Men\",\n \"All-the-President's-Men\",\n 'Almost-Famous',\n 'Alone-in-the-Dark',\n 'Amadeus',\n 'Amelia',\n 'American-Beauty',\n 'American-Gangster',\n 'American-Graffiti',\n 'American-History-X',\n 'American-Hustle',\n 'American-Madness',\n 'American-Milkshake',\n 'American-Outlaws',\n 'American-Pie',\n 'American-President,-The',\n 'American-Psycho',\n 'American-Shaolin--King-of-Kickboxers-II',\n 'American-Sniper',\n 'American-Splendor',\n 'American-Werewolf-in-London',\n 'American,-The',\n 'Amityville-Asylum,-The',\n 'Amour',\n 'An-Education',\n 'Analyze-That',\n 'Analyze-This',\n 'Anastasia',\n 'Angel-Eyes',\n 'Angels-&-Demons',\n 'Anna-Karenina',\n 'Annie-Hall',\n 'Anniversary-Party,-The',\n 'Anonymous',\n 'Antitrust',\n 'Antz',\n 'Apartment,-The',\n 'Apocalypse-Now',\n 'Apollo-13',\n \"April-Fool's-Day\",\n 'Apt-Pupil',\n 'Arbitrage',\n 'Arcade',\n 'Arctic-Blue',\n 'Argo',\n 'Armageddon',\n 'Army-of-Darkness',\n 'Arsenic-and-Old-Lace',\n 'Arthur',\n 'Artist,-The',\n 'As-Good-As-It-Gets',\n 'Assassins',\n 'Assignment,-The',\n 'At-First-Sight',\n 'August--Osage-County',\n 'Austin-Powers---International-Man-of-Mystery',\n 'Austin-Powers---The-Spy-Who-Shagged-Me',\n 'Authors-Anonymous',\n 'Autumn-in-New-York',\n 'Avatar',\n 'Avengers,-The',\n 'Avengers,-The-(2012)',\n \"Avventura,-L'-(The-Adventure)\",\n 'Awakenings',\n 'Babel',\n 'Bachelor-Party',\n 'Bachelor-Party,-The',\n 'Back-to-the-Future',\n 'Back-to-the-Future-II-&-III',\n 'Back-up-Plan,-The',\n 'Backdraft',\n 'Bad-Boys',\n 'Bad-Country',\n 'Bad-Day-at-Black-Rock',\n 'Bad-Dreams',\n 'Bad-Lieutenant',\n 'Bad-Santa',\n 'Bad-Teacher',\n 'Badlands',\n 'Bamboozled',\n 'Barry-Lyndon',\n 'Barton-Fink',\n 'Basic',\n 'Basic-Instinct',\n 'Basquiat',\n 'Batman',\n 'Batman-2',\n 'Batman-and-Robin',\n 'Batman-Begins',\n 'Batman-Forever',\n 'Batman-Returns',\n 'Battle-of-Algiers,-The',\n 'Battle-of-Shaker-Heights,-The',\n 'Battle--Los-Angeles',\n 'Beach,-The',\n 'Bean',\n 'Beasts-of-No-Nation',\n 'Beasts-of-the-Southern-Wild',\n 'Beauty-and-the-Beast',\n 'Beavis-and-Butt-head-Do-America',\n 'Beginners',\n 'Being-Human',\n 'Being-John-Malkovich',\n 'Being-There',\n 'Believer,-The',\n 'Belle',\n 'Beloved',\n 'Benny-&-Joon',\n 'Best-Exotic-Marigold-Hotel,-The',\n 'Big',\n 'Big-Blue,-The',\n 'Big-Eyes',\n 'Big-Fish',\n 'Big-Lebowski,-The',\n 'Big-Sick,-The',\n 'Big-White,-The',\n 'Birdman',\n 'Birds,-The',\n 'Birthday-Girl',\n 'Black-Dahlia,-The',\n 'Black-Panther',\n 'Black-Rain',\n 'Black-Snake-Moan',\n 'Black-Swan',\n 'BlacKkKlansman',\n 'Blade',\n 'Blade-II',\n 'Blade-Runner',\n 'Blade--Trinity',\n 'Blast-from-the-Past,-The',\n 'Blind-Side,-The',\n 'Bling-Ring,-The',\n 'Blood-and-Wine',\n 'Blood-Simple',\n 'Blow',\n 'Blue-Valentine',\n 'Blue-Velvet',\n 'Blues-Brothers,-The',\n 'Bodies,-Rest-&-Motion',\n 'Body-Heat',\n 'Body-of-Evidence',\n 'Bodyguard',\n 'Bones',\n 'Bonfire-of-the-Vanities',\n 'Bonnie-and-Clyde',\n 'Boogie-Nights',\n 'Book-of-Eli,-The',\n 'Boondock-Saints-2--All-Saints-Day',\n 'Boondock-Saints,-The',\n 'Bottle-Rocket',\n 'Bound',\n 'Bounty-Hunter,-The',\n 'Bourne-Identity,-The',\n 'Bourne-Supremacy,-The',\n 'Bourne-Ultimatum,-The',\n 'Box,-The',\n 'Boxtrolls,-The',\n 'Boyhood',\n 'Braveheart',\n 'Brazil',\n 'Break',\n 'Breakdown',\n 'Breakfast-Club,-The',\n 'Breaking-Away',\n 'Brick',\n 'Bridesmaids',\n 'Bringing-Out-the-Dead',\n 'Broadcast-News',\n 'Broken-Arrow',\n 'Broken-Embraces',\n 'Brothers-Bloom,-The',\n 'Bruce-Almighty',\n 'Buffy-the-Vampire-Slayer',\n 'Bull-Durham',\n 'Buried',\n 'Burlesque',\n 'Burn-After-Reading',\n 'Burning-Annie',\n 'Butterfly-Effect,-The',\n 'Cable-Guy',\n 'Candle-to-Water',\n 'Capote',\n 'Carrie',\n 'Cars-2',\n 'Casablanca',\n 'Case-39',\n 'Casino',\n 'Cast-Away',\n 'Catch-Me-If-You-Can',\n 'Catwoman',\n 'Cecil-B.-Demented',\n 'Cedar-Rapids',\n 'Celeste-&-Jesse-Forever',\n 'Cell,-The',\n 'Cellular',\n 'Change-Up,-The',\n 'Changeling',\n 'Chaos',\n 'Charade',\n \"Charlie's-Angels\",\n 'Chasing-Amy',\n 'Chasing-Sleep',\n 'Cherry-Falls',\n 'Chinatown',\n 'Christ-Complex',\n 'Chronicle',\n 'Chronicles-of-Narnia--The-Lion,-the-Witch-and-the-Wardrobe',\n 'Cider-House-Rules,-The',\n 'Cincinnati-Kid,-The',\n 'Cinema-Paradiso',\n \"Cirque-du-Freak--The-Vampire's-Assistant\",\n 'Citizen-Kane',\n 'City-of-Joy',\n 'Clash-of-the-Titans',\n 'Clerks',\n 'Cliffhanger',\n 'Clockwork-Orange,-A',\n 'Clueless',\n 'Cobb',\n 'Coco',\n 'Code-of-Silence',\n 'Cold-Mountain',\n 'Collateral',\n 'Collateral-Damage',\n 'Colombiana',\n 'Color-of-Night',\n 'Commando',\n 'Conan-the-Barbarian',\n 'Confessions-of-a-Dangerous-Mind',\n 'Confidence',\n 'Constantine',\n 'Contact',\n 'Cooler,-The',\n 'Copycat',\n 'Coraline',\n 'Coriolanus',\n 'Courage-Under-Fire',\n 'Cowboys-&-Aliens',\n 'Cradle-2-the-Grave',\n 'Crank',\n 'Crash',\n 'Crazy,-Stupid,-Love',\n 'Crazylove',\n 'Creation',\n 'Crime-Spree',\n 'Croods,-The',\n 'Crouching-Tiger,-Hidden-Dragon',\n 'Croupier',\n 'Crow-Salvation,-The',\n 'Crow,-The',\n 'Crow--City-of-Angels,-The',\n 'Cruel-Intentions',\n 'Crying-Game',\n 'Cube',\n 'Curious-Case-of-Benjamin-Button,-The',\n 'Custody',\n 'Dallas-Buyers-Club',\n 'Damned-United,-The',\n 'Dances-with-Wolves',\n 'Danish-Girl,-The',\n 'Dark-City',\n 'Dark-Knight-Rises,-The',\n 'Dark-Knight,-The',\n 'Dark-Star',\n 'Darkman',\n 'Date-Night',\n \"Dave-Barry's-Complete-Guide-to-Guys\",\n 'Dawn-of-the-Dead',\n 'Day-of-the-Dead',\n 'Day-the-Clown-Cried,-The',\n 'Day-the-Earth-Stood-Still,-The',\n 'Days-of-Heaven',\n 'Dead-Poets-Society',\n 'Deadpool',\n 'Dear-White-People',\n 'Death-at-a-Funeral',\n 'Death-to-Smoochy',\n 'Debt,-The',\n 'Deception',\n 'Deep-Cover',\n 'Deep-Rising',\n 'Deer-Hunter,-The',\n 'Defiance',\n 'Departed,-The',\n 'Descendants,-The',\n 'Despicable-Me-2',\n 'Detroit-Rock-City',\n 'Devil-in-a-Blue-Dress',\n 'Devil-Wears-Prada,-The',\n \"Devil's-Advocate\",\n 'Die-Hard',\n 'Die-Hard-2',\n 'Diner',\n 'Distinguished-Gentleman,-The',\n 'Disturbia',\n 'Django-Unchained',\n 'Do-The-Right-Thing',\n 'Dog-Day-Afternoon',\n 'Dogma',\n 'Donnie-Brasco',\n 'Donnie-Darko',\n 'Doors,-The',\n 'Double-Indemnity',\n 'Drag-Me-to-Hell',\n 'Dragonslayer',\n 'Drive',\n 'Drive-Angry',\n 'Drop-Dead-Gorgeous',\n 'Dry-White-Season,-A',\n 'Duck-Soup',\n 'Dumb-and-Dumber',\n 'Dune',\n 'E.T.',\n 'Eagle-Eye',\n 'Eastern-Promises',\n 'Easy-A',\n 'Ed-TV',\n 'Ed-Wood',\n 'Edward-Scissorhands',\n 'Eight-Legged-Freaks',\n 'El-Mariachi',\n 'Election',\n 'Elephant-Man,-The',\n 'Elizabeth--The-Golden-Age',\n 'Enemy-of-the-State',\n 'English-Patient,-The',\n 'Enough',\n 'Entrapment',\n 'Equilibrium',\n 'Erik-the-Viking',\n 'Erin-Brockovich',\n 'Escape-From-L.A.',\n 'Escape-From-New-York',\n 'Eternal-Sunshine-of-the-Spotless-Mind',\n 'Even-Cowgirls-Get-the-Blues',\n 'Event-Horizon',\n 'Evil-Dead',\n 'Evil-Dead-II--Dead-by-Dawn',\n 'Ex-Machina',\n 'Excalibur',\n 'Executive-Decision',\n 'eXistenZ',\n 'Extract',\n 'Eyes-Wide-Shut',\n 'Fabulous-Baker-Boys,-The',\n 'Face-Off',\n 'Fair-Game',\n 'Family-Man,-The',\n 'Fantastic-Four',\n 'Fantastic-Mr-Fox',\n 'Fargo',\n 'Fast-Times-at-Ridgemont-High',\n 'Fatal-Instinct',\n 'Fault-in-Our-Stars,-The',\n 'Fear-and-Loathing-in-Las-Vegas',\n 'Feast',\n \"Ferris-Bueller's-Day-Off\",\n 'Field-of-Dreams',\n 'Fifth-Element,-The',\n 'Fight-Club',\n 'Fighter,-The',\n 'Final-Destination',\n 'Final-Destination-2',\n 'Finding-Nemo',\n 'Five-Easy-Pieces',\n 'Flash-Gordon',\n 'Fletch',\n 'Flight',\n 'Flintstones,-The',\n 'Forrest-Gump',\n 'Four-Feathers',\n 'Four-Rooms',\n 'Foxcatcher',\n 'Fracture',\n 'Frances',\n 'Frankenstein',\n 'Frankenweenie',\n 'Freaked',\n 'Freddy-vs.-Jason',\n 'French-Connection,-The',\n 'Frequency',\n 'Friday-the-13th',\n 'Friday-the-13th-Part-VIII--Jason-Takes-Manhattan',\n 'Fright-Night',\n 'Fright-Night-(1985)',\n 'From-Dusk-Till-Dawn',\n 'From-Here-to-Eternity',\n 'Frozen',\n 'Frozen-(Disney)',\n 'Frozen-River',\n 'Fruitvale-Station',\n 'Fugitive,-The',\n 'Full-Metal-Jacket',\n 'Funny-People',\n 'Fury',\n 'G.I.-Jane',\n 'G.I.-Joe--The-Rise-of-Cobra',\n 'Game-6',\n 'Game,-The',\n 'Gamer',\n 'Gandhi',\n 'Gang-Related',\n 'Gangs-of-New-York',\n 'Garden-State',\n 'Gattaca',\n 'Get-Carter',\n 'Get-Low',\n 'Get-on-Up',\n 'Get-Out',\n 'Get-Shorty',\n 'Getaway,-The',\n 'Ghost',\n 'Ghost-and-the-Darkness,-The',\n 'Ghost-Rider',\n 'Ghost-Ship',\n 'Ghost-World',\n 'Ghostbusters',\n 'Ghostbusters-2',\n 'Ginger-Snaps',\n 'Girl-with-the-Dragon-Tattoo,-The',\n 'Gladiator',\n 'Glengarry-Glen-Gross',\n 'Go',\n 'Godfather',\n 'Godfather-Part-II',\n 'Godfather-Part-III,-The',\n 'Gods-and-Monsters',\n 'Godzilla',\n 'Gone-Baby-Gone',\n 'Gone-in-60-Seconds',\n 'Good-Girl,-The',\n 'Good-Will-Hunting',\n 'Goodfellas',\n 'Gothika',\n 'Grabbers',\n 'Graduate,-The',\n 'Gran-Torino',\n 'Grand-Hotel',\n 'Grand-Theft-Parsons',\n 'Grapes-of-Wrath,-The',\n 'Gravity',\n 'Great-Gatsby,-The',\n 'Green-Mile,-The',\n 'Gremlins',\n 'Gremlins-2',\n 'Grifters,-The',\n 'Grosse-Point-Blank',\n 'Groundhog-Day',\n 'Grudge,-The',\n 'Guardians-of-the-Galaxy-Vol-2',\n 'Hackers',\n 'Hall-Pass',\n 'Halloween',\n 'Halloween--The-Curse-of-Michael-Myers',\n 'Hancock',\n 'Hangover,-The',\n 'Hanna',\n 'Hannah-and-Her-Sisters',\n 'Hannibal',\n 'Happy-Birthday,-Wanda-June',\n 'Happy-Feet',\n 'Hard-Rain',\n 'Hard-to-Kill',\n 'Harold-and-Kumar-Go-to-White-Castle',\n 'Harry-Potter-and-the-Chamber-of-Secrets',\n 'Harry-Potter-and-the-Deathly-Hallows-Part-1',\n 'Harry-Potter-and-the-Goblet-of-Fire',\n 'Harry-Potter-and-the-Half-Blood-Prince',\n 'Harry-Potter-and-the-Prisoner-of-Azkaban',\n \"Harry-Potter-and-the-Sorcerer's-Stone\",\n 'Haunting,-The',\n \"He's-Just-Not-That-Into-You\",\n 'Heat',\n 'Heathers',\n 'Heavenly-Creatures',\n 'Heavy-Metal',\n 'Hebrew-Hammer,-The',\n 'Heist',\n 'Hellbound--Hellraiser-II',\n 'Hellboy',\n 'Hellboy-2--The-Golden-Army',\n 'Hellraiser',\n 'Hellraiser-3--Hell-on-Earth',\n 'Hellraiser--Deader',\n 'Hellraiser--Hellseeker',\n 'Help,-The',\n 'Henry-Fool',\n \"Henry's-Crime\",\n 'Her',\n 'Hesher',\n 'High-Fidelity',\n 'Highlander',\n 'Highlander--Endgame',\n 'Hills-Have-Eyes,-The',\n 'His-Girl-Friday',\n 'Hitchcock',\n \"Hitchhiker's-Guide-to-the-Galaxy,-The\",\n 'Hollow-Man',\n 'Honeydripper',\n 'Horrible-Bosses',\n 'Horse-Whisperer,-The',\n 'Hospital,-The',\n 'Hostage',\n 'Hot-Tub-Time-Machine',\n 'Hotel-Rwanda',\n 'House-of-1000-Corpses',\n 'How-to-Lose-Friends-&-Alienate-People',\n 'How-to-Train-Your-Dragon',\n 'How-to-Train-Your-Dragon-2',\n 'Hudson-Hawk',\n 'Hudsucker-Proxy,-The',\n 'Human-Nature',\n 'Hunt-for-Red-October,-The',\n 'Hurt-Locker,-The',\n 'I-Am-Number-Four',\n 'I-am-Sam',\n 'I-Love-You-Phillip-Morris',\n 'I-Spit-on-Your-Grave',\n 'I-Still-Know-What-You-Did-Last-Summer',\n \"I'll-Do-Anything\",\n 'I,-Robot',\n 'Ice-Storm,-The',\n 'Ides-of-March,-The',\n 'Imaginarium-of-Doctor-Parnassus,-The',\n 'In-the-Bedroom',\n 'In-the-Loop',\n 'Inception',\n 'Incredibles,-The',\n 'Independence-Day',\n 'Indiana-Jones-and-the-Last-Crusade',\n 'Indiana-Jones-and-the-Raiders-of-the-Lost-Ark',\n 'Indiana-Jones-and-the-Temple-of-Doom',\n 'Indiana-Jones-IV',\n 'Informant,-The',\n 'Inglourious-Basterds',\n 'Innerspace',\n 'Insider,-The',\n 'Insidious',\n 'Insomnia',\n 'Interstellar',\n 'Interview-with-the-Vampire',\n 'Into-the-Wild',\n 'Into-the-Woods',\n 'Intolerable-Cruelty',\n 'Inventing-the-Abbotts',\n 'Invention-of-Lying,-The',\n 'Invictus',\n 'Iron-Lady,-The',\n 'Island,-The',\n 'It',\n 'It-Happened-One-Night',\n 'It-Happened-One-Night',\n \"It's-a-Wonderful-Life\",\n \"It's-Complicated\",\n 'Italian-Job,-The',\n 'Jacket,-The',\n 'Jackie-Brown',\n \"Jacob's-Ladder\",\n 'Jade',\n 'Jane-Eyre',\n 'Jason-X',\n 'Jaws',\n 'Jaws-2',\n 'Jay-and-Silent-Bob-Strike-Back',\n 'Jennifer-Eight',\n \"Jennifer's-Body\",\n 'Jerry-Maguire',\n 'Jeux-Interdits',\n 'JFK',\n 'Jimmy-and-Judy',\n 'John-Q',\n 'John-Wick',\n 'Joker',\n 'Judge-Dredd',\n 'Juno',\n 'Jurassic-Park',\n 'Jurassic-Park-III',\n 'Jurassic-Park--The-Lost-World',\n 'Kafka',\n 'Kalifornia',\n 'Kate-&-Leopold',\n 'Kids',\n 'Kids-Are-All-Right,-The',\n 'Kill-Bill-Volume-1-&-2',\n 'Kill-Your-Darlings',\n 'Killing-Zoe',\n 'King-Kong',\n 'King-of-Comedy,-The',\n \"King's-Speech,-The\",\n 'Kingdom,-The',\n 'Kiss-of-the-Spider-Woman',\n 'Klute',\n 'Knocked-Up',\n 'Kramer-vs-Kramer',\n 'Kundun',\n 'Kung-Fu-Panda',\n 'L.A.-Confidential',\n 'La-La-Land',\n 'Labor-of-Love',\n 'Labyrinth',\n 'Ladykillers,-The',\n 'Lake-Placid',\n 'Land-of-the-Dead',\n 'Larry-Crowne',\n 'Last-Boy-Scout,-The',\n 'Last-Chance-Harvey',\n 'Last-Flight,-The',\n 'Last-of-the-Mohicans,-The',\n 'Last-Samurai,-The',\n 'Last-Station,-The',\n 'Last-Tango-in-Paris',\n 'Law-Abiding-Citizen',\n 'Le-Diable-par-la-Queue',\n 'Leaving-Las-Vegas',\n 'Legally-Blonde',\n 'Legend',\n 'Legion',\n 'LEGO-Movie,-The',\n 'Les-Miserables',\n 'Les-Tontons-Flingueurs',\n 'Lethal-Weapon',\n 'Lethal-Weapon-4',\n 'Leviathan',\n 'Liar-Liar',\n 'Life',\n 'Life-As-A-House',\n 'Life-of-David-Gale,-The',\n 'Life-of-Pi',\n 'Light-Sleeper',\n 'Limey,-The',\n 'Limitless',\n 'Lincoln',\n 'Lincoln-Lawyer,-The',\n 'Lion-King,-The',\n 'Little-Athens',\n 'Little-Men',\n 'Little-Mermaid,-The',\n 'Little-Nicky',\n 'Living-in-Oblivion',\n 'Lock,-Stock-and-Two-Smoking-Barrels',\n 'Logan',\n \"Logan's-Run\",\n 'Lone-Star',\n 'Long-Kiss-Goodnight,-The',\n 'Looper',\n 'Lord-of-Illusions',\n 'Lord-of-the-Rings--Fellowship-of-the-Ring,-The',\n 'Lord-of-the-Rings--Return-of-the-King',\n 'Lord-of-the-Rings--The-Two-Towers',\n 'Lord-of-War',\n 'Losers,-The',\n 'Lost-Highway',\n 'Lost-Horizon',\n 'Lost-in-Space',\n 'Lost-in-Translation',\n 'Love-and-Basketball',\n 'Machete',\n 'Machine-Gun-Preacher',\n 'Mad-Max-2--The-Road-Warrior',\n 'Made',\n 'Magnolia',\n 'Majestic,-The-(The-Bijou)',\n 'Major-League',\n 'Malcolm-X',\n \"Malibu's-Most-Wanted\",\n 'Man-in-the-Iron-Mask',\n 'Man-On-Fire',\n 'Man-on-the-Moon',\n 'Man-Trouble',\n 'Man-Who-Knew-Too-Much,-The',\n \"Man-Who-Wasn't-There,-The\",\n 'Manchurian-Candidate,-The',\n 'Manhattan-Murder-Mystery',\n 'Manhunter',\n 'Margaret',\n 'Margin-Call',\n 'Margot-at-the-Wedding',\n 'Mariachi,-El',\n 'Marley-&-Me',\n 'Martha-Marcy-May-Marlene',\n 'Martian,-The',\n 'Marty',\n 'Mary-Poppins',\n 'Mask,-The',\n 'Master-and-Commander',\n 'Master,-The',\n 'Matchstick-Men',\n 'Matrix-Reloaded,-The',\n 'Matrix,-The',\n 'Max-Payne',\n 'Mean-Streets',\n 'Mechanic,-The',\n 'Meet-Joe-Black',\n 'Meet-John-Doe',\n 'Megamind',\n 'Memento',\n 'Men-in-Black',\n 'Men-in-Black-3',\n 'Men-Who-Stare-at-Goats,-The',\n 'Metro',\n 'Miami-Vice',\n 'Midnight-Cowboy',\n 'Midnight-Express',\n 'Midnight-in-Paris',\n 'Mighty-Joe-Young',\n 'Mighty-Morphin-Power-Rangers--The-Movie',\n 'Milk',\n \"Miller's-Crossing\",\n 'Mimic',\n \"Mini's-First-Time\",\n 'Minority-Report',\n 'Miracle-Worker,-The',\n 'Mirrors',\n 'Misery',\n 'Mission-Impossible',\n 'Mission-Impossible-II',\n 'Mission-to-Mars',\n 'Moneyball',\n 'Monkeybone',\n \"Monster's-Ball\",\n 'Monte-Carlo',\n 'Moon',\n 'Moonrise-Kingdom',\n 'Moonstruck',\n 'Mr-Blandings-Builds-His-Dream-House',\n 'Mr-Brooks',\n 'Mr-Deeds-Goes-to-Town',\n \"Mr.-Holland's-Opus\",\n 'Mrs.-Brown',\n 'Mud',\n 'Mulan',\n 'Mulholland-Drive',\n 'Mumford',\n 'Mummy,-The',\n 'Music-of-the-Heart',\n 'Mute-Witness',\n \"My-Best-Friend's-Wedding\",\n 'My-Girl',\n \"My-Mother-Dreams-the-Satan's-Disciples-in-New-York\",\n 'My-Week-with-Marilyn',\n 'Mystery-Men',\n 'Napoleon-Dynamite',\n 'Nashville',\n 'Natural-Born-Killers',\n 'Never-Been-Kissed',\n 'Neverending-Story,-The',\n 'New-York-Minute',\n 'Newsies',\n 'Next',\n 'Next-Friday',\n 'Next-Three-Days,-The',\n 'Ni-vu-ni-connu',\n 'Nick-of-Time',\n 'Night-Time-(The-Poltergeist-Treatment)',\n 'Nightbreed',\n 'Nightmare-Before-Christmas,-The',\n 'Nightmare-Before-Christmas,-The',\n 'Nightmare-on-Elm-Street,-A',\n 'Nightmare-on-Elm-Street--The-Final-Chapter',\n 'Nine',\n 'Nines,-The',\n 'Ninja-Assassin',\n 'Ninotchka',\n 'Ninth-Gate,-The',\n 'No-Country-for-Old-Men',\n 'No-Strings-Attached',\n 'Notting-Hill',\n 'Nurse-Betty',\n 'O-Brother-Where-Art-Thou?',\n 'Oblivion',\n 'Observe-and-Report',\n 'Obsessed',\n \"Ocean's-Eleven\",\n \"Ocean's-Twelve\",\n 'Office-Space',\n 'Officer-and-a-Gentleman,-An',\n 'Omega-Man',\n \"One-Flew-Over-the-Cuckoo's-Nest\",\n 'Only-God-Forgives',\n 'Ordinary-People',\n 'Orgy-of-the-Dead',\n 'Orphan',\n 'Other-Boleyn-Girl,-The',\n 'Out-of-Sight',\n 'Outbreak',\n 'Pacifier,-The',\n 'Pandorum',\n 'Panic-Room',\n 'Papadopoulos-&-Sons',\n 'ParaNorman',\n 'Pariah',\n 'Passengers',\n 'Passion-of-Joan-of-Arc,-The',\n 'Patriot,-The',\n 'Paul',\n 'Pearl-Harbor',\n 'Peeping-Tom',\n 'Peggy-Sue-Got-Married',\n 'Perfect-Creature',\n 'Perfect-World,-A',\n 'Perks-of-Being-a-Wallflower,-The',\n 'Pet-Sematary',\n 'Pet-Sematary-II',\n 'Petulia',\n 'Philadelphia',\n 'Phone-Booth',\n 'Pi',\n 'Pianist,-The',\n 'Piano,-The',\n 'Pineapple-Express',\n 'Pirates-of-the-Caribbean',\n \"Pirates-of-the-Caribbean--Dead-Man's-Chest\",\n 'Pitch-Black',\n 'Planet-of-the-Apes,-The',\n 'Platinum-Blonde',\n 'Platoon',\n 'Pleasantville',\n 'Point-Break',\n 'Pokemon--Mewtwo-Returns',\n 'Postman,-The',\n 'Power-of-One,-The',\n 'Precious',\n 'Predator',\n 'Prestige,-The',\n 'Pretty-Woman',\n 'Pretty-Woman-(final-script)',\n 'Pride-and-Prejudice',\n 'Priest',\n 'Princess-Bride,-The',\n 'Private-Life-of-Sherlock-Holmes,-The',\n 'Producer,-The',\n 'Program,-The',\n 'Prom-Night',\n 'Prometheus',\n 'Prophecy,-The',\n 'Proposal,-The',\n 'Psycho',\n 'Public-Enemies',\n 'Pulp-Fiction',\n 'Punch-Drunk-Love',\n 'Purple-Rain',\n 'Quantum-Project',\n 'Queen-of-the-Damned',\n 'Queen,-The',\n 'Rachel-Getting-Married',\n 'Raging-Bull',\n 'Raising-Arizona',\n 'Rambling-Rose',\n 'Rambo--First-Blood-II--The-Mission',\n 'Reader,-The',\n 'Real-Genius',\n 'Rear-Window',\n 'Rebel-Without-A-Cause',\n 'Red-Planet',\n 'Red-Riding-Hood',\n 'Reindeer-Games',\n 'Relic,-The',\n 'Remember-Me',\n 'Replacements,-The',\n 'Repo-Man',\n 'Rescuers-Down-Under,-The',\n 'Reservoir-Dogs',\n 'Resident-Evil',\n 'Return-of-the-Apes',\n 'Revenant,-The',\n 'Revolutionary-Road',\n 'Ringu',\n 'Rise-of-the-Guardians',\n 'Rise-of-the-Planet-of-the-Apes',\n 'RKO-281',\n 'Road,-The',\n 'Robin-Hood--Prince-of-Thieves',\n 'Robocop',\n 'Rock,-The',\n 'RocknRolla',\n 'Rocky',\n 'Rocky-Horror-Picture-Show,-The',\n 'Romeo-&-Juliet',\n 'Ronin',\n 'Room',\n 'Roommate,-The',\n 'Roughshod',\n 'Ruins,-The',\n 'Runaway-Bride',\n 'Rush',\n 'Rush-Hour',\n 'Rush-Hour-2',\n 'Rushmore',\n 'Rust-and-Bone',\n 'S.-Darko',\n 'Saint,-The',\n 'Salton-Sea,-The',\n 'Sandlot-Kids,-The',\n 'Save-the-Last-Dance',\n 'Saving-Mr.-Banks',\n 'Saving-Private-Ryan',\n 'Saw',\n 'Scarface',\n 'Scary-Movie-2',\n \"Schindler's-List\",\n 'Scott-Pilgrim-vs-the-World',\n 'Scream',\n 'Scream-2',\n 'Scream-3',\n 'Se7en',\n 'Searchers,-The',\n 'Secret-Life-of-Walter-Mitty,-The',\n 'Semi-Pro',\n 'Sense-and-Sensibility',\n 'Serenity',\n 'Serial-Mom',\n 'Sessions,-The',\n 'Seventh-Seal,-The',\n 'Sex-and-the-City',\n 'Sex,-Lies-and-Videotape',\n 'Sexual-Life',\n 'Shadow-of-the-Vampire',\n 'Shakespeare-in-Love',\n 'Shallow-Grave',\n 'Shame',\n 'Shampoo',\n 'Shawshank-Redemption,-The',\n \"She's-Out-of-My-League\",\n 'Sherlock-Holmes',\n 'Shifty',\n 'Shining,-The',\n 'Shipping-News,-The',\n 'Shivers',\n 'Shrek',\n 'Shrek-the-Third',\n 'Sicario',\n 'Sideways',\n 'Siege,-The',\n 'Signs',\n 'Silence-of-the-Lambs',\n 'Silver-Bullet',\n 'Silver-Linings-Playbook',\n 'Simone',\n 'Single-White-Female',\n 'Sister-Act',\n 'Six-Degrees-of-Separation',\n 'Sixth-Sense,-The',\n 'Sleepless-in-Seattle',\n 'Sleepy-Hollow',\n 'Sling-Blade',\n ...]"
     },
     "execution_count": 42,
     "metadata": {},
     "output_type": "execute_result"
    }
   ],
   "source": [
    "movie_list = [movie.replace('Script','').replace(' ','-').replace(':','-')[:-1] for movie in movie_list ]\n",
    "movie_list"
   ],
   "metadata": {
    "collapsed": false,
    "pycharm": {
     "name": "#%%\n"
    }
   }
  },
  {
   "cell_type": "markdown",
   "source": [
    "# Get script from those films"
   ],
   "metadata": {
    "collapsed": false,
    "pycharm": {
     "name": "#%% md\n"
    }
   }
  },
  {
   "cell_type": "code",
   "execution_count": 68,
   "outputs": [],
   "source": [
    "def get_script(movie_name):\n",
    "    \"\"\"\n",
    "\n",
    "    :param movie_name:\n",
    "    :return:\n",
    "    \"\"\"\n",
    "\n",
    "    url_movie = f'https://imsdb.com/scripts/{movie_list[0]}.html'\n",
    "    req_text = request.urlopen(url_movie)\n",
    "    page = bs4.BeautifulSoup(req_text, 'html')\n",
    "\n",
    "    rows = page.findAll('pre')[1].text.split('\\r\\n')\n",
    "    script = [' '.join(element.split()) for element in rows if ' '.join(element.split()) != '']\n",
    "    return script"
   ],
   "metadata": {
    "collapsed": false,
    "pycharm": {
     "name": "#%%\n"
    }
   }
  },
  {
   "cell_type": "code",
   "execution_count": 71,
   "outputs": [
    {
     "name": "stdout",
     "output_type": "stream",
     "text": [
      "10/1211\n",
      "20/1211\n",
      "30/1211\n",
      "40/1211\n",
      "50/1211\n",
      "60/1211\n",
      "70/1211\n",
      "80/1211\n",
      "90/1211\n",
      "100/1211\n",
      "110/1211\n",
      "120/1211\n",
      "130/1211\n",
      "140/1211\n",
      "150/1211\n",
      "160/1211\n",
      "170/1211\n",
      "180/1211\n",
      "190/1211\n",
      "200/1211\n",
      "210/1211\n",
      "220/1211\n",
      "230/1211\n",
      "240/1211\n",
      "250/1211\n",
      "260/1211\n",
      "270/1211\n",
      "280/1211\n",
      "290/1211\n",
      "300/1211\n",
      "310/1211\n",
      "320/1211\n",
      "330/1211\n",
      "340/1211\n",
      "350/1211\n",
      "360/1211\n",
      "370/1211\n",
      "380/1211\n",
      "390/1211\n",
      "400/1211\n",
      "410/1211\n",
      "420/1211\n",
      "430/1211\n",
      "440/1211\n",
      "450/1211\n",
      "460/1211\n",
      "470/1211\n",
      "480/1211\n",
      "490/1211\n",
      "500/1211\n",
      "510/1211\n",
      "520/1211\n",
      "530/1211\n",
      "540/1211\n",
      "550/1211\n",
      "560/1211\n",
      "570/1211\n",
      "580/1211\n",
      "590/1211\n",
      "600/1211\n",
      "610/1211\n",
      "620/1211\n",
      "630/1211\n",
      "640/1211\n",
      "650/1211\n",
      "660/1211\n",
      "670/1211\n",
      "680/1211\n",
      "690/1211\n",
      "700/1211\n",
      "710/1211\n",
      "720/1211\n",
      "730/1211\n",
      "740/1211\n",
      "750/1211\n",
      "760/1211\n",
      "770/1211\n",
      "780/1211\n",
      "790/1211\n",
      "800/1211\n",
      "810/1211\n",
      "820/1211\n",
      "830/1211\n",
      "840/1211\n",
      "850/1211\n",
      "860/1211\n",
      "870/1211\n",
      "880/1211\n",
      "890/1211\n",
      "900/1211\n",
      "910/1211\n",
      "920/1211\n",
      "930/1211\n",
      "940/1211\n",
      "950/1211\n",
      "960/1211\n",
      "970/1211\n",
      "980/1211\n",
      "990/1211\n",
      "1000/1211\n",
      "1010/1211\n",
      "1020/1211\n",
      "1030/1211\n",
      "1040/1211\n",
      "1050/1211\n",
      "1060/1211\n",
      "1070/1211\n",
      "1080/1211\n",
      "1090/1211\n",
      "1100/1211\n",
      "1110/1211\n",
      "1120/1211\n",
      "1130/1211\n",
      "1140/1211\n",
      "1150/1211\n",
      "1160/1211\n",
      "1170/1211\n",
      "1180/1211\n",
      "1190/1211\n",
      "1200/1211\n",
      "1210/1211\n"
     ]
    }
   ],
   "source": [
    "dict_script = {}\n",
    "compteur=0\n",
    "long = len(movie_list)\n",
    "for movie in movie_list:\n",
    "    dict_script[movie] = get_script(movie)\n",
    "    compteur +=1\n",
    "    if compteur%10 == 0:\n",
    "        print(f'{compteur}/{long}')"
   ],
   "metadata": {
    "collapsed": false,
    "pycharm": {
     "name": "#%%\n"
    }
   }
  },
  {
   "cell_type": "code",
   "execution_count": 117,
   "outputs": [],
   "source": [
    "#dict_script\n",
    "with open(\"script_data.json\", 'w') as fp:\n",
    "    json.dump(dict_script, fp,  indent=4)"
   ],
   "metadata": {
    "collapsed": false,
    "pycharm": {
     "name": "#%%\n"
    }
   }
  },
  {
   "cell_type": "code",
   "execution_count": 104,
   "outputs": [],
   "source": [
    "def cleaner(list_text):\n",
    "    change = False\n",
    "    edited_text=''\n",
    "    new_list=[]\n",
    "    for text_ in list_text:\n",
    "        if (''.join([element for element in text_ if element.isalnum()]).isupper()) or \\\n",
    "                (''.join([word for word in text_.split() if not word.isupper()])[0]+''.join([word for word in text_.split() if not word.isupper()])[-1] == '()'):\n",
    "            if change == True:\n",
    "                new_list.append(edited_text)\n",
    "                edited_text=''\n",
    "                change = False\n",
    "            new_list.append(text_)\n",
    "        else:\n",
    "            edited_text = ' '.join([edited_text,text_])\n",
    "            change = True\n",
    "    return new_list"
   ],
   "metadata": {
    "collapsed": false,
    "pycharm": {
     "name": "#%%\n"
    }
   }
  },
  {
   "cell_type": "code",
   "execution_count": 116,
   "outputs": [
    {
     "name": "stdout",
     "output_type": "stream",
     "text": [
      "10/1211\n",
      "20/1211\n",
      "30/1211\n",
      "40/1211\n",
      "50/1211\n",
      "60/1211\n",
      "70/1211\n",
      "80/1211\n",
      "90/1211\n",
      "100/1211\n",
      "110/1211\n",
      "120/1211\n",
      "130/1211\n",
      "140/1211\n",
      "150/1211\n",
      "160/1211\n",
      "170/1211\n",
      "180/1211\n",
      "190/1211\n",
      "200/1211\n",
      "210/1211\n",
      "220/1211\n",
      "230/1211\n",
      "240/1211\n",
      "250/1211\n",
      "260/1211\n",
      "270/1211\n",
      "280/1211\n",
      "290/1211\n",
      "300/1211\n",
      "310/1211\n",
      "320/1211\n",
      "330/1211\n",
      "340/1211\n",
      "350/1211\n",
      "360/1211\n",
      "370/1211\n",
      "380/1211\n",
      "390/1211\n",
      "400/1211\n",
      "410/1211\n",
      "420/1211\n",
      "430/1211\n",
      "440/1211\n",
      "450/1211\n",
      "460/1211\n",
      "470/1211\n",
      "480/1211\n",
      "490/1211\n",
      "500/1211\n",
      "510/1211\n",
      "520/1211\n",
      "530/1211\n",
      "540/1211\n",
      "550/1211\n",
      "560/1211\n",
      "570/1211\n",
      "580/1211\n",
      "590/1211\n",
      "600/1211\n",
      "610/1211\n",
      "620/1211\n",
      "630/1211\n",
      "640/1211\n",
      "650/1211\n",
      "660/1211\n",
      "670/1211\n",
      "680/1211\n",
      "690/1211\n",
      "700/1211\n",
      "710/1211\n",
      "720/1211\n",
      "730/1211\n",
      "740/1211\n",
      "750/1211\n",
      "760/1211\n",
      "770/1211\n",
      "780/1211\n",
      "790/1211\n",
      "800/1211\n",
      "810/1211\n",
      "820/1211\n",
      "830/1211\n",
      "840/1211\n",
      "850/1211\n",
      "860/1211\n",
      "870/1211\n",
      "880/1211\n",
      "890/1211\n",
      "900/1211\n",
      "910/1211\n",
      "920/1211\n",
      "930/1211\n",
      "940/1211\n",
      "950/1211\n",
      "960/1211\n",
      "970/1211\n",
      "980/1211\n",
      "990/1211\n",
      "1000/1211\n",
      "1010/1211\n",
      "1020/1211\n",
      "1030/1211\n",
      "1040/1211\n",
      "1050/1211\n",
      "1060/1211\n",
      "1070/1211\n",
      "1080/1211\n",
      "1090/1211\n",
      "1100/1211\n",
      "1110/1211\n",
      "1120/1211\n",
      "1130/1211\n",
      "1140/1211\n",
      "1150/1211\n",
      "1160/1211\n",
      "1170/1211\n",
      "1180/1211\n",
      "1190/1211\n",
      "1200/1211\n"
     ]
    }
   ],
   "source": [
    "compteur =0\n",
    "for movie in list(dict_script.keys()):\n",
    "    dict_script[movie] = cleaner(dict_script[movie])\n",
    "    compteur +=1\n",
    "    if compteur%10 == 0:\n",
    "        print(f'{compteur}/{long}')"
   ],
   "metadata": {
    "collapsed": false,
    "pycharm": {
     "name": "#%%\n"
    }
   }
  },
  {
   "cell_type": "code",
   "execution_count": 106,
   "outputs": [
    {
     "data": {
      "text/plain": "['TEN THINGS I HATE ABOUT YOU',\n ' written by Karen McCullah Lutz & Kirsten Smith based on \\'Taming of the Shrew\" by William Shakespeare Revision November 12, 1997',\n 'PADUA HIGH SCHOOL - DAY',\n ' Welcome to Padua High School,, your typical urban-suburban high school in Portland, Oregon. Smarties, Skids, Preppies, Granolas. Loners, Lovers, the In and the Out Crowd rub sleep out of their eyes and head for the main building.',\n 'PADUA HIGH PARKING LOT - DAY',\n \" KAT STRATFORD, eighteen, pretty -- but trying hard not to be -- in a baggy granny dress and glasses, balances a cup of coffee and a backpack as she climbs out of her battered, baby blue '75 Dodge Dart. A stray SKATEBOARD clips her, causing her to stumble and spill her coffee, as well as the contents of her backpack. The young RIDER dashes over to help, trembling when he sees who his board has hit.\",\n 'RIDER',\n ' Hey -- sorry. Cowering in fear, he attempts to scoop up her scattered belongings.',\n 'KAT',\n ' Leave it He persists.',\n 'KAT (continuing)',\n ' I said, leave it! She grabs his skateboard and uses it to SHOVE him against a car, skateboard tip to his throat. He whimpers pitifully and she lets him go. A path clears for her as she marches through a pack of fearful students and SLAMS open the door, entering school.',\n \"INT. GIRLS' ROOM - DAY\",\n ' BIANCA STRATFORD, a beautiful sophomore, stands facing the mirror, applying lipstick. Her less extraordinary, but still cute friend, CHASTITY stands next to her.',\n 'BIANCA',\n ' Did you change your hair?',\n 'CHASTITY',\n ' No.',\n 'BIANCA',\n \" You might wanna think about it Leave the girls' room and enter the hallway.\",\n 'HALLWAY - DAY- CONTINUOUS',\n ' Bianca is immediately greeted by an admiring crowd, both boys and girls alike.',\n 'BOY',\n '(adoring)',\n ' Hey, Bianca.',\n 'GIRL',\n ' Awesome shoes. The greetings continue as Chastity remains wordless and unaddressed by her side. Bianca smiles proudly, acknowledging her fans.',\n \"GUIDANCE COUNSELOR'S OFFICE - DAY\",\n ' CAMERON JAMES, a clean-cut, easy-going senior with an open, farm-boy face, sits facing Miss Perky, an impossibly cheery guidance counselor.',\n 'MISS PERKY',\n \" I'm sure you won't find Padua any different than your old school. Same little asswipe mother-fuckers everywhere. Her plastic smile never leaves her face. Cameron fidgets in his chair uncomfortably.\",\n 'MISS PERKY',\n '(continuing)',\n ' Any questions?',\n 'CAMERON',\n \" I don't think so, ma'am\",\n 'MISS PERKY',\n \" Then go forth. Scoot I've got deviants to see. Cameron rises to leave and makes eye contact with PATRICK VERONA, a sullen-looking bad ass senior who waits outside Ms Perky's door. His slouch and smirk let us know how cool he is. Miss Perky looks down at her file and up at Patrick\",\n 'MISS PERKY',\n '(continuing)',\n \" Patrick Verona. I see we're making our visits a weekly ritual. She gives him a withering glance. He answers with a charming smile.\",\n 'PATRICK',\n ' I missed you.',\n 'MISS PERKY',\n ' It says here you exposed yourself to a group of freshmen girls.',\n 'PATRICK',\n ' It was a bratwurst. I was eating lunch.',\n 'MISS PERKY',\n ' With the teeth of your zipper? She motions for Patrick to enter her office and Cameron shuffles out the door, bumping into MICHAEL ECKMAN, a lanky, brainy senior who will either end up a politician or game show host.',\n 'MICHAEL',\n ' You the new guy?',\n 'CAMERON',\n ' So they tell me...',\n 'MICHAEL',\n \" C'mon. I'm supposed to give you the tour. They head out of the office\",\n 'MICHAEL',\n '(continuing)',\n ' So -- which Dakota you from?',\n 'CAMERON',\n \" North, actually. How'd you ?\",\n 'MICHAEL',\n ' I was kidding. People actually live there?',\n 'CAMERON',\n \" Yeah. A couple. We're outnumbered by the cows, though.\",\n 'MICHAEL',\n ' How many people were in your old school?',\n 'CAMERON',\n ' Thirty-two.',\n 'MICHAEL',\n ' Get out!',\n 'CAMERON',\n ' How many people go here?',\n 'MICHAEL',\n ' Couple thousand. Most of them evil',\n 'INT. HALLWAY - DAY- CONTINUOUS',\n ' Prom posters adorn the wall. Michael steers Cameron through the crowd as he points to various cliques.',\n 'MICHAEL',\n \" We've got your basic beautiful people. Unless they talk to you first, don't bother. The beautiful people pass, in full jock/cheerleader splendor.\",\n 'MICHAEL',\n '(continuing)',\n \" Those 're your cowboys. Several Stetson-wearing, big belt buckle. Wrangler guys walk by.\",\n 'CAMERON',\n \" That I'm used to.\",\n 'MICHAEL',\n ' Yeah, but these guys have never seen a horse. They just jack off to Clint Eastwood. They pass an espresso cart with a group of teens huddled around it.',\n 'MICHAEL',\n '(continuing)',\n \" To the right, we have the Coffee Kids. Very edgy. Don't make any sudden movements around them.\",\n 'EXT. SCHOOL COURTYARD - DAY',\n ' Michael continues the tour',\n 'MICHAEL',\n ' And these delusionals are the White Rastae. Several white boys in dreadlocks and Jamaican knit berets lounge on the grass. A cloud of pot smoke hovers above them',\n 'MICHAEL',\n '(continuing)',\n \" Big Marley fans. Think they're black. Semi-political, but mostly, they watch a lot of Wild Kingdom, if you know what I mean. Michael waves to DEREK, the one with the longest dreads.\",\n 'MICHAEL',\n '(continuing)',\n ' Derek - save some for after lunch, bub?',\n 'DEREK',\n '(very stoned)',\n ' Michael, my brother, peace Cameron turns to follow Michael as they walk into the cafeteria.',\n 'CAMERON',\n ' So where do you fit in all this?',\n 'INT. CAFETERIA - DAY - CONTINUOUS',\n ' Loud music and loud students. Michael sits with a group of studious-looking teens.',\n 'MICHAEL',\n \" Future MBAs- We're all Ivy League, already accepted. Someday I'll be sipping Merlot while those guys -- He points to the table of jocks, as they torture various passers-by.\",\n 'MICHAEL',\n '(continuing)',\n ' are fixing my Saab. Yuppie greed is back, my friend. He points proudly to the ALLIGATOR on his shirt. Cameron stops listening as BIANCA walks by, and we go SLO MO. Pure and perfect, she passes Cameron and Michael without a look. Cameron is smitten',\n 'CAMERON',\n ' That girl -- I --',\n 'MICHAEL',\n ' You burn, you pine, you perish?',\n 'CAMERON',\n ' Who is she?',\n 'MICHAEL',\n \" Bianca Stratford. Sophomore. Don't even think about it\",\n 'CAMERON',\n ' Why not?',\n 'MICHAEL',\n \" I could start with your haircut, but it doesn't matter. She's not allowed to date until her older sister does. And that's an impossibility.\",\n 'ENGLISH CLASS - DAY',\n \" A room full of bored seniors doodle and scare off into space MS. BLAISE, the one-step-away-from-medication English Teacher, tries to remember what she's talking about.\",\n 'MRS. BLAISE',\n ' Well, then. Oh, yes. I guess that does it for our analysis of The Old Man and the Sea. Any other comments?',\n '(with dread)',\n ' Kat? Kat, the girl we saw as we entered the school, slowly cakes off her glasses and speaks up.',\n 'KAT',\n \" Why didn't we just read the Hardy Boys?\",\n 'MRS. BLAISE',\n \" I'm sorry?\",\n 'KAT',\n ' This book is about a guy and his fishing habit. Not exactly a crucial topic. The other students roll their eyes.',\n 'KAT',\n '(continuing)',\n \" Frankly, I'm baffled as to why we still revere Hemingway. He was an abusive, alcoholic misogynist who had a lot of cats. JOEY DORSEY, a well-muscled jock with great cheekbones, makes fun of her from his row.\",\n 'JOEY',\n ' As opposed to a bitter self-righteous hag who has no friends? A few giggles. Kat ignores him. A practiced gesture',\n 'MRS. BLAISE',\n \" That's enough, Mr. Dorsey. Really gets fired up now\",\n 'KAT',\n \" I guess the school board thinks because Hemingway's male and an asshole, he's worthy of our time She looks up at Ms. Blaise, who is now fighting with her pill box.\",\n 'KAT',\n '(continuing)',\n ' What about Colette? Charlotte Bronte? Simone de Beauvoir? Patrick, lounging in his seat in the back row, elbows a crusty-looking crony, identified by the name SCURVY, embroidered on his workshirt.',\n 'PATRICK',\n ' Mother Goose? The class titters. Kat wears an expression of intolerance',\n \"INT. GUIDANCE COUNSELOR'S OFFICE - DAY\",\n ' Kat now sits before Miss Perky.',\n 'MISS PERKY',\n \" Katarina Stratford. My, my. You've been terrorizing Ms. Blaise again.\",\n 'KAT',\n ' Expressing my opinion is not a terrorist action.',\n 'MISS PERKY',\n \" Well, yes, compared to your other choices of expression this year, today's events are quite mild. By the way, Bobby Rictor's gonad retrieval operation went quite well, in case you're interested.\",\n 'KAT',\n ' I still maintain that he kicked himself in the balls. I was merely a spectator.',\n 'MISS PERKY',\n ' The point is Kat -- people perceive you as somewhat ... Kat smiles at her, daring her to say it.',\n 'KAT',\n ' Tempestuous?',\n 'MISS PERKY',\n ' No ... I believe \"heinous bitch\" is the term used most often. She grimaces, as if she\\'s referring to a medical condition.',\n 'MISS PERKY',\n '(continuing)',\n \" You might want to work on that Kat rises from her chair with a plastic smile matching the counselor's.\",\n 'KAT',\n ' As always, thank you for your excellent guidance.',\n 'INT. SOPHOMORE ENGLISH CLASS - DAY',\n ' Bianca ignores the droning teacher as she writes a note in big flowing handwriting.',\n 'TEACHER (0.S.)',\n \" I realize the language of Mr. Shakespeare makes him a bit daunting, but I'm sure you're all doing your best. Bianca folds the note and passes it behind her with a flip of her hair to CHASTITY. Chastity opens the note and reads:\",\n 'INSERT - \"JOEY DORSEY SAID HI TO ME IN THE HALL! OH! MY',\n 'GOD!\"',\n ' Chastity frowns to herself.',\n 'TEACHER (0.S.)',\n '(continuing)',\n \" Ms. Stratford, do you care to comment on what you've read so far? Bianca looks up and smiles the smile of Daddy's little girl.\",\n 'BIANCA',\n ' Not really. The teacher shakes her head, but lets it go. MANDELLA. a waif-like senior girl who sits off to the side trying to slit her wrist with the plastic spiral on her notebook, looks up and raises her hand.',\n 'TEACHER',\n \" Mandella -- since you're assisting us, you might as well comment. I'm assuming you read the assignment.\",\n 'MANDELLA',\n ' Uh, yeah, I read it all',\n 'TEACHER',\n ' The whole play^',\n 'MANDELIA',\n ' The whole folio. All the plays.',\n 'TEACHER',\n '(disbelieving)',\n \" You've read every play by William Shakespeare?\",\n 'MANDELLA',\n \" Haven't you? She raises a challenging eyebrow. The stunned teacher doesn't answer and goes to call on the next student.\",\n 'EXT. SCHOOL COURTYARD - DAY',\n ' Mandella and Kat sit down in the quiet corner. They are eating a carton of yogurt with gusto.',\n 'MANDELLA',\n \" Your sister is so amazingly without. She'll never read him. She has no idea. Kat attacks\",\n 'KAT',\n \" The fact that you're cutting gym so you can T.A. Sophomore English just to hear his name, is a little without in itself if you ask me. Kat's attention is caught by Patrick as he walks by with his friends, lighting up a cigarette. Mandella notices her staring.\",\n 'MANDELLA',\n \" Who's that?\",\n 'KAT',\n ' Patrick Verona Random skid.',\n 'MANDELLA',\n \" That's Pat Verona? The one who was gone for a year? I heard he was doing porn movies.\",\n 'KAT',\n \" I'm sure he's completely incapable of doing anything that interesting.\",\n 'MANDELLA',\n ' He always look so',\n 'KAT',\n \" Block E? Kat turns back to face Mandella and forces her yogurt into Mandella's hand.\",\n 'KAT',\n '(continuing)',\n ' Mandella, eat. Starving yourself is a very slow way to die.',\n 'MANDELLA',\n ' Just a little. She eats. Kat sees her wrist',\n 'KAT',\n \" What's this?\",\n 'MANDELLA',\n ' An attempted slit. Kat stares at her, expressionless.',\n 'KAT',\n \" I realize that the men of this fine institution are severely lacking, but killing yourself so you can be with William Shakespeare is beyond the scope of normal teenage obsessions. You're venturing far past daytime talk show fodder and entering the world of those who need very expensive therapy.\",\n 'MANDELLA',\n \" But imagine the things he'd say during sex. Thinks a minute\",\n 'KAT',\n \" Okay, say you do it. You kill yourself, you end up in wherever you end up and he's there. Do you really think he's gonna wanna dace a ninety pound compulsive who failed volleyball? Mandella's attention is struck by Bianca\",\n 'ACROSS THE COURTYARD',\n ' As she and Chastity parade by Joey and his COHORTS One of the cohorts elbows Joey.',\n 'COHORT',\n ' Virgin alert. Joey looks up and smiles at Bianca.',\n 'JOEY',\n \" Lookin' good, ladies. Bianca smiles her coyest of smiles. BACK TO KAT AND MANDELLA Still watching.\",\n 'MANDELLA',\n \" Tragic. Doesn't respond\",\n 'ANOTHER ANGLE',\n \" Michael and Cameron observe Joey's leers at Bianca from their bench in another corner. Cowboys eating cue of a can of beans linger on the grass behind them.\",\n 'CAMERON',\n ' Why do girls like that always like guys like that?',\n 'MICHAEL',\n \" Because they're bred to. Their mothers liked guys like that, and their grandmothers before them. Their gene pool is rarely diluted.\",\n 'CAMERON',\n ' He always have that shit-eating grin?',\n 'MICHAEL',\n \" Joey Dorsey? Perma-shit-grin. I wish I could say he's a moron, but he's number twelve in the class. And a model. Mostly regional stuff, but he's rumored to have a big tube sock ad coming out. The BELL rings, and the cowboys stand and spit into their empty bean cans. Cameron and Michael rise as Cameron tries to catch a glimpse of Bianca as she walks back inside.\",\n 'MICHAEL',\n '(continuing)',\n ' You know French?',\n 'CAMERON',\n \" Sure do ... my Mom's from Canada\",\n 'MICHAEL',\n ' Guess who just signed up for a tutor?',\n 'CAMERON',\n \" You mean I'd get a chance to talk to her?\",\n 'MICHAEL',\n ' You could consecrate with her, my friend. Cameron watches as Bianca flounces back into the building.',\n 'EXT. SCHOOL PARKING LOT - DAY',\n \" Kat and Mandella walk toward Kat's car. Joey pulls up beside her in his Viper.\",\n 'JOEY',\n '(re her dress)',\n \" The vintage look is over, Kat. Haven't you been reading your Sassy?\",\n 'KAT',\n ' Yeah, and I noticed the only part of you featured in your big Kmart spread was your elbow. Tough break.',\n 'JOEY',\n \" (practically spitting) They're running the rest of me next month. He zooms away as Kat yanks open the door of her Dart. Mandella ties a silk scarf around her head, as if they're in a convertible.\",\n 'KAT',\n ' The people at this school are so incredibly foul.',\n 'MANDELLA',\n \" You could always go with me. I'm sure William has some friends. They watch Joey's car as he slows next to Bianca and Chastity as they walk toward the school bus.\",\n 'ON BIANCA AND CHASTITY',\n 'JOEY',\n \" Need a ride, ladies? Bianca and Chastity can't get in Joey's car fast enough. He pulls away with a smile.\",\n 'BACK TO KAT AND MANDELLA',\n ' Mandella lowers her sunglasses to watch.',\n 'MANDELLA',\n \" That's a charming new development Kat doesn't answer, but reaches over and puts a tape in the tape deck. The sounds of JOYFUL PUNK ROCK fill the car. As they pull out, Michael crosses in front of them on his moped. Kat has to SLAM the brakes to keep from hitting him\",\n 'KAT',\n '(yelling)',\n ' Remove head from sphincter! Then pedal! Michael begins fearfully, pedaling as Kat PEELS out, angry at the delay. Cameron rushes over',\n 'CAMERON',\n ' You all right? He slows to a stop',\n 'MICHAEL',\n ' Yeah, just a minor encounter with the shrew.',\n 'CAMERON',\n \" That's her? Bianca's sister?\",\n 'MICHAEL',\n \" The mewling, rampalian wretch herself. Michael putters off, leaving Cameron dodging Patrick's grimy, grey Jeep -- a vehicle several years and many paint jobs away from its former glory as a REGULATION MAIL TRUCK - - as he sideswipes several cars on his way out of the lot.\",\n 'INT. STRATFORD HOUSE - DAY',\n ' SHARON STRATFORD, attractive and focused, sits in front of her computer, typing quickly. A shelf next to her holds several bodice-ripper romance novels, bearing her name. Kat stands behind her, reading over her shoulder as she types.',\n 'KAT',\n ' \"Undulating with desire, Adrienne removes her crimson cape, revealing her creamy --\" WALTER STRATFORD, a blustery, mad scientist-type obstetrician, enters through the front door, wearing a doctor\\'s white jacket and carrying his black bag.',\n 'WALTER',\n \" I hope dinner's ready because I only have ten minutes before Mrs. Johnson squirts out a screamer. He grabs the mail and rifles through it, as he bends down to kiss Sharon on the cheek.\",\n 'SHARON',\n ' In the microwave.',\n 'WALTER',\n '(to Kat)',\n ' Make anyone cry today?',\n 'KAT',\n \" Sadly, no. But it's only four-thirty. Bianca walks in.\",\n 'KAT',\n '(continuing)',\n \" Where've you been?\",\n 'BIANCA',\n '(eyeing Walter)',\n ' Nowhere... Hi, Daddy. She kisses him on the cheek',\n 'WALTER',\n ' Hello, precious. Walter kisses Bianca back as Kat heads up the stairs',\n 'KAT',\n ' How touching. Walter holds up a letter to Kat',\n 'WALTER',\n \" What's this? It says Sarah Lawrence? Snatches it away from him.\",\n 'KAT',\n ' I guess I got in Sharon looks up from her computer.',\n 'SHARON',\n \" What's a synonym for throbbing?\",\n 'WALTER',\n ' Sarah Lawrence is on the other side of the country.',\n 'KAT',\n ' I know.',\n 'WALTER',\n ' I thought we decided you were going to school here. At U of 0.',\n 'KAT',\n ' You decided.',\n 'BIANCA',\n ' Is there even a question that we want her to stay? Kat gives Bianca an evil look then smiles sweetly at',\n 'KAT',\n ' Ask Bianca who drove her home',\n 'SHARON',\n ' Swollen...turgid.',\n 'WALTER',\n '(to Bianca; upset)',\n ' Who drove you home? Bianca glares at Kat then turns to Walter',\n 'BIANCA',\n \" Now don't get upset. Daddy, but there's this boy... and I think he might ask...\",\n 'WALTER',\n \" No! You're not dating until your sister starts dating. End of discussion.\",\n 'BIANCA',\n ' What if she never starts dating?',\n 'WALTER',\n \" Then neither will you. And I'll get to sleep at night.\",\n 'BIANCA',\n \" But it's not fair -- she's a mutant, Daddy!\",\n 'KAT',\n ' This from someone whose diary is devoted to favorite grooming tips?',\n 'WALTER',\n ' Enough! He pulls out a small tape recorder from his black bag.',\n 'WALTER',\n '(continuing)',\n ' Do you know what this is? He hits the \"play\\' button and SHRIEKS OF PAIN emanate from the tape recorder.',\n 'BIANCA AND WALTER',\n ' (in unison, by rote) The sound of a fifteen-year-old in labor.',\n 'WALTER',\n \" This is why you're not dating until your sister does.\",\n 'BIANCA',\n \" But she doesn't want to date.\",\n 'WALTER',\n ' Exactly my point His BEEPER goes off and he grabs his bag again',\n 'WALTER',\n '(continuing)',\n ' Jesus! Can a man even grab a sandwich before you women start dilating?',\n 'SHARON',\n ' Tumescent!',\n 'WALTER',\n \" (to Sharon; as he leaves) You're not helping.\",\n 'INT. TUTORING ROOM - DAY',\n ' Cameron sits with an empty chair beside him. Bianca arrives in a flurry of blonde hair.',\n 'BIANCA',\n ' Can we make this quick? Roxanne Korrine and Andrew Barrett are having an incredibly horrendous public break- up on the quad. Again.',\n 'CAMERON',\n \" Well, I thought we'd start with pronunciation, if that's okay with you.\",\n 'BIANCA',\n ' Not the hacking and gagging and spitting part. Please.',\n 'CAMERON',\n '(looking down)',\n \" Okay... then how 'bout we try out some French cuisine. Saturday? Night? Bianca smiles slowly\",\n 'BIANCA',\n \" You're asking me out. That's so cute. What's your name again?\",\n 'CAMERON',\n '(embarrassed)',\n ' Forget it. Bianca seizes an opportunity.',\n 'BIANCA',\n \" No, no, it's my fault -- we didn't have a proper introduction ---\",\n 'CAMERON',\n ' Cameron.',\n 'BIANCA',\n \" The thing is, Cameron -- I'm at the mercy of a particularly hideous breed of loser. My sister. I can't date until she does.\",\n 'CAMERON',\n ' Seems like she could get a date easy enough... She fingers a lock of her hair. He looks on, dazzled.',\n 'BIANCA',\n \" The problem is, she's completely anti-social.\",\n 'CAMERON',\n ' Why?',\n 'BIANCA',\n ' Unsolved mystery. She used to be really popular when she started high school, then it was just like she got sick of it or something.',\n 'CAMERON',\n \" That's a shame. She reaches out and touches his arm\",\n 'BIANCA',\n ' Gosh, if only we could find Kat a boyfriend...',\n 'CAMERON',\n ' Let me see what I can do. Cameron smiles, having no idea how stupid he is',\n 'INT. BIOLOGY CLASS',\n ' A frog is being torn asunder by several prongs and picks. Michael and Cameron go for the spleen.',\n 'MICHAEL',\n \" You're in school for one day and you ask out the most beautiful girl? Do you have no concept of the high school social code? Cameron grins away\",\n 'CAMERON',\n ' I teach her French, get to know her, dazzle her with charm and she falls in love with me.',\n 'MICHAEL',\n \" Unlikely, but even so, she still can't go out with you. So what's the point? Cameron motions with his head toward Patrick, a few lab tables away. He's wearing biker glasses instead of goggles as he tries to revive his frog.\",\n 'CAMERON',\n ' What about him?',\n 'MICHAEL',\n '(confused)',\n ' You wanna go out with him? The others at the lab table raise their eyebrows',\n 'CAMERON',\n '(impatient)',\n ' No - he could wrangle with the sister. Michael smiles. Liking the intrigue.',\n 'MICHAEL',\n \" What makes you think he'll do it?\",\n 'CAMERON',\n ' He seems like he thrives on danger',\n 'MICHAEL',\n \" No kidding. He's a criminal. I heard he lit a state trooper on fire. He just got out of Alcatraz...\",\n 'CAMERON',\n ' They always let felons sit in on Honors Biology?',\n 'MICHAEL',\n \" I'm serious, man, he's whacked. He sold his own liver on the black market so he could buy new speakers.\",\n 'CAMERON',\n \" Forget his reputation. Do you think we've got a plan or not?\",\n 'MICHAEL',\n \" Did she actually say she'd go out with you?\",\n 'CAMERON',\n \" That's what I just said Michael processes this.\",\n 'MICHAEL',\n \" You know, if you do go out with Bianca, you'd be set. You'd outrank everyone. Strictly A-list. With me by your side.\",\n 'CAMERON',\n ' I thought you hated those people.',\n 'MICHAEL',\n \" Hey -- I've gotta have a few clients when I get to Wall Street. A cowboy flicks the frog's heart into one of the Coffee Kid's latte. Cameron presses on, over the melee.\",\n 'CAMERON',\n ' So now all we gotta do is talk to him. He points to Patrick, who now makes his frog hump another frog, with full-on sound effects.',\n 'MICHAEL',\n \" I'll let you handle that.\",\n 'INT. WOODSHOP - DAY',\n ' Boys and a few stray girls nail their pieces of wood Michael sits next to PEPE, a Coffee Kid, who holds out his jacket like the men who sell watches in the subway. Inside several bags of coffee hang from hooks.',\n 'PEPE',\n \" Some people like the Colombian, but it all depends on your acidity preference. Me? I prefer East African and Indonesian. You start the day with a Sumatra Boengie or maybe and Ethiopian Sidamo in your cup, you're that much farther ahead than someone drinkin' Cosia Rican or Kona -- you know what I mean? Michael nods solemnly.\",\n 'ACROSS THE ROOM',\n ' Patrick sits at a table with Scurvy, making something that looks like a machete out of a two-by-four. Cameron approaches, full of good-natured farm boy cheer',\n 'CAMERON',\n ' Hey, there In response, Patrick brandishes a loud POWER TOOL in his direction. Cameron slinks away.',\n 'CAMERON',\n '(continuing)',\n ' Later, then. Michael watches, shaking his head.',\n 'INT. CAFETERIA - DAY',\n ' Joey and his pals take turns drawing boobs onto a cafeteria tray with a magic marker. Michael walks up and sits between them, casual as can be',\n 'MICHAEL',\n ' Hey.',\n 'JOEY',\n ' Are you lost?',\n 'MICHAEL',\n ' Nope - just came by to chat',\n 'JOEY',\n \" We don't chat.\",\n 'MICHAEL',\n \" Well, actually, I thought I'd run an idea by you. You know, just to see if you're interested.\",\n 'JOEY',\n \" We're not. He grabs Michael by the side of the head, and proceeds to draw a penis on his cheek with the magic marker. Michael suffers the indignity and speaks undaunted.\",\n 'MICHAEL',\n '(grimacing)',\n \" Hear me out. You want Bianca don't you? Joey sits back and cackles at his drawing.\",\n 'MICHAEL',\n '(continuing)',\n \" But she can't go out with you because her sister is this insane head case and no one will go out with her. right?\",\n 'JOEY',\n ' Does this conversation have a purpose?',\n 'MICHAEL',\n \" So what you need to do is recruit a guy who'll go out with her. Someone who's up for the job. Michael points to Patrick, who makes a disgusted face at his turkey pot pie before he rises and throws it at the garbage can, rather than in it.\",\n 'JOEY',\n ' That guy? I heard he ate a live duck once. Everything but the beak and the feet.',\n 'MICHAEL',\n ' Exactly Joey turns to look at Michael.',\n 'JOEY',\n \" What's in it for you?\",\n 'MICHAEL',\n \" Oh, hey, nothin' man Purely good will on my part. He rises to leave and turns to the others.\",\n 'MICHAEL',\n '(continuing)',\n \" I have a dick on my face, don't I?\",\n \"INT. BOY'S ROOM - DAY\",\n \" Michael stands at the sink, trying to scrub Joey's artwork off his face as Cameron watches.\",\n 'CAMERON',\n ' You got him involved?',\n 'MICHAEL',\n \" Like we had a choice? Besides -- when you let the enemy think he's orchestrating the battle, you're in a position of power. We let him pretend he's calling the shots, and while he's busy setting up the plan, you have time to woo Bianca. Cameron grins and puts an arm around him\",\n 'CAMERON',\n \" You're one brilliant guy Michael pulls back, noticing other guys filing in.\",\n 'MICHAEL',\n \" Hey - I appreciate gratitude as much as the next guy, but it's not gonna do you any good to be known as New Kid Who Embraces Guys In The Bathroom. Cameron pulls back and attempts to posture himself in a manly way for the others, now watching.\",\n \"INT. KENNY'S THAI FOOD DINER - DAY\",\n ' Kat and Mandella pick apart their pad thai. Mandella is smoking.',\n 'KAT',\n ' So he has this huge raging fit about Sarah Lawrence and insists that I go to his male-dominated, puking frat boy, number one golf team school. I have no say at all.',\n 'MANDELLA',\n ' William would never have gone to a state school.',\n 'KAT',\n \" William didn't even go to high school\",\n 'MANDELLA',\n \" That's never been proven\",\n 'KAT',\n \" Neither has his heterosexuality. Mandella replies with a look of ice. Kat uses the moment to stub out Mandella's cigarette.\",\n 'KAT',\n '(continuing)',\n \" I appreciate your efforts toward a speedy death, but I'm consuming. (pointing at her food) Do you mind?\",\n 'MANDELLA',\n ' Does it matter?',\n 'KAT',\n ' If I was Bianca, it would be, \"Any school you want, precious. Don\\'t forget your tiara.\" They both look up as Patrick enters. He walks up to the counter to place his order. Mandella leans toward Kat with the glow of fresh gossip',\n 'MANDELLA',\n ' Janice Parker told me he was a roadie for Marilyn Manson. Patrick nods at them as he takes his food outside.',\n 'KAT',\n ' Janice Parker is an idiot',\n \"INT. MISS PERKY'S OFFICE - DAY\",\n ' Patrick sits before Miss Perky, eating his Thai food',\n 'MISS PERKY',\n '(looking at chart)',\n \" I don't understand, Patrick. You haven't done anything asinine this week. Are you not feeling well?\",\n 'PATRICK',\n ' Touch of the flu.',\n 'MISS PERKY',\n \" I'm at a loss, then. What should we talk about? Your year of absence? He smiles his charming smile\",\n 'PATRICK',\n \" How 'bout your sex life? She tolerates his comment with her withering glance.\",\n 'MISS PERKY',\n \" Why don't we discuss your driving need to be a hemorrhoid?\",\n 'PATRICK',\n \" What's to discuss?\",\n 'MISS PERKY',\n \" You weren't abused, you aren't stupid, and as far as I can tell, you're only slightly psychotic -- so why is it that you're such a fuck-up?\",\n 'PATRICK',\n \" Well, you know -- there's the prestige of the job title... and the benefits package is pretty good... The bell RINGS.\",\n 'MISS PERKY',\n ' Fine. Go do something repugnant and give us something to talk about next week.',\n 'INT. TUTORING ROOM - DAY',\n ' Several pairs of tutors and students sit at the various desks. Mandella sits with TREVOR, a White Rasta. She attempts to get him to do geometry, but he stares at her, as if smitten',\n 'MANDELLA',\n \" Look, it's really easy.\",\n 'TREVOR',\n \" You're a freedom fighter. Be proud, sister. Mandella sets down her pencil and closes the book.\",\n 'MANDELLA',\n '(rotely)',\n \" It's Mandella with two L's. I am not related to Nelson Mandela. I am not a political figure. I do not live in South Africa. My parents just spent a few too many acid trips thinking they were revolutionaries.\",\n 'TREVOR',\n ' But you freed our people',\n 'MANDELLA',\n ' Your \"people\" are white, suburban high school boys who smoke too much hemp. I have not freed you, Trevor. (grabbing his arm dramatically) Only you can free yourself. ACROSS THE ROOM Bianca and Cameron sit side by side, cozy as can be',\n 'BIANCA',\n \" C'esc ma tete. This is my head\",\n 'CAMERON',\n \" Right. See? You're ready for the quiz.\",\n 'BIANCA',\n \" I don't want to know how to say that though. I want to know useful things. Like where the good stores are. How much does champagne cost? Stuff like Chat. I have never in my life had to point out my head to someone.\",\n 'CAMERON',\n \" That's because it's such a nice one.\",\n 'BIANCA',\n ' Forget French. She shuts her book and puts on a seductive smile',\n 'BIANCA',\n '(continuing)',\n ' How is our little Find the Wench A Date plan progressing?',\n 'CAMERON',\n \" Well, there's someone I think might be -- Bianca's eyes light up\",\n 'BIANCA',\n ' Show me',\n 'INT. HALLWAY - DAY',\n ' Cameron and Bianca lean against the wall -inconspicuously. Bianca plays it cool.',\n 'BIANCA',\n \" Give me a sign when he walks by. And don't point. The bell RINGS. Kids flood past. Then Patrick saunters by with Scurvy. Cameron nudges Bianca.\",\n 'CAMERON',\n ' There.',\n 'BIANCA',\n \" Where? Out of desperation, Cameron awkwardly lunges across Patrick's path. Patrick shoves him back against the wall without a thought. Cameron lands in a THUD at Bianca's feet.\",\n 'CAMERON',\n \" I guess he didn't see me (calling after Patrick) Some other time -- Bianca watches Patrick, a wicked gleam in her eye.\",\n 'BIANCA',\n \" My God, he's repulsive. He's so perfect!\",\n 'INT. GYM CLASS - DAY',\n ' Several volleyball games are being played. Joey and a member of his hulking entourage, approach Patrick, who still manages to look cool, even in gym clothes. They pull him aside roughly.',\n 'PATRICK',\n \" (shrugging them off) What? Joey points JOEY See that girl? Patrick follows his line of vision to Kat as she spikes the ball into some poor cowboy's face.\",\n 'PATRICK',\n ' Yeah',\n 'JOEY',\n ' What do you think? Kat wins the game and high fives the others, who are scared of her.',\n 'PATRICK',\n ' Two legs, nice rack...',\n 'JOEY',\n ' Yeah, whatever. I want you to go out with her.',\n 'PATRICK',\n \" Sure, Sparky. I'll get right on it.\",\n 'JOEY',\n ' You just said',\n 'PATRICK',\n ' You need money to take a girl out',\n 'JOEY',\n \" But you'd go out with her if you had the cake? Patrick stares at Joey deadpan. His dislike for the guy obvious.\",\n 'PATRICK',\n '(sarcastic)',\n \" Yeah, I'd take her to Europe if I had the plane. Joey smiles.\",\n 'JOEY',\n ' You got it, Verona. I pick up the tab, you do the honors.',\n 'PATRICK',\n \" You're gonna pay me to take out some girl?\",\n 'JOEY',\n \" I can't date her sister until that one gets a boyfriend. And that's the catch. She doesn't want a boyfriend.\",\n 'PATRICK',\n ' How much?',\n 'JOEY',\n ' Twenty bucks each time you take her out.',\n 'PATRICK',\n \" I can't take a girl like that out on twenty bucks.\",\n 'JOEY',\n ' Fine, thirty. Patrick raises an eyebrow, urging him up',\n 'JOEY',\n '(continuing)',\n \" Take it or leave it. This isn't a negotiation.\",\n 'PATRICK',\n \" Fifty, and you've got your man. Patrick walks away with a smile\",\n 'EXT. FIELD HOCKEY FIELD - DAY',\n ' Kat and the rest of the team go through a grueling practice session. Kat spares no one as she whips the ball all over the field. Patrick sits on the bleachers nearby, watching. A cigarette dangles from his mouth. His pal, SCURVY is next to him. MR. CHAPIN, the coach, blows the WHISTLE.',\n 'MR. CHAPIN',\n '(proudly)',\n ' Good run, Stratford. Kat nods in response, and the girls leave the field. Patrick hops down to follow.',\n 'PATRICK',\n ' Hey. Girlie. Kat stops and turns slowly to look at him.',\n 'PATRICK',\n '(continuing)',\n \" I mean Wo-man. How ya doin'?\",\n 'KAT',\n '(smiles brightly)',\n ' Sweating like a pig, actually. And yourself?',\n 'PATRICK',\n \" There's a way to get a guy's attention.\",\n 'KAT',\n ' My mission in life. She stands there undaunted, hand on hip.',\n 'KAT',\n '(continuing)',\n \" Obviously, I've struck your fancy. So, you see, it worked. The world makes sense again. Patrick's eyes narrow. He steps closer.\",\n 'PATRICK',\n ' Pick you up Friday, then',\n 'KAT',\n ' Oh, right. Friday. PATRICK backs up a little. He uses his most seductive tone',\n 'PATRICK',\n \" The night I take you to places you've never been before. And back.\",\n 'KAT',\n ' Like where? The 7-Eleven on Burnside? Do you even know my name, screwboy?',\n 'PATRICK',\n ' I know a lot more than that Kat stares at him.',\n 'KAT',\n ' Doubtful. Very doubtful. She walks away quickly, leaving him standing alone.',\n 'PATRICK',\n '(calling after her)',\n \" You're no bargain either, sweetheart. Scurvy appears at his side\",\n 'SCURVY',\n \" So I guess the Jeep won't be getting a new Blaupunkt. ACROSS THE FIELD Cameron and Michael watch.\",\n 'MICHAEL',\n ' He took the bait.',\n 'STRATFORD HOUSE/BATHROOM - NIGHT',\n \" Kat washes her face at the sink. Bianca appears behind her, and attempts to twist Kat's hair into a chignon. She wacks Bianca away.\",\n 'BIANCA',\n ' Have you ever considered a new look? I mean, seriously, you could have some potential buried under all this hostility. Kat pushes past her into the hallway.',\n 'KAT',\n \" I have the potential to smack the crap out of you if you don't get out of my way.\",\n 'BIANCA',\n ' Can you at least start wearing a bra? Kat SLAMS her door in response.',\n 'INT. HALLWAY - DAY',\n \" Patrick, Scurvy and some other randoms head for the exit SCURVY You up for a burger? Patrick looks in his wallet. It's empty.\",\n 'INT. HALLWAY - DAY',\n ' Kat stands at her locker, gathering her books. Patrick appears at her side, smiling.',\n 'PATRICK',\n \" Hey Kat doesn't answer\",\n 'PATRICK',\n '(continuing)',\n \" You hate me don't you?\",\n 'KAT',\n \" I don't really think you warrant that strong an emotion.\",\n 'PATRICK',\n \" Then say you'll spend Dollar Night at the track with me.\",\n 'KAT',\n ' And why would I do that?',\n 'PATRICK',\n ' Come on -- the ponies, the flat beer, you with money in your eyes, me with my hand on your ass...',\n 'KAT',\n ' You -- covered in my vomit.',\n 'PATRICK',\n ' Seven-thirty? She slams her locker shut and walks away',\n 'EXT. DOWNTOWN STREET - NIGHT',\n ' Kat emerges from a music store carrying a bag of CDs in her teeth, and fumbling through her purse with both hands. She finds her keys and pulls them out with a triumphant tug. She looks up and finds Patrick sitting on the hood of her car',\n 'PATRICK',\n ' Nice ride. Vintage fenders. Kat takes the bag out of her mouth.',\n 'KAT',\n ' Are you following me?',\n 'PATRICK',\n \" I was in the laundromat. I saw your car. Thought I'd say hi.\",\n 'KAT',\n ' Hi She gets in and starts the car.',\n 'PATRICK',\n \" You're not a big talker, are you?\",\n 'KAT',\n \" Depends on the topic. My fenders don't really whip me into a verbal frenzy. She starts to pull out, and is blocked by Joey's Viper, which pulls up perpendicular to her rear and parks. Joey and his groupies emerge and head for the liquor store\",\n 'KAT',\n '(continuing)',\n ' Hey -- do you mind?',\n 'JOEY',\n \" Not at all They continue on into the store. Kat stares at them in disbelief... Then BACKS UP Her vintage fenders CRASH into the door of Joey's precious Viper. Patrick watches with a delighted grin Joey races out of the liquor store.\",\n 'JOEY',\n '(continuing)',\n ' You fucking bitch! Kat pulls forward and backs into his car again. Smiling sweetly.',\n 'INT. STRATFORD HOUSE - NIGHT',\n ' Walter paces as Kat sits calmly on the couch.',\n 'WALTER',\n ' My insurance does not cover PMS',\n 'KAT',\n ' Then tell them I had a seizure.',\n 'WALTER',\n ' Is this about Sarah Lawrence? You punishing me?',\n 'KAT',\n ' I thought you were punishing me.',\n 'WALTER',\n \" Why can't we agree on this?\",\n 'KAT',\n \" Because you're making decisions for me.\",\n 'WALTER',\n \" As a parent, that's my right\",\n 'KAT',\n \" So what I want doesn't matter?\",\n 'WALTER',\n \" You're eighteen. You don't know what you want. You won't know until you're forty-five and you don't have it.\",\n 'KAT',\n '(emphatic)',\n \" I want to go to an East Coast school! I want you to trust me to make my own choices. I want -- Walter's BEEPER goes off\",\n 'WALTER',\n \" Christ! I want a night to go by that I'm not staring a contraction in the face. He walks out, leaving Kat stewing on the couch.\",\n 'INT. HALLWAY - DAY',\n \" Patrick shuts his graffiti-encrusted locker, revealing Joey's angry visage, glowering next to him.\",\n 'JOEY',\n ' When I shell out fifty, I expect results.',\n 'PATRICK',\n \" I'm on it\",\n 'JOEY',\n \" Watching the bitch trash my car doesn't count as a date.\",\n 'PATRICK',\n ' I got her under control. She just acts crazed in public to keep up the image. Joey sees through the bluff',\n 'JOEY',\n \" Let me put it to you this way, if you don't get any action, I don't get any action. So get your ass on hers by the end of the week. Joey starts to walk off\",\n 'PATRICK',\n ' I just upped my price',\n 'JOEY',\n '(turning)',\n ' What?',\n 'PATRICK',\n ' A hundred bucks a date.',\n 'JOEY',\n ' Forget it.',\n 'PATRICK',\n ' Forget her sister, then. Joey thinks for a frustrated moment, PUNCHES the locker, then peels another fifty out of his wallet with a menacing scowl.',\n 'JOEY',\n \" You better hope you're as smooth as you think you are, Verona. Patrick takes the money with a smile.\",\n 'INT. TUTORING ROOM - DAY',\n ' Cameron runs a sentence past Bianca.',\n 'CAMERON',\n \" La copine et I 'ami? La diferance? Bianca glares at him.\",\n 'BIANCA',\n ' A \"copine\" is someone you can count on. An \"ami\" is someone who makes promises he can\\'t keep. Cameron closes the French book',\n 'CAMERON',\n ' You got something on your mind?',\n 'BIANCA',\n \" I counted on you to help my cause. You and that thug are obviously failing. Aren't we ever going on our date? He melts\",\n 'CAMERON',\n ' You have my word. As a gentleman',\n 'BIANCA',\n \" You're sweet. She touches his hand. He blushes at her praise and watches her toss her hair back\",\n 'CAMERON',\n '(appreciative)',\n ' How do you get your hair to look like that?',\n 'BIANCA',\n \" Eber's Deep Conditioner every two days. And I never, ever use a blowdryer without the diffuser attachment. Cameron nods with interest.\",\n 'CAMERON',\n ' You know, I read an article about that. Bianca looks surprised.',\n 'BIANCA',\n ' You did?',\n \"INT. BOY'S ROOM - DAY\",\n ' Patrick stands at the sink, washing his hands Michael and Cameron cower in the corner, watching him.',\n 'PATRICK',\n ' (without turning around) Say it',\n 'MICHAEL',\n ' (clearing his throat) What?',\n 'PATRICK',\n \" Whatever the hell it is you're standin' there waitin' to say. Cameron bravely steps forward\",\n 'CAMERON',\n ' We wanted to talk to you about the plan. Patrick turns toward them.',\n 'PATRICK',\n ' What plan?',\n 'MICHAEL',\n ' The situation is, my man Cameron here has a major jones for Bianca Stratford.',\n 'PATRICK',\n ' What is it with this chick? She have three tits? Cameron starts to object, but Michael holds up a hand.',\n 'MICHAEL',\n \" I think I speak correctly when I say that Cameron's love is pure. Purer than say -- Joey Dorsey's.\",\n 'PATRICK',\n \" Dorsey can plow whoever he wants. I'm just in this for the cash. Cameron starts choking at the thought of Joey plowing his beloved Bianca.\",\n 'MICHAEL',\n \" That's where we can help you. With Kat.\",\n 'PATRICK',\n ' So Dorsey can get the girl?',\n 'MICHAEL',\n \" Patrick, Pat, you're not looking at the big picture. Joey's just a pawn. We set this whole thing up so Cameron can get the girl. Patrick smiles. He likes the idea of Joey being a pawn in this game.\",\n 'PATRICK',\n ' You two are gonna help me tame the wild beast?',\n 'MICHAEL',\n '(grinning)',\n \" We're your guys.\",\n 'CAMERON',\n ' And he means that strictly in a non- prison-movie type of way.',\n 'PATRICK',\n \" Yeah -- we'll see. He swings the door open and exits, leaving Michael and Cameron grinning at each other.\",\n 'MICHAEL',\n \" We're in.\",\n 'INT. CLASSROOM - DAY',\n ' CU on a party invitation as it gets handed out. \"Future Princeton Grad Bogey Lowenstein proudly presents a Saturday night bash at his abode. Casual attire\". Michael holds the invitation up to Cameron.',\n 'CAMERON',\n ' This is it. A golden opportunity. Patrick can ask Katarina to the party.',\n 'MICHAEL',\n \" In that case, we'll need to make it a school-wide blow out.\",\n 'CAMERON',\n ' Will Bogey get bent?',\n 'MICHAEL',\n \" Are you kidding? He'll piss himself with joy. He's the ultimate kiss ass.\",\n 'CAFETERIA - DAY',\n ' Michael hands a jock the party invite as they pass each other at the trash cans.',\n 'INT. GYM CLASS - DAY',\n ' The jock calls a fellow jock',\n 'INT. MATH CLASS - DAY',\n ' Jock whispers to a cheerleader',\n 'COURTYARD - DAY',\n \" The cheerleader calls a White Rasta that she's making out with, showing him the invite.\",\n 'TRACK - DAY',\n ' The White Rasta tells a cowboy as they run laps during track practice.',\n 'INT. SHOWERS - DAY',\n ' The cowboy Cells a Coffee Kid, as he shields his java from the spray of the shower.',\n 'INT. HALLWAY - DAY',\n ' Joey stands ac his open locker with Bianca. The locker is an homage to Joey\\'s \"modeling\" career. Cheesy PRINT ADS of him -- running in a field of daisies, petting a kitten, etc. -- adorn the locker door.',\n 'JOEY',\n \" Which do you like better? INSERT - HEADSHOTS of Joey. In one, he's pouting in a white shirt. In the other, he's pouting in a black shirt.\",\n 'BIANCA',\n ' I think I like the white shirt Joey nods thoughtfully.',\n 'JOEY',\n \" It's more\",\n 'BIANCA',\n ' Expensive?',\n 'JOEY',\n ' Exactly',\n '(beat)',\n \" So, you going to Bogey Lowenbrau's thing on Saturday?\",\n 'BIANCA',\n ' Hopefully. He gives her his best flirtatious smile',\n 'JOEY',\n \" Good, 'cause I'm not gonna bother if you won't be there. He taps her on the nose and she giggles\",\n 'INT. TUTORING ROOM',\n \" Bianca sits across from Cameron, who's transfixed, as always\",\n 'BIANCA',\n \" Have you heard about Bogey Lowenstein's party?\",\n 'CAMERON',\n ' Sure have.',\n 'BIANCA',\n '(pouting)',\n \" I really, really, really wanna go, but I can't. Not unless my sister goes.\",\n 'CAMERON',\n \" I'm workin' on it. But she doesn't seem to be goin' for him. He fishes.\",\n 'CAMERON',\n '(continuing)',\n \" She's not a...\",\n 'BIANCA',\n \" Lesbian? No. I found a picture of Jared Leto in one of her drawers, so I'm pretty sure she's not harboring same-sex tendencies.\",\n 'CAMERON',\n \" So that's the kind of guy she likes? Pretty ones?\",\n 'BIANCA',\n \" Who knows? All I've ever heard her say is that she'd dip before dating a guy that smokes. Cameron furiously takes notes\",\n 'CAMERON',\n ' All right. What else is she partial to?',\n 'INT. DIVE BAR - NIGHT',\n ' Patrick plays pool with some random deviant cronies. He looks up when he hears a COMMOTION at the door. LOU the bouncer is in the midst of throwing Michael and Cameron out.',\n 'PATRICK',\n \" Lou, it's okay. They're with me. Lou looks at Patrick, surprised, then reluctantly lets our two non-deviants pass through. Patrick guides them to a table and sips from a beer.\",\n 'PATRICK',\n '(continuing)',\n \" What've you got for me?\",\n 'CAMERON',\n \" I've retrieved certain pieces of information on Miss Katarina Stratford I think you'll find helpful. Cameron pulls out a piece of paper.\",\n 'MICHAEL',\n '(to Patrick)',\n \" One question before we start -- should you be drinking alcohol when you don't have a liver?\",\n 'PATRICK',\n ' What?!',\n 'MICHAEL',\n ' Good enough. Cameron looks up at Patrick.',\n 'CAMERON',\n ' Number one. She hates smokers',\n 'MICHAEL',\n \" It's a lung cancer issue\",\n 'CAMERON',\n ' Her favorite uncle',\n 'MICHAEL',\n ' Dead at forty-one. Patrick sits up',\n 'PATRICK',\n ' Are you telling me I\\'m a - (spits the word out) \"non-smoker\"?',\n 'MICHAEL',\n ' Just for now.',\n 'CAMERON',\n ' Another thing. Bianca said that Kat likes -- pretty guys. This is met with silence. Then:',\n 'PATRICK',\n \" What? You don't think I'm pretty? Michael smacks Cameron\",\n 'MICHAEL',\n \" He's pretty!\",\n 'CAMERON',\n \" Okay! I wasn't sure Cameron goes back to the list.\",\n 'CAMERON',\n '(continuing)',\n ' Okay -- Likes: Thai food, feminist prose, and \"angry, stinky girl music of the indie-rock persuasion\".',\n 'PATRICK',\n \" So what does that give me? I'm supposed to buy her some noodles and a book and sit around listening to chicks who can't play their instruments?\",\n 'MICHAEL',\n ' Ever been to Club Skunk?',\n 'PATRICK',\n ' Yeah.',\n 'CAMERON',\n ' Gigglepuss is playing there tomorrow night.',\n 'PATRICK',\n \" Don't make me do it, man\",\n 'MICHAEL',\n ' Assail your ears for one night.',\n 'CAMERON',\n \" It's her favorite band. Patrick groans\",\n 'MICHAEL',\n ' I also retrieved a list of her most recent CD purchases, courtesy of American Express. He hands it over.',\n 'PATRICK',\n '(smiling)',\n ' Michael -- did you get this information \"illegally\"? Michael puts a finger to his lips.',\n 'MICHAEL',\n ' I prefer to think of it simply as an alternative to what the law allows.',\n 'PATRICK',\n \" I'm likin' you guys better He looks down at the list of CDs.\",\n 'PATRICK',\n '(continuing)',\n ' This is really music?',\n \"INT. KAT'S ROOM - NIGHT\",\n ' MUSIC BLARES in a room with minimalist decor splashed with indie rock band posters and flyers. Kat and Mandella dance as they dress and apply make-up Bianca enters, interrupting their fun.',\n 'BIANCA',\n \" Can you turn down the Screaming Menstrual Bitches? I'm trying to study. Kat doesn't move, so Bianca crosses to the stereo, turning down the volume.\",\n 'BIANCA',\n '(continuing)',\n \" Don't tell me you're actually going out? On a school night, no less. Kat shoots her a glare\",\n 'BIANCA',\n \" (continuing; excited) Oh my God, does this mean you're becoming normal?\",\n 'KAT',\n \" It means that Gigglepuss is playing at Club Skunk and we're going.\",\n 'BIANCA',\n '(disappointed)',\n ' Oh, I thought you might have a date',\n '(beat)',\n \" I don't know why I'm bothering to ask, but are you going to Bogey Lowenstein's party Saturday night?\",\n 'KAT',\n ' What do you think?',\n 'BIANCA',\n \" I think you're a freak. I think you do this to torture me. And I think you suck. She smiles sweetly and shuts the door behind her. Kat doesn't bat an eye. She grabs her purse and opens the door\",\n 'KAT',\n \" Let's hit it.\",\n 'EXT. CLUB SKUNK - NIGHT',\n ' A happy black and white neon skunk sprays fine mist on the line of kids below.',\n 'INT. CLUB FOYER - NIGHT',\n ' Kat and Mandella walk in, Mandella nervously pulling out her fake ID. The giant, afroed bouncer, BRUCE, looks typically mono-syllabic.',\n 'MANDELLA',\n '(whispering to Kat)',\n \" You think this'll work?\",\n 'KAT',\n ' No fear. They approach Bruce. Kat puts on her happy, shiny face',\n 'KAT',\n '(continuing)',\n \" Hello! We'd like two for Gigglepuss! Bruce looks the girls up and down.\",\n 'BRUCE',\n ' I can count. He looks at their IDs. Mandella gently moves Kat aside, wearing a face that could only be described as \"I AM a Victoria\\'s Secret model.\"',\n 'MANDELLA',\n \" I'll bet you can.. She sticks out her chest and licks her lips. Bruce stares at her deadpan and hands her back the IDs.\",\n 'BRUCE',\n ' Go ahead.',\n '(to Mandella)',\n ' And you',\n 'MANDELLA',\n '(all come hither)',\n ' Yes?',\n 'BRUCE',\n ...]"
     },
     "execution_count": 106,
     "metadata": {},
     "output_type": "execute_result"
    }
   ],
   "source": [
    "cleaner(dict_script['12'])"
   ],
   "metadata": {
    "collapsed": false,
    "pycharm": {
     "name": "#%%\n"
    }
   }
  },
  {
   "cell_type": "markdown",
   "source": [
    "# Notes"
   ],
   "metadata": {
    "collapsed": false,
    "pycharm": {
     "name": "#%% md\n"
    }
   }
  },
  {
   "cell_type": "code",
   "execution_count": 46,
   "outputs": [],
   "source": [
    "url_movie = f'https://imsdb.com/scripts/{movie_list[0]}.html'\n",
    "req_text = request.urlopen(url_movie)\n",
    "page = bs4.BeautifulSoup(req_text, 'html')"
   ],
   "metadata": {
    "collapsed": false,
    "pycharm": {
     "name": "#%%\n"
    }
   }
  },
  {
   "cell_type": "code",
   "execution_count": 65,
   "outputs": [],
   "source": [
    "rows = page.findAll('pre')[1].text.split('\\r\\n')"
   ],
   "metadata": {
    "collapsed": false,
    "pycharm": {
     "name": "#%%\n"
    }
   }
  },
  {
   "cell_type": "code",
   "execution_count": 67,
   "outputs": [
    {
     "data": {
      "text/plain": "['TEN THINGS I HATE ABOUT YOU',\n 'written by Karen McCullah Lutz & Kirsten Smith',\n 'based on \\'Taming of the Shrew\" by William Shakespeare',\n 'Revision November 12, 1997',\n 'PADUA HIGH SCHOOL - DAY',\n 'Welcome to Padua High School,, your typical urban-suburban',\n 'high school in Portland, Oregon. Smarties, Skids, Preppies,',\n 'Granolas. Loners, Lovers, the In and the Out Crowd rub sleep',\n 'out of their eyes and head for the main building.',\n 'PADUA HIGH PARKING LOT - DAY',\n 'KAT STRATFORD, eighteen, pretty -- but trying hard not to be',\n '-- in a baggy granny dress and glasses, balances a cup of',\n 'coffee and a backpack as she climbs out of her battered,',\n \"baby blue '75 Dodge Dart.\",\n 'A stray SKATEBOARD clips her, causing her to stumble and',\n 'spill her coffee, as well as the contents of her backpack.',\n 'The young RIDER dashes over to help, trembling when he sees',\n 'who his board has hit.',\n 'RIDER',\n 'Hey -- sorry.',\n 'Cowering in fear, he attempts to scoop up her scattered',\n 'belongings.',\n 'KAT',\n 'Leave it',\n 'He persists.',\n 'KAT (continuing)',\n 'I said, leave it!',\n 'She grabs his skateboard and uses it to SHOVE him against a',\n 'car, skateboard tip to his throat. He whimpers pitifully',\n 'and she lets him go. A path clears for her as she marches',\n 'through a pack of fearful students and SLAMS open the door,',\n 'entering school.',\n \"INT. GIRLS' ROOM - DAY\",\n 'BIANCA STRATFORD, a beautiful sophomore, stands facing the',\n 'mirror, applying lipstick. Her less extraordinary, but',\n 'still cute friend, CHASTITY stands next to her.',\n 'BIANCA',\n 'Did you change your hair?',\n 'CHASTITY',\n 'No.',\n 'BIANCA',\n 'You might wanna think about it',\n \"Leave the girls' room and enter the hallway.\",\n 'HALLWAY - DAY- CONTINUOUS',\n 'Bianca is immediately greeted by an admiring crowd, both',\n 'boys',\n 'and girls alike.',\n 'BOY',\n '(adoring)',\n 'Hey, Bianca.',\n 'GIRL',\n 'Awesome shoes.',\n 'The greetings continue as Chastity remains wordless and',\n 'unaddressed by her side. Bianca smiles proudly,',\n 'acknowledging her fans.',\n \"GUIDANCE COUNSELOR'S OFFICE - DAY\",\n 'CAMERON JAMES, a clean-cut, easy-going senior with an open,',\n 'farm-boy face, sits facing Miss Perky, an impossibly cheery',\n 'guidance counselor.',\n 'MISS PERKY',\n \"I'm sure you won't find Padua any\",\n 'different than your old school. Same',\n 'little asswipe mother-fuckers',\n 'everywhere.',\n 'Her plastic smile never leaves her face. Cameron fidgets in',\n 'his chair uncomfortably.',\n 'MISS PERKY',\n '(continuing)',\n 'Any questions?',\n 'CAMERON',\n \"I don't think so, ma'am\",\n 'MISS PERKY',\n \"Then go forth. Scoot I've got\",\n 'deviants to see.',\n 'Cameron rises to leave and makes eye contact with PATRICK',\n 'VERONA, a sullen-looking bad ass senior who waits outside Ms',\n \"Perky's door. His slouch and smirk let us know how cool he\",\n 'is.',\n 'Miss Perky looks down at her file and up at Patrick',\n 'MISS PERKY',\n '(continuing)',\n \"Patrick Verona. I see we're making our\",\n 'visits a weekly ritual.',\n 'She gives him a withering glance. He answers with a charming',\n 'smile.',\n 'PATRICK',\n 'I missed you.',\n 'MISS PERKY',\n 'It says here you exposed yourself to a',\n 'group of freshmen girls.',\n 'PATRICK',\n 'It was a bratwurst. I was eating',\n 'lunch.',\n 'MISS PERKY',\n 'With the teeth of your zipper?',\n 'She motions for Patrick to enter her office and Cameron',\n 'shuffles out the door, bumping into MICHAEL ECKMAN, a lanky,',\n 'brainy senior who will either end up a politician or game',\n 'show host.',\n 'MICHAEL',\n 'You the new guy?',\n 'CAMERON',\n 'So they tell me...',\n 'MICHAEL',\n \"C'mon. I'm supposed to give you the\",\n 'tour.',\n 'They head out of the office',\n 'MICHAEL',\n '(continuing)',\n 'So -- which Dakota you from?',\n 'CAMERON',\n \"North, actually. How'd you ?\",\n 'MICHAEL',\n 'I was kidding. People actually live',\n 'there?',\n 'CAMERON',\n \"Yeah. A couple. We're outnumbered by\",\n 'the cows, though.',\n 'MICHAEL',\n 'How many people were in your old',\n 'school?',\n 'CAMERON',\n 'Thirty-two.',\n 'MICHAEL',\n 'Get out!',\n 'CAMERON',\n 'How many people go here?',\n 'MICHAEL',\n 'Couple thousand. Most of them evil',\n 'INT. HALLWAY - DAY- CONTINUOUS',\n 'Prom posters adorn the wall. Michael steers Cameron through',\n 'the crowd as he points to various cliques.',\n 'MICHAEL',\n \"We've got your basic beautiful people.\",\n \"Unless they talk to you first, don't\",\n 'bother.',\n 'The beautiful people pass, in full jock/cheerleader',\n 'splendor.',\n 'MICHAEL',\n '(continuing)',\n \"Those 're your cowboys.\",\n 'Several Stetson-wearing, big belt buckle. Wrangler guys',\n 'walk by.',\n 'CAMERON',\n \"That I'm used to.\",\n 'MICHAEL',\n 'Yeah, but these guys have never seen a',\n 'horse. They just jack off to Clint',\n 'Eastwood.',\n 'They pass an espresso cart with a group of teens huddled',\n 'around it.',\n 'MICHAEL',\n '(continuing)',\n 'To the right, we have the Coffee Kids.',\n \"Very edgy. Don't make any sudden\",\n 'movements around them.',\n 'EXT. SCHOOL COURTYARD - DAY',\n 'Michael continues the tour',\n 'MICHAEL',\n 'And these delusionals are the White',\n 'Rastae.',\n 'Several white boys in dreadlocks and Jamaican knit berets',\n 'lounge on the grass. A cloud of pot smoke hovers above them',\n 'MICHAEL',\n '(continuing)',\n \"Big Marley fans. Think they're black.\",\n 'Semi-political, but mostly, they watch a',\n 'lot of Wild Kingdom, if you know what I',\n 'mean.',\n 'Michael waves to DEREK, the one with the longest dreads.',\n 'MICHAEL',\n '(continuing)',\n 'Derek - save some for after lunch, bub?',\n 'DEREK',\n '(very stoned)',\n 'Michael, my brother, peace',\n 'Cameron turns to follow Michael as they walk into the',\n 'cafeteria.',\n 'CAMERON',\n 'So where do you fit in all this?',\n 'INT. CAFETERIA - DAY - CONTINUOUS',\n 'Loud music and loud students. Michael sits with a group of',\n 'studious-looking teens.',\n 'MICHAEL',\n \"Future MBAs- We're all Ivy League,\",\n \"already accepted. Someday I'll be\",\n 'sipping Merlot while those guys --',\n 'He points to the table of jocks, as they torture various',\n 'passers-by.',\n 'MICHAEL',\n '(continuing)',\n 'are fixing my Saab. Yuppie greed is',\n 'back, my friend.',\n 'He points proudly to the ALLIGATOR on his shirt.',\n 'Cameron stops listening as BIANCA walks by, and we go SLO',\n 'MO. Pure and perfect, she passes Cameron and Michael',\n 'without a look.',\n 'Cameron is smitten',\n 'CAMERON',\n 'That girl -- I --',\n 'MICHAEL',\n 'You burn, you pine, you perish?',\n 'CAMERON',\n 'Who is she?',\n 'MICHAEL',\n \"Bianca Stratford. Sophomore. Don't\",\n 'even think about it',\n 'CAMERON',\n 'Why not?',\n 'MICHAEL',\n 'I could start with your haircut, but it',\n \"doesn't matter. She's not allowed to\",\n 'date until her older sister does. And',\n \"that's an impossibility.\",\n 'ENGLISH CLASS - DAY',\n 'A room full of bored seniors doodle and scare off into space',\n 'MS. BLAISE, the one-step-away-from-medication English',\n \"Teacher, tries to remember what she's talking about.\",\n 'MRS. BLAISE',\n 'Well, then. Oh, yes. I guess that',\n 'does it for our analysis of The Old Man',\n 'and the Sea. Any other comments?',\n '(with dread)',\n 'Kat?',\n 'Kat, the girl we saw as we entered the school, slowly cakes',\n 'off her glasses and speaks up.',\n 'KAT',\n \"Why didn't we just read the Hardy Boys?\",\n 'MRS. BLAISE',\n \"I'm sorry?\",\n 'KAT',\n 'This book is about a guy and his',\n 'fishing habit. Not exactly a crucial',\n 'topic.',\n 'The other students roll their eyes.',\n 'KAT',\n '(continuing)',\n \"Frankly, I'm baffled as to why we still\",\n 'revere Hemingway. He was an abusive,',\n 'alcoholic misogynist who had a lot of',\n 'cats.',\n 'JOEY DORSEY, a well-muscled jock with great cheekbones,',\n 'makes fun of her from his row.',\n 'JOEY',\n 'As opposed to a bitter self-righteous',\n 'hag who has no friends?',\n 'A few giggles. Kat ignores him. A practiced gesture',\n 'MRS. BLAISE',\n \"That's enough, Mr. Dorsey.\",\n 'Really gets fired up now',\n 'KAT',\n 'I guess the school board thinks because',\n \"Hemingway's male and an asshole, he's\",\n 'worthy of our time',\n 'She looks up at Ms. Blaise, who is now fighting with her',\n 'pill box.',\n 'KAT',\n '(continuing)',\n 'What about Colette? Charlotte Bronte?',\n 'Simone de Beauvoir?',\n 'Patrick, lounging in his seat in the back row, elbows a',\n 'crusty-looking crony, identified by the name SCURVY,',\n 'embroidered on his workshirt.',\n 'PATRICK',\n 'Mother Goose?',\n 'The class titters. Kat wears an expression of intolerance',\n \"INT. GUIDANCE COUNSELOR'S OFFICE - DAY\",\n 'Kat now sits before Miss Perky.',\n 'MISS PERKY',\n \"Katarina Stratford. My, my. You've\",\n 'been terrorizing Ms. Blaise again.',\n 'KAT',\n 'Expressing my opinion is not a',\n 'terrorist action.',\n 'MISS PERKY',\n 'Well, yes, compared to your other',\n \"choices of expression this year, today's\",\n 'events are quite mild. By the way,',\n \"Bobby Rictor's gonad retrieval operation\",\n \"went quite well, in case you're\",\n 'interested.',\n 'KAT',\n 'I still maintain that he kicked himself',\n 'in the balls. I was merely a spectator.',\n 'MISS PERKY',\n 'The point is Kat -- people perceive you',\n 'as somewhat ...',\n 'Kat smiles at her, daring her to say it.',\n 'KAT',\n 'Tempestuous?',\n 'MISS PERKY',\n 'No ... I believe \"heinous bitch\" is the',\n 'term used most often.',\n \"She grimaces, as if she's referring to a medical condition.\",\n 'MISS PERKY',\n '(continuing)',\n 'You might want to work on that',\n 'Kat rises from her chair with a plastic smile matching the',\n \"counselor's.\",\n 'KAT',\n 'As always, thank you for your excellent',\n 'guidance.',\n 'INT. SOPHOMORE ENGLISH CLASS - DAY',\n 'Bianca ignores the droning teacher as she writes a note in',\n 'big flowing handwriting.',\n 'TEACHER (0.S.)',\n 'I realize the language of Mr.',\n 'Shakespeare makes him a bit daunting,',\n \"but I'm sure you're all doing your best.\",\n 'Bianca folds the note and passes it behind her with a flip',\n 'of her hair to CHASTITY. Chastity opens the note and reads:',\n 'INSERT - \"JOEY DORSEY SAID HI TO ME IN THE HALL! OH! MY',\n 'GOD!\"',\n 'Chastity frowns to herself.',\n 'TEACHER (0.S.)',\n '(continuing)',\n 'Ms. Stratford, do you care to comment',\n \"on what you've read so far?\",\n \"Bianca looks up and smiles the smile of Daddy's little girl.\",\n 'BIANCA',\n 'Not really.',\n 'The teacher shakes her head, but lets it go.',\n 'MANDELLA. a waif-like senior girl who sits off to the side',\n 'trying to slit her wrist with the plastic spiral on her',\n 'notebook, looks up and raises her hand.',\n 'TEACHER',\n \"Mandella -- since you're assisting us,\",\n \"you might as well comment. I'm assuming\",\n 'you read the assignment.',\n 'MANDELLA',\n 'Uh, yeah, I read it all',\n 'TEACHER',\n 'The whole play^',\n 'MANDELIA',\n 'The whole folio. All the plays.',\n 'TEACHER',\n '(disbelieving)',\n \"You've read every play by William\",\n 'Shakespeare?',\n 'MANDELLA',\n \"Haven't you?\",\n 'She raises a challenging eyebrow. The stunned teacher',\n \"doesn't answer and goes to call on the next student.\",\n 'EXT. SCHOOL COURTYARD - DAY',\n 'Mandella and Kat sit down in the quiet corner. They are',\n 'eating a carton of yogurt with gusto.',\n 'MANDELLA',\n \"Your sister is so amazingly without. She'll never read him.\",\n 'She has no idea.',\n 'Kat attacks',\n 'KAT',\n \"The fact that you're cutting gym so you\",\n 'can T.A. Sophomore English just to hear',\n 'his name, is a little without in itself',\n 'if you ask me.',\n \"Kat's attention is caught by Patrick as he walks by with his\",\n 'friends, lighting up a cigarette. Mandella notices her',\n 'staring.',\n 'MANDELLA',\n \"Who's that?\",\n 'KAT',\n 'Patrick Verona Random skid.',\n 'MANDELLA',\n \"That's Pat Verona? The one who was gone\",\n 'for a year? I heard he was doing porn',\n 'movies.',\n 'KAT',\n \"I'm sure he's completely incapable of\",\n 'doing anything that interesting.',\n 'MANDELLA',\n 'He always look so',\n 'KAT',\n 'Block E?',\n 'Kat turns back to face Mandella and forces her yogurt into',\n \"Mandella's hand.\",\n 'KAT',\n '(continuing)',\n 'Mandella, eat. Starving yourself is a',\n 'very slow way to die.',\n 'MANDELLA',\n 'Just a little.',\n 'She eats. Kat sees her wrist',\n 'KAT',\n \"What's this?\",\n 'MANDELLA',\n 'An attempted slit.',\n 'Kat stares at her, expressionless.',\n 'KAT',\n 'I realize that the men of this fine',\n 'institution are severely lacking, but',\n 'killing yourself so you can be with',\n 'William Shakespeare is beyond the scope',\n \"of normal teenage obsessions. You're\",\n 'venturing far past daytime talk show',\n 'fodder and entering the world of those',\n 'who need very expensive therapy.',\n 'MANDELLA',\n \"But imagine the things he'd say during\",\n 'sex.',\n 'Thinks a minute',\n 'KAT',\n 'Okay, say you do it. You kill',\n 'yourself, you end up in wherever you end',\n \"up and he's there. Do you really think\",\n \"he's gonna wanna dace a ninety pound\",\n 'compulsive who failed volleyball?',\n \"Mandella's attention is struck by Bianca\",\n 'ACROSS THE COURTYARD',\n 'As she and Chastity parade by Joey and his COHORTS One of',\n 'the cohorts elbows Joey.',\n 'COHORT',\n 'Virgin alert.',\n 'Joey looks up and smiles at Bianca.',\n 'JOEY',\n \"Lookin' good, ladies.\",\n 'Bianca smiles her coyest of smiles.',\n 'BACK TO KAT AND MANDELLA Still watching.',\n 'MANDELLA',\n 'Tragic.',\n \"Doesn't respond\",\n 'ANOTHER ANGLE',\n \"Michael and Cameron observe Joey's leers at Bianca from\",\n 'their bench in another corner. Cowboys eating cue of a can',\n 'of beans linger on the grass behind them.',\n 'CAMERON',\n 'Why do girls like that always like guys',\n 'like that?',\n 'MICHAEL',\n \"Because they're bred to. Their mothers\",\n 'liked guys like that, and their',\n 'grandmothers before them. Their gene',\n 'pool is rarely diluted.',\n 'CAMERON',\n 'He always have that shit-eating grin?',\n 'MICHAEL',\n 'Joey Dorsey? Perma-shit-grin. I wish',\n \"I could say he's a moron, but he's\",\n 'number twelve in the class. And a',\n \"model. Mostly regional stuff, but he's\",\n 'rumored to have a big tube sock ad',\n 'coming out.',\n 'The BELL rings, and the cowboys stand and spit into their',\n 'empty bean cans. Cameron and Michael rise as Cameron tries',\n 'to catch a glimpse of Bianca as she walks back inside.',\n 'MICHAEL',\n '(continuing)',\n 'You know French?',\n 'CAMERON',\n \"Sure do ... my Mom's from Canada\",\n 'MICHAEL',\n 'Guess who just signed up for a tutor?',\n 'CAMERON',\n \"You mean I'd get a chance to talk to\",\n 'her?',\n 'MICHAEL',\n 'You could consecrate with her, my',\n 'friend.',\n 'Cameron watches as Bianca flounces back into the building.',\n 'EXT. SCHOOL PARKING LOT - DAY',\n \"Kat and Mandella walk toward Kat's car. Joey pulls up\",\n 'beside her in his Viper.',\n 'JOEY',\n '(re her dress)',\n \"The vintage look is over, Kat. Haven't\",\n 'you been reading your Sassy?',\n 'KAT',\n 'Yeah, and I noticed the only part of',\n 'you featured in your big Kmart spread',\n 'was your elbow. Tough break.',\n 'JOEY',\n '(practically',\n 'spitting)',\n \"They're running the rest of me next\",\n 'month.',\n 'He zooms away as Kat yanks open the door of her Dart.',\n \"Mandella ties a silk scarf around her head, as if they're in\",\n 'a convertible.',\n 'KAT',\n 'The people at this school are so',\n 'incredibly foul.',\n 'MANDELLA',\n \"You could always go with me. I'm sure\",\n 'William has some friends.',\n \"They watch Joey's car as he slows next to Bianca and\",\n 'Chastity as they walk toward the school bus.',\n 'ON BIANCA AND CHASTITY',\n 'JOEY',\n 'Need a ride, ladies?',\n \"Bianca and Chastity can't get in Joey's car fast enough. He\",\n 'pulls away with a smile.',\n 'BACK TO KAT AND MANDELLA',\n 'Mandella lowers her sunglasses to watch.',\n 'MANDELLA',\n \"That's a charming new development\",\n \"Kat doesn't answer, but reaches over and puts a tape in the\",\n 'tape deck. The sounds of JOYFUL PUNK ROCK fill the car.',\n 'As they pull out, Michael crosses in front of them on his',\n 'moped. Kat has to SLAM the brakes to keep from hitting him',\n 'KAT',\n '(yelling)',\n 'Remove head from sphincter! Then',\n 'pedal!',\n 'Michael begins fearfully, pedaling as Kat PEELS out, angry',\n 'at the delay.',\n 'Cameron rushes over',\n 'CAMERON',\n 'You all right?',\n 'He slows to a stop',\n 'MICHAEL',\n 'Yeah, just a minor encounter with the',\n 'shrew.',\n 'CAMERON',\n \"That's her? Bianca's sister?\",\n 'MICHAEL',\n 'The mewling, rampalian wretch herself.',\n \"Michael putters off, leaving Cameron dodging Patrick's\",\n 'grimy, grey Jeep -- a vehicle several years and many paint',\n 'jobs away from its former glory as a REGULATION MAIL TRUCK -',\n '- as he sideswipes several cars on his way out of the lot.',\n 'INT. STRATFORD HOUSE - DAY',\n 'SHARON STRATFORD, attractive and focused, sits in front of',\n 'her computer, typing quickly. A shelf next to her holds',\n 'several bodice-ripper romance novels, bearing her name.',\n 'Kat stands behind her, reading over her shoulder as she',\n 'types.',\n 'KAT',\n '\"Undulating with desire, Adrienne',\n 'removes her crimson cape, revealing her',\n 'creamy --\"',\n 'WALTER STRATFORD, a blustery, mad scientist-type',\n 'obstetrician, enters through the front door, wearing a',\n \"doctor's white jacket and carrying his black bag.\",\n 'WALTER',\n \"I hope dinner's ready because I only have ten minutes before\",\n 'Mrs. Johnson squirts out a screamer.',\n 'He grabs the mail and rifles through it, as he bends down to',\n 'kiss Sharon on the cheek.',\n 'SHARON',\n 'In the microwave.',\n 'WALTER',\n '(to Kat)',\n 'Make anyone cry today?',\n 'KAT',\n \"Sadly, no. But it's only four-thirty.\",\n 'Bianca walks in.',\n 'KAT',\n '(continuing)',\n \"Where've you been?\",\n 'BIANCA',\n '(eyeing Walter)',\n 'Nowhere... Hi, Daddy.',\n 'She kisses him on the cheek',\n 'WALTER',\n 'Hello, precious.',\n 'Walter kisses Bianca back as Kat heads up the stairs',\n 'KAT',\n 'How touching.',\n 'Walter holds up a letter to Kat',\n 'WALTER',\n \"What's this? It says Sarah Lawrence?\",\n 'Snatches it away from him.',\n 'KAT',\n 'I guess I got in',\n 'Sharon looks up from her computer.',\n 'SHARON',\n \"What's a synonym for throbbing?\",\n 'WALTER',\n 'Sarah Lawrence is on the other side of',\n 'the country.',\n 'KAT',\n 'I know.',\n 'WALTER',\n 'I thought we decided you were going to',\n 'school here. At U of 0.',\n 'KAT',\n 'You decided.',\n 'BIANCA',\n 'Is there even a question that we want',\n 'her to stay?',\n 'Kat gives Bianca an evil look then smiles sweetly at',\n 'KAT',\n 'Ask Bianca who drove her home',\n 'SHARON',\n 'Swollen...turgid.',\n 'WALTER',\n '(to Bianca; upset)',\n 'Who drove you home?',\n 'Bianca glares at Kat then turns to Walter',\n 'BIANCA',\n \"Now don't get upset. Daddy, but there's\",\n 'this boy... and I think he might ask...',\n 'WALTER',\n \"No! You're not dating until your sister\",\n 'starts dating. End of discussion.',\n 'BIANCA',\n 'What if she never starts dating?',\n 'WALTER',\n \"Then neither will you. And I'll get to\",\n 'sleep at night.',\n 'BIANCA',\n \"But it's not fair -- she's a mutant,\",\n 'Daddy!',\n 'KAT',\n 'This from someone whose diary is',\n 'devoted to favorite grooming tips?',\n 'WALTER',\n 'Enough!',\n 'He pulls out a small tape recorder from his black bag.',\n 'WALTER',\n '(continuing)',\n 'Do you know what this is?',\n 'He hits the \"play\\' button and SHRIEKS OF PAIN emanate from',\n 'the tape recorder.',\n 'BIANCA AND WALTER',\n '(in unison, by',\n 'rote)',\n 'The sound of a fifteen-year-old in',\n 'labor.',\n 'WALTER',\n \"This is why you're not dating until\",\n 'your sister does.',\n 'BIANCA',\n \"But she doesn't want to date.\",\n 'WALTER',\n 'Exactly my point',\n 'His BEEPER goes off and he grabs his bag again',\n 'WALTER',\n '(continuing)',\n 'Jesus! Can a man even grab a sandwich',\n 'before you women start dilating?',\n 'SHARON',\n 'Tumescent!',\n 'WALTER',\n '(to Sharon; as he',\n 'leaves)',\n \"You're not helping.\",\n 'INT. TUTORING ROOM - DAY',\n 'Cameron sits with an empty chair beside him. Bianca arrives',\n 'in a flurry of blonde hair.',\n 'BIANCA',\n 'Can we make this quick? Roxanne',\n 'Korrine and Andrew Barrett are having an',\n 'incredibly horrendous public break- up',\n 'on the quad. Again.',\n 'CAMERON',\n \"Well, I thought we'd start with\",\n \"pronunciation, if that's okay with you.\",\n 'BIANCA',\n 'Not the hacking and gagging and spitting part. Please.',\n 'CAMERON',\n '(looking down)',\n \"Okay... then how 'bout we try out some\",\n 'French cuisine. Saturday? Night?',\n 'Bianca smiles slowly',\n 'BIANCA',\n \"You're asking me out. That's so cute.\",\n \"What's your name again?\",\n 'CAMERON',\n '(embarrassed)',\n 'Forget it.',\n 'Bianca seizes an opportunity.',\n 'BIANCA',\n \"No, no, it's my fault -- we didn't have\",\n 'a proper introduction ---',\n 'CAMERON',\n 'Cameron.',\n 'BIANCA',\n \"The thing is, Cameron -- I'm at the\",\n 'mercy of a particularly hideous breed of',\n \"loser. My sister. I can't date until\",\n 'she does.',\n 'CAMERON',\n 'Seems like she could get a date easy',\n 'enough...',\n 'She fingers a lock of her hair. He looks on, dazzled.',\n 'BIANCA',\n \"The problem is, she's completely anti-social.\",\n 'CAMERON',\n 'Why?',\n 'BIANCA',\n 'Unsolved mystery. She used to be',\n 'really popular when she started high',\n 'school, then it was just like she got',\n 'sick of it or something.',\n 'CAMERON',\n \"That's a shame.\",\n 'She reaches out and touches his arm',\n 'BIANCA',\n 'Gosh, if only we could find Kat a',\n 'boyfriend...',\n 'CAMERON',\n 'Let me see what I can do.',\n 'Cameron smiles, having no idea how stupid he is',\n 'INT. BIOLOGY CLASS',\n 'A frog is being torn asunder by several prongs and picks.',\n 'Michael and Cameron go for the spleen.',\n 'MICHAEL',\n \"You're in school for one day and you\",\n 'ask out the most beautiful girl? Do you',\n 'have no concept of the high school',\n 'social code?',\n 'Cameron grins away',\n 'CAMERON',\n 'I teach her French, get to know her,',\n 'dazzle her with charm and she falls in',\n 'love with me.',\n 'MICHAEL',\n \"Unlikely, but even so, she still can't\",\n \"go out with you. So what's the\",\n 'point?',\n 'Cameron motions with his head toward Patrick, a few lab',\n \"tables away. He's wearing biker glasses instead of goggles\",\n 'as he tries to revive his frog.',\n 'CAMERON',\n 'What about him?',\n 'MICHAEL',\n '(confused)',\n 'You wanna go out with him?',\n 'The others at the lab table raise their eyebrows',\n 'CAMERON',\n '(impatient)',\n 'No - he could wrangle with the sister.',\n 'Michael smiles. Liking the intrigue.',\n 'MICHAEL',\n \"What makes you think he'll do it?\",\n 'CAMERON',\n 'He seems like he thrives on danger',\n 'MICHAEL',\n \"No kidding. He's a criminal. I heard\",\n 'he lit a state trooper on fire. He just',\n 'got out of Alcatraz...',\n 'CAMERON',\n 'They always let felons sit in on Honors',\n 'Biology?',\n 'MICHAEL',\n \"I'm serious, man, he's whacked. He\",\n 'sold his own liver on the black market',\n 'so he could buy new speakers.',\n 'CAMERON',\n 'Forget his reputation. Do you think',\n \"we've got a plan or not?\",\n 'MICHAEL',\n \"Did she actually say she'd go out with\",\n 'you?',\n 'CAMERON',\n \"That's what I just said\",\n 'Michael processes this.',\n 'MICHAEL',\n 'You know, if you do go out with Bianca,',\n \"you'd be set. You'd outrank everyone.\",\n 'Strictly A-list. With me by your side.',\n 'CAMERON',\n 'I thought you hated those people.',\n 'MICHAEL',\n \"Hey -- I've gotta have a few clients\",\n 'when I get to Wall Street.',\n \"A cowboy flicks the frog's heart into one of the Coffee\",\n \"Kid's latte. Cameron presses on, over the melee.\",\n 'CAMERON',\n 'So now all we gotta do is talk to him.',\n 'He points to Patrick, who now makes his frog hump another',\n 'frog, with full-on sound effects.',\n 'MICHAEL',\n \"I'll let you handle that.\",\n 'INT. WOODSHOP - DAY',\n 'Boys and a few stray girls nail their pieces of wood',\n 'Michael sits next to PEPE, a Coffee Kid, who holds out his',\n 'jacket like the men who sell watches in the subway. Inside',\n 'several bags of coffee hang from hooks.',\n 'PEPE',\n 'Some people like the Colombian, but it',\n 'all depends on your acidity preference.',\n 'Me? I prefer East African and',\n 'Indonesian. You start the day with a',\n 'Sumatra Boengie or maybe and Ethiopian',\n \"Sidamo in your cup, you're that much\",\n \"farther ahead than someone drinkin'\",\n 'Cosia Rican or Kona -- you know what I',\n 'mean?',\n 'Michael nods solemnly.',\n 'ACROSS THE ROOM',\n 'Patrick sits at a table with Scurvy, making something that',\n 'looks like a machete out of a two-by-four.',\n 'Cameron approaches, full of good-natured farm boy cheer',\n 'CAMERON',\n 'Hey, there',\n 'In response, Patrick brandishes a loud POWER TOOL in his',\n 'direction.',\n 'Cameron slinks away.',\n 'CAMERON',\n '(continuing)',\n 'Later, then.',\n 'Michael watches, shaking his head.',\n 'INT. CAFETERIA - DAY',\n 'Joey and his pals take turns drawing boobs onto a cafeteria',\n 'tray with a magic marker.',\n 'Michael walks up and sits between them, casual as can be',\n 'MICHAEL',\n 'Hey.',\n 'JOEY',\n 'Are you lost?',\n 'MICHAEL',\n 'Nope - just came by to chat',\n 'JOEY',\n \"We don't chat.\",\n 'MICHAEL',\n \"Well, actually, I thought I'd run an\",\n 'idea by you. You know, just to see if',\n \"you're interested.\",\n 'JOEY',\n \"We're not.\",\n 'He grabs Michael by the side of the head, and proceeds to',\n 'draw a penis on his cheek with the magic marker. Michael',\n 'suffers the indignity and speaks undaunted.',\n 'MICHAEL',\n '(grimacing)',\n \"Hear me out. You want Bianca don't\",\n 'you?',\n 'Joey sits back and cackles at his drawing.',\n 'MICHAEL',\n '(continuing)',\n \"But she can't go out with you because\",\n 'her sister is this insane head case and',\n 'no one will go out with her. right?',\n 'JOEY',\n 'Does this conversation have a purpose?',\n 'MICHAEL',\n 'So what you need to do is recruit a guy',\n \"who'll go out with her. Someone who's\",\n 'up for the job.',\n 'Michael points to Patrick, who makes a disgusted face at his',\n 'turkey pot pie before he rises and throws it at the garbage',\n 'can, rather than in it.',\n 'JOEY',\n 'That guy? I heard he ate a live duck once. Everything but',\n 'the beak and the feet.',\n 'MICHAEL',\n 'Exactly',\n 'Joey turns to look at Michael.',\n 'JOEY',\n \"What's in it for you?\",\n 'MICHAEL',\n \"Oh, hey, nothin' man Purely good will\",\n 'on my part.',\n 'He rises to leave and turns to the others.',\n 'MICHAEL',\n '(continuing)',\n \"I have a dick on my face, don't I?\",\n \"INT. BOY'S ROOM - DAY\",\n \"Michael stands at the sink, trying to scrub Joey's artwork\",\n 'off his face as Cameron watches.',\n 'CAMERON',\n 'You got him involved?',\n 'MICHAEL',\n 'Like we had a choice? Besides -- when',\n \"you let the enemy think he's\",\n \"orchestrating the battle, you're in a\",\n 'position of power. We let him pretend',\n \"he's calling the shots, and while he's\",\n 'busy setting up the plan, you have time',\n 'to woo Bianca.',\n 'Cameron grins and puts an arm around him',\n 'CAMERON',\n \"You're one brilliant guy\",\n 'Michael pulls back, noticing other guys filing in.',\n 'MICHAEL',\n 'Hey - I appreciate gratitude as much as the next guy, but',\n \"it's not gonna do you any good to be known as New Kid Who\",\n 'Embraces Guys In The Bathroom.',\n 'Cameron pulls back and attempts to posture himself in a',\n 'manly way for the others, now watching.',\n \"INT. KENNY'S THAI FOOD DINER - DAY\",\n 'Kat and Mandella pick apart their pad thai. Mandella is',\n 'smoking.',\n 'KAT',\n 'So he has this huge raging fit about',\n 'Sarah Lawrence and insists that I go to',\n 'his male-dominated, puking frat boy,',\n 'number one golf team school. I have no',\n 'say at all.',\n 'MANDELLA',\n 'William would never have gone to a',\n 'state school.',\n 'KAT',\n \"William didn't even go to high school\",\n 'MANDELLA',\n \"That's never been proven\",\n 'KAT',\n 'Neither has his heterosexuality.',\n 'Mandella replies with a look of ice. Kat uses the moment to',\n \"stub out Mandella's cigarette.\",\n 'KAT',\n '(continuing)',\n 'I appreciate your efforts toward a',\n \"speedy death, but I'm consuming.\",\n '(pointing at her',\n 'food)',\n 'Do you mind?',\n 'MANDELLA',\n 'Does it matter?',\n 'KAT',\n 'If I was Bianca, it would be, \"Any',\n \"school you want, precious. Don't forget\",\n 'your tiara.\"',\n 'They both look up as Patrick enters. He walks up to the',\n 'counter to place his order.',\n 'Mandella leans toward Kat with the glow of fresh gossip',\n 'MANDELLA',\n 'Janice Parker told me he was a roadie',\n 'for Marilyn Manson.',\n 'Patrick nods at them as he takes his food outside.',\n 'KAT',\n 'Janice Parker is an idiot',\n \"INT. MISS PERKY'S OFFICE - DAY\",\n 'Patrick sits before Miss Perky, eating his Thai food',\n 'MISS PERKY',\n '(looking at chart)',\n \"I don't understand, Patrick. You\",\n \"haven't done anything asinine this week.\",\n 'Are you not feeling well?',\n 'PATRICK',\n 'Touch of the flu.',\n 'MISS PERKY',\n \"I'm at a loss, then. What should we\",\n 'talk about? Your year of absence?',\n 'He smiles his charming smile',\n 'PATRICK',\n \"How 'bout your sex life?\",\n 'She tolerates his comment with her withering glance.',\n 'MISS PERKY',\n \"Why don't we discuss your driving need\",\n 'to be a hemorrhoid?',\n 'PATRICK',\n \"What's to discuss?\",\n 'MISS PERKY',\n \"You weren't abused, you aren't stupid,\",\n \"and as far as I can tell, you're only\",\n 'slightly psychotic -- so why is it that',\n \"you're such a fuck-up?\",\n 'PATRICK',\n \"Well, you know -- there's the prestige\",\n 'of the job title... and the benefits',\n 'package is pretty good...',\n 'The bell RINGS.',\n 'MISS PERKY',\n 'Fine. Go do something repugnant and',\n 'give us something to talk about next',\n 'week.',\n 'INT. TUTORING ROOM - DAY',\n 'Several pairs of tutors and students sit at the various',\n 'desks.',\n 'Mandella sits with TREVOR, a White Rasta. She attempts to',\n 'get him to do geometry, but he stares at her, as if smitten',\n 'MANDELLA',\n \"Look, it's really easy.\",\n 'TREVOR',\n \"You're a freedom fighter. Be proud,\",\n 'sister.',\n 'Mandella sets down her pencil and closes the book.',\n 'MANDELLA',\n '(rotely)',\n \"It's Mandella with two L's. I am not\",\n 'related to Nelson Mandela. I am not a',\n 'political figure. I do not live in',\n 'South Africa. My parents just spent a',\n 'few too many acid trips thinking they',\n 'were revolutionaries.',\n 'TREVOR',\n 'But you freed our people',\n 'MANDELLA',\n 'Your \"people\" are white, suburban high',\n 'school boys who smoke too much hemp. I',\n 'have not freed you, Trevor.',\n '(grabbing his arm',\n 'dramatically)',\n 'Only you can free yourself.',\n 'ACROSS THE ROOM Bianca and Cameron sit side by side, cozy as',\n 'can be',\n 'BIANCA',\n \"C'esc ma tete. This is my head\",\n 'CAMERON',\n \"Right. See? You're ready for the\",\n 'quiz.',\n 'BIANCA',\n \"I don't want to know how to say that\",\n 'though. I want to know useful things.',\n 'Like where the good stores are. How',\n 'much does champagne cost? Stuff like',\n 'Chat. I have never in my life had to',\n 'point out my head to someone.',\n 'CAMERON',\n \"That's because it's such a nice one.\",\n 'BIANCA',\n 'Forget French.',\n 'She shuts her book and puts on a seductive smile',\n 'BIANCA',\n '(continuing)',\n 'How is our little Find the Wench A Date',\n 'plan progressing?',\n 'CAMERON',\n ...]"
     },
     "execution_count": 67,
     "metadata": {},
     "output_type": "execute_result"
    }
   ],
   "source": [
    "a = [' '.join(element.split()) for element in rows if ' '.join(element.split()) != '']\n",
    "a"
   ],
   "metadata": {
    "collapsed": false,
    "pycharm": {
     "name": "#%%\n"
    }
   }
  },
  {
   "cell_type": "code",
   "execution_count": null,
   "outputs": [],
   "source": [],
   "metadata": {
    "collapsed": false,
    "pycharm": {
     "name": "#%%\n"
    }
   }
  }
 ],
 "metadata": {
  "kernelspec": {
   "display_name": "Python 3",
   "language": "python",
   "name": "python3"
  },
  "language_info": {
   "codemirror_mode": {
    "name": "ipython",
    "version": 2
   },
   "file_extension": ".py",
   "mimetype": "text/x-python",
   "name": "python",
   "nbconvert_exporter": "python",
   "pygments_lexer": "ipython2",
   "version": "2.7.6"
  }
 },
 "nbformat": 4,
 "nbformat_minor": 0
}