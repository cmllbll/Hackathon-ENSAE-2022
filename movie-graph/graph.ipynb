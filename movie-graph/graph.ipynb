{
 "cells": [
  {
   "cell_type": "code",
   "execution_count": 1,
   "metadata": {},
   "outputs": [],
   "source": [
    "from subs2network.consts import set_output_path\n",
    "from subs2network.videos_sn_creator import generate_movie_graph\n"
   ]
  },
  {
   "cell_type": "code",
   "execution_count": 9,
   "metadata": {},
   "outputs": [
    {
     "name": "stderr",
     "output_type": "stream",
     "text": [
      "ERROR:subliminal.utils:Unexpected error. Provider legendastv\n",
      "Traceback (most recent call last):\n",
      "  File \"/Users/g0bel1n/opt/anaconda3/envs/hackathon/lib/python3.7/site-packages/subliminal/core.py\", line 115, in list_subtitles_provider\n",
      "    return self[provider].list_subtitles(video, provider_languages)\n",
      "  File \"/Users/g0bel1n/opt/anaconda3/envs/hackathon/lib/python3.7/site-packages/subliminal/core.py\", line 66, in __getitem__\n",
      "    provider = provider_manager[name].plugin(**self.provider_configs.get(name, {}))\n",
      "  File \"/Users/g0bel1n/opt/anaconda3/envs/hackathon/lib/python3.7/site-packages/subliminal/providers/legendastv.py\", line 164, in __init__\n",
      "    rarfile.custom_check([rarfile.UNRAR_TOOL], True)\n",
      "AttributeError: module 'rarfile' has no attribute 'custom_check'\n",
      "ERROR:subliminal.utils:Unexpected error. Provider opensubtitles\n",
      "Traceback (most recent call last):\n",
      "  File \"/Users/g0bel1n/opt/anaconda3/envs/hackathon/lib/python3.7/site-packages/subliminal/core.py\", line 115, in list_subtitles_provider\n",
      "    return self[provider].list_subtitles(video, provider_languages)\n",
      "  File \"/Users/g0bel1n/opt/anaconda3/envs/hackathon/lib/python3.7/site-packages/subliminal/core.py\", line 67, in __getitem__\n",
      "    provider.initialize()\n",
      "  File \"/Users/g0bel1n/opt/anaconda3/envs/hackathon/lib/python3.7/site-packages/subliminal/providers/opensubtitles.py\", line 129, in initialize\n",
      "    response = checked(self.server.LogIn(self.username, self.password, 'eng', self.user_agent))\n",
      "  File \"/Users/g0bel1n/opt/anaconda3/envs/hackathon/lib/python3.7/site-packages/subliminal/providers/opensubtitles.py\", line 278, in checked\n",
      "    raise Unauthorized\n",
      "subliminal.providers.opensubtitles.Unauthorized\n",
      "ERROR:subliminal.utils:SSL error MaxRetryError(\"HTTPSConnectionPool(host='www.podnapisi.net', port=443): Max retries exceeded with url: /subtitles/search/old?sXML=1&sL=en&sK=Samurai+Warrior+Queens&sY=2015 (Caused by SSLError(SSLError(1, '[SSL: WRONG_SIGNATURE_TYPE] wrong signature type (_ssl.c:1091)')))\"). Provider podnapisi\n",
      "Traceback (most recent call last):\n",
      "  File \"/Users/g0bel1n/opt/anaconda3/envs/hackathon/lib/python3.7/site-packages/urllib3/connectionpool.py\", line 710, in urlopen\n",
      "    chunked=chunked,\n",
      "  File \"/Users/g0bel1n/opt/anaconda3/envs/hackathon/lib/python3.7/site-packages/urllib3/connectionpool.py\", line 386, in _make_request\n",
      "    self._validate_conn(conn)\n",
      "  File \"/Users/g0bel1n/opt/anaconda3/envs/hackathon/lib/python3.7/site-packages/urllib3/connectionpool.py\", line 1040, in _validate_conn\n",
      "    conn.connect()\n",
      "  File \"/Users/g0bel1n/opt/anaconda3/envs/hackathon/lib/python3.7/site-packages/urllib3/connection.py\", line 424, in connect\n",
      "    tls_in_tls=tls_in_tls,\n",
      "  File \"/Users/g0bel1n/opt/anaconda3/envs/hackathon/lib/python3.7/site-packages/urllib3/util/ssl_.py\", line 450, in ssl_wrap_socket\n",
      "    sock, context, tls_in_tls, server_hostname=server_hostname\n",
      "  File \"/Users/g0bel1n/opt/anaconda3/envs/hackathon/lib/python3.7/site-packages/urllib3/util/ssl_.py\", line 493, in _ssl_wrap_socket_impl\n",
      "    return ssl_context.wrap_socket(sock, server_hostname=server_hostname)\n",
      "  File \"/Users/g0bel1n/opt/anaconda3/envs/hackathon/lib/python3.7/ssl.py\", line 423, in wrap_socket\n",
      "    session=session\n",
      "  File \"/Users/g0bel1n/opt/anaconda3/envs/hackathon/lib/python3.7/ssl.py\", line 870, in _create\n",
      "    self.do_handshake()\n",
      "  File \"/Users/g0bel1n/opt/anaconda3/envs/hackathon/lib/python3.7/ssl.py\", line 1139, in do_handshake\n",
      "    self._sslobj.do_handshake()\n",
      "ssl.SSLError: [SSL: WRONG_SIGNATURE_TYPE] wrong signature type (_ssl.c:1091)\n",
      "\n",
      "During handling of the above exception, another exception occurred:\n",
      "\n",
      "Traceback (most recent call last):\n",
      "  File \"/Users/g0bel1n/opt/anaconda3/envs/hackathon/lib/python3.7/site-packages/requests/adapters.py\", line 450, in send\n",
      "    timeout=timeout\n",
      "  File \"/Users/g0bel1n/opt/anaconda3/envs/hackathon/lib/python3.7/site-packages/urllib3/connectionpool.py\", line 786, in urlopen\n",
      "    method, url, error=e, _pool=self, _stacktrace=sys.exc_info()[2]\n",
      "  File \"/Users/g0bel1n/opt/anaconda3/envs/hackathon/lib/python3.7/site-packages/urllib3/util/retry.py\", line 592, in increment\n",
      "    raise MaxRetryError(_pool, url, error or ResponseError(cause))\n",
      "urllib3.exceptions.MaxRetryError: HTTPSConnectionPool(host='www.podnapisi.net', port=443): Max retries exceeded with url: /subtitles/search/old?sXML=1&sL=en&sK=Samurai+Warrior+Queens&sY=2015 (Caused by SSLError(SSLError(1, '[SSL: WRONG_SIGNATURE_TYPE] wrong signature type (_ssl.c:1091)')))\n",
      "\n",
      "During handling of the above exception, another exception occurred:\n",
      "\n",
      "Traceback (most recent call last):\n",
      "  File \"/Users/g0bel1n/opt/anaconda3/envs/hackathon/lib/python3.7/site-packages/subliminal/core.py\", line 115, in list_subtitles_provider\n",
      "    return self[provider].list_subtitles(video, provider_languages)\n",
      "  File \"/Users/g0bel1n/opt/anaconda3/envs/hackathon/lib/python3.7/site-packages/subliminal/providers/podnapisi.py\", line 160, in list_subtitles\n",
      "    subtitles = [s for l in languages for s in\n",
      "  File \"/Users/g0bel1n/opt/anaconda3/envs/hackathon/lib/python3.7/site-packages/subliminal/providers/podnapisi.py\", line 161, in <listcomp>\n",
      "    self.query(l, title, season=season, episode=episode, year=video.year)]\n",
      "  File \"/Users/g0bel1n/opt/anaconda3/envs/hackathon/lib/python3.7/site-packages/subliminal/providers/podnapisi.py\", line 98, in query\n",
      "    r = self.session.get(self.server_url + 'search/old', params=params, timeout=10)\n",
      "  File \"/Users/g0bel1n/opt/anaconda3/envs/hackathon/lib/python3.7/site-packages/requests/sessions.py\", line 542, in get\n",
      "    return self.request('GET', url, **kwargs)\n",
      "  File \"/Users/g0bel1n/opt/anaconda3/envs/hackathon/lib/python3.7/site-packages/requests/sessions.py\", line 529, in request\n",
      "    resp = self.send(prep, **send_kwargs)\n",
      "  File \"/Users/g0bel1n/opt/anaconda3/envs/hackathon/lib/python3.7/site-packages/requests/sessions.py\", line 645, in send\n",
      "    r = adapter.send(request, **kwargs)\n",
      "  File \"/Users/g0bel1n/opt/anaconda3/envs/hackathon/lib/python3.7/site-packages/requests/adapters.py\", line 517, in send\n",
      "    raise SSLError(e, request=request)\n",
      "requests.exceptions.SSLError: HTTPSConnectionPool(host='www.podnapisi.net', port=443): Max retries exceeded with url: /subtitles/search/old?sXML=1&sL=en&sK=Samurai+Warrior+Queens&sY=2015 (Caused by SSLError(SSLError(1, '[SSL: WRONG_SIGNATURE_TYPE] wrong signature type (_ssl.c:1091)')))\n"
     ]
    },
    {
     "ename": "SubtitleNotFound",
     "evalue": "",
     "output_type": "error",
     "traceback": [
      "\u001b[0;31m---------------------------------------------------------------------------\u001b[0m",
      "\u001b[0;31mSubtitleNotFound\u001b[0m                          Traceback (most recent call last)",
      "\u001b[0;32m/var/folders/tw/0_4t24xd3vs3yb_2z5jssqnc0000gn/T/ipykernel_61019/1099334076.py\u001b[0m in \u001b[0;36m<module>\u001b[0;34m\u001b[0m\n\u001b[1;32m      3\u001b[0m \u001b[0myear\u001b[0m \u001b[0;34m=\u001b[0m \u001b[0;36m2015\u001b[0m\u001b[0;34m\u001b[0m\u001b[0;34m\u001b[0m\u001b[0m\n\u001b[1;32m      4\u001b[0m \u001b[0mimdb_id\u001b[0m \u001b[0;34m=\u001b[0m\u001b[0;34m'tt4794188'\u001b[0m\u001b[0;34m\u001b[0m\u001b[0;34m\u001b[0m\u001b[0m\n\u001b[0;32m----> 5\u001b[0;31m \u001b[0mgenerate_movie_graph\u001b[0m\u001b[0;34m(\u001b[0m\u001b[0mmovie_name\u001b[0m\u001b[0;34m,\u001b[0m \u001b[0myear\u001b[0m\u001b[0;34m,\u001b[0m \u001b[0mimdb_id\u001b[0m\u001b[0;34m)\u001b[0m\u001b[0;34m\u001b[0m\u001b[0;34m\u001b[0m\u001b[0m\n\u001b[0m",
      "\u001b[0;32m~/hackathon/src/subs2network/subs2network/videos_sn_creator.py\u001b[0m in \u001b[0;36mgenerate_movie_graph\u001b[0;34m(movie_title, year, imdb_id, additional_data)\u001b[0m\n\u001b[1;32m    411\u001b[0m     graphs = get_movie_graph(f\"{movie_title} ({year})\", movie_title, year, imdb_id,\n\u001b[1;32m    412\u001b[0m                              \u001b[0;34mf\"{BASEPATH}/subtitles\"\u001b[0m\u001b[0;34m,\u001b[0m \u001b[0muse_top_k_roles\u001b[0m\u001b[0;34m=\u001b[0m\u001b[0;32mNone\u001b[0m\u001b[0;34m,\u001b[0m\u001b[0;34m\u001b[0m\u001b[0;34m\u001b[0m\u001b[0m\n\u001b[0;32m--> 413\u001b[0;31m                              min_weight=3, rating=rating, ignore_roles_names=get_black_list())\n\u001b[0m\u001b[1;32m    414\u001b[0m \u001b[0;34m\u001b[0m\u001b[0m\n\u001b[1;32m    415\u001b[0m     \u001b[0msave_output\u001b[0m\u001b[0;34m(\u001b[0m\u001b[0mgraphs\u001b[0m\u001b[0;34m,\u001b[0m \u001b[0;34m\"movies\"\u001b[0m\u001b[0;34m,\u001b[0m \u001b[0mmovie_title\u001b[0m\u001b[0;34m)\u001b[0m\u001b[0;34m\u001b[0m\u001b[0;34m\u001b[0m\u001b[0m\n",
      "\u001b[0;32m~/hackathon/src/subs2network/subs2network/videos_sn_creator.py\u001b[0m in \u001b[0;36mget_movie_graph\u001b[0;34m(name, title, year, imdb_id, subtitles_path, use_top_k_roles, timelaps_seconds, min_weight, rating, ignore_roles_names)\u001b[0m\n\u001b[1;32m    189\u001b[0m                     min_weight=2, rating=None, ignore_roles_names=None):\n\u001b[1;32m    190\u001b[0m     va = _get_movie_video_sn_analyzer(name, title, year, imdb_id, subtitles_path, use_top_k_roles,\n\u001b[0;32m--> 191\u001b[0;31m                                       timelaps_seconds, rating, ignore_roles_names=ignore_roles_names)\n\u001b[0m\u001b[1;32m    192\u001b[0m     \u001b[0mg\u001b[0m \u001b[0;34m=\u001b[0m \u001b[0mva\u001b[0m\u001b[0;34m.\u001b[0m\u001b[0mconstruct_social_network_graph\u001b[0m\u001b[0;34m(\u001b[0m\u001b[0mROLES_GRAPH\u001b[0m\u001b[0;34m,\u001b[0m \u001b[0mmin_weight\u001b[0m\u001b[0;34m)\u001b[0m\u001b[0;34m\u001b[0m\u001b[0;34m\u001b[0m\u001b[0m\n\u001b[1;32m    193\u001b[0m     \u001b[0mg\u001b[0m\u001b[0;34m.\u001b[0m\u001b[0mgraph\u001b[0m\u001b[0;34m[\u001b[0m\u001b[0mVIDEO_NAME\u001b[0m\u001b[0;34m]\u001b[0m \u001b[0;34m=\u001b[0m \u001b[0mtitle\u001b[0m\u001b[0;34m\u001b[0m\u001b[0;34m\u001b[0m\u001b[0m\n",
      "\u001b[0;32m~/hackathon/src/subs2network/subs2network/videos_sn_creator.py\u001b[0m in \u001b[0;36m_get_movie_video_sn_analyzer\u001b[0;34m(name, title, year, imdb_id, subtitles_path, use_top_k_roles, timelaps_seconds, rating, ignore_roles_names)\u001b[0m\n\u001b[1;32m    222\u001b[0m     \u001b[0mmovie\u001b[0m \u001b[0;34m=\u001b[0m \u001b[0mget_movie_obj\u001b[0m\u001b[0;34m(\u001b[0m\u001b[0mname\u001b[0m\u001b[0;34m,\u001b[0m \u001b[0mtitle\u001b[0m\u001b[0;34m,\u001b[0m \u001b[0myear\u001b[0m\u001b[0;34m,\u001b[0m \u001b[0mimdb_id\u001b[0m\u001b[0;34m)\u001b[0m\u001b[0;34m\u001b[0m\u001b[0;34m\u001b[0m\u001b[0m\n\u001b[1;32m    223\u001b[0m     return _fetch_and_analyze_subtitle(movie, subtitles_path, use_top_k_roles, timelaps_seconds, rating,\n\u001b[0;32m--> 224\u001b[0;31m                                        ignore_roles_names=ignore_roles_names)\n\u001b[0m\u001b[1;32m    225\u001b[0m \u001b[0;34m\u001b[0m\u001b[0m\n\u001b[1;32m    226\u001b[0m \u001b[0;34m\u001b[0m\u001b[0m\n",
      "\u001b[0;32m~/hackathon/src/subs2network/subs2network/videos_sn_creator.py\u001b[0m in \u001b[0;36m_fetch_and_analyze_subtitle\u001b[0;34m(video_obj, subtitle_path, use_top_k_roles, timelaps_seconds, imdb_rating, ignore_roles_names)\u001b[0m\n\u001b[1;32m    244\u001b[0m                                 ignore_roles_names=None):\n\u001b[1;32m    245\u001b[0m     \u001b[0msf\u001b[0m \u001b[0;34m=\u001b[0m \u001b[0mSubtitleFetcher\u001b[0m\u001b[0;34m(\u001b[0m\u001b[0mvideo_obj\u001b[0m\u001b[0;34m)\u001b[0m\u001b[0;34m\u001b[0m\u001b[0;34m\u001b[0m\u001b[0m\n\u001b[0;32m--> 246\u001b[0;31m     \u001b[0md\u001b[0m \u001b[0;34m=\u001b[0m \u001b[0msf\u001b[0m\u001b[0;34m.\u001b[0m\u001b[0mfetch_subtitle\u001b[0m\u001b[0;34m(\u001b[0m\u001b[0msubtitle_path\u001b[0m\u001b[0;34m)\u001b[0m\u001b[0;34m\u001b[0m\u001b[0;34m\u001b[0m\u001b[0m\n\u001b[0m\u001b[1;32m    247\u001b[0m     \u001b[0msa\u001b[0m \u001b[0;34m=\u001b[0m \u001b[0mSubtitleAnalyzer\u001b[0m\u001b[0;34m(\u001b[0m\u001b[0md\u001b[0m\u001b[0;34m,\u001b[0m \u001b[0muse_top_k_roles\u001b[0m\u001b[0;34m=\u001b[0m\u001b[0muse_top_k_roles\u001b[0m\u001b[0;34m,\u001b[0m \u001b[0mignore_roles_names\u001b[0m\u001b[0;34m=\u001b[0m\u001b[0mignore_roles_names\u001b[0m\u001b[0;34m)\u001b[0m\u001b[0;34m\u001b[0m\u001b[0;34m\u001b[0m\u001b[0m\n\u001b[1;32m    248\u001b[0m     \u001b[0me\u001b[0m \u001b[0;34m=\u001b[0m \u001b[0msa\u001b[0m\u001b[0;34m.\u001b[0m\u001b[0mget_subtitles_entities_links\u001b[0m\u001b[0;34m(\u001b[0m\u001b[0mtimelaps_seconds\u001b[0m\u001b[0;34m=\u001b[0m\u001b[0mtimelaps_seconds\u001b[0m\u001b[0;34m)\u001b[0m\u001b[0;34m\u001b[0m\u001b[0;34m\u001b[0m\u001b[0m\n",
      "\u001b[0;32m~/hackathon/src/subs2network/subs2network/subtitle_fetcher.py\u001b[0m in \u001b[0;36mfetch_subtitle\u001b[0;34m(self, path)\u001b[0m\n\u001b[1;32m     55\u001b[0m                 \u001b[0msubtitle\u001b[0m \u001b[0;34m=\u001b[0m \u001b[0;34m[\u001b[0m\u001b[0;34m]\u001b[0m\u001b[0;34m\u001b[0m\u001b[0;34m\u001b[0m\u001b[0m\n\u001b[1;32m     56\u001b[0m             \u001b[0;32mif\u001b[0m \u001b[0;32mnot\u001b[0m \u001b[0msubtitle\u001b[0m\u001b[0;34m:\u001b[0m\u001b[0;34m\u001b[0m\u001b[0;34m\u001b[0m\u001b[0m\n\u001b[0;32m---> 57\u001b[0;31m                 \u001b[0;32mraise\u001b[0m \u001b[0mSubtitleNotFound\u001b[0m\u001b[0;34m\u001b[0m\u001b[0;34m\u001b[0m\u001b[0m\n\u001b[0m\u001b[1;32m     58\u001b[0m             \u001b[0msave_subtitles\u001b[0m\u001b[0;34m(\u001b[0m\u001b[0mself\u001b[0m\u001b[0;34m.\u001b[0m\u001b[0m_video_obj\u001b[0m\u001b[0;34m,\u001b[0m \u001b[0msubtitle\u001b[0m\u001b[0;34m,\u001b[0m \u001b[0mencoding\u001b[0m\u001b[0;34m=\u001b[0m\u001b[0;34m'utf-8'\u001b[0m\u001b[0;34m,\u001b[0m \u001b[0mdirectory\u001b[0m\u001b[0;34m=\u001b[0m\u001b[0mpath\u001b[0m\u001b[0;34m)\u001b[0m\u001b[0;34m\u001b[0m\u001b[0;34m\u001b[0m\u001b[0m\n\u001b[1;32m     59\u001b[0m         \u001b[0mself\u001b[0m\u001b[0;34m.\u001b[0m\u001b[0m_save_subtitle_info_dict\u001b[0m\u001b[0;34m(\u001b[0m\u001b[0mpath\u001b[0m\u001b[0;34m)\u001b[0m\u001b[0;34m\u001b[0m\u001b[0;34m\u001b[0m\u001b[0m\n",
      "\u001b[0;31mSubtitleNotFound\u001b[0m: "
     ]
    }
   ],
   "source": [
    "movie_name = 'Samurai Warrior Queens'\n",
    "year = 2015\n",
    "imdb_id ='tt4794188'\n",
    "generate_movie_graph(movie_name, year, imdb_id)"
   ]
  },
  {
   "cell_type": "code",
   "execution_count": 12,
   "metadata": {},
   "outputs": [
    {
     "name": "stderr",
     "output_type": "stream",
     "text": [
      "100%|██████████| 216M/216M [00:16<00:00, 13.5MB/s] \n",
      "100%|██████████| 76162/76162 [00:13<00:00, 5691.31it/s]\n"
     ]
    }
   ],
   "source": [
    "from subs2network.videos_sn_creator import generate_actors_file\n",
    "generate_actors_file()"
   ]
  },
  {
   "cell_type": "code",
   "execution_count": 13,
   "metadata": {},
   "outputs": [],
   "source": [
    "from subs2network.consts import OUTPUT_PATH"
   ]
  },
  {
   "cell_type": "code",
   "execution_count": 14,
   "metadata": {},
   "outputs": [
    {
     "data": {
      "text/plain": [
       "'/output_graphs'"
      ]
     },
     "execution_count": 14,
     "metadata": {},
     "output_type": "execute_result"
    }
   ],
   "source": [
    "OUTPUT_PATH"
   ]
  },
  {
   "cell_type": "code",
   "execution_count": 10,
   "metadata": {},
   "outputs": [],
   "source": [
    "from subliminal import *\n",
    "from babelfish import Language"
   ]
  },
  {
   "cell_type": "code",
   "execution_count": 50,
   "metadata": {},
   "outputs": [],
   "source": [
    "guess = {'title':'Star Wars', 'type':'movie'}"
   ]
  },
  {
   "cell_type": "code",
   "execution_count": 51,
   "metadata": {},
   "outputs": [],
   "source": [
    "video = Video.fromguess('Jaws 1975', guess)"
   ]
  },
  {
   "cell_type": "code",
   "execution_count": 52,
   "metadata": {},
   "outputs": [
    {
     "name": "stderr",
     "output_type": "stream",
     "text": [
      "ERROR:subliminal.utils:Unexpected error. Provider legendastv\n",
      "Traceback (most recent call last):\n",
      "  File \"/Users/g0bel1n/opt/anaconda3/envs/hackathon/lib/python3.7/site-packages/subliminal/core.py\", line 115, in list_subtitles_provider\n",
      "    return self[provider].list_subtitles(video, provider_languages)\n",
      "  File \"/Users/g0bel1n/opt/anaconda3/envs/hackathon/lib/python3.7/site-packages/subliminal/core.py\", line 66, in __getitem__\n",
      "    provider = provider_manager[name].plugin(**self.provider_configs.get(name, {}))\n",
      "  File \"/Users/g0bel1n/opt/anaconda3/envs/hackathon/lib/python3.7/site-packages/subliminal/providers/legendastv.py\", line 164, in __init__\n",
      "    rarfile.custom_check([rarfile.UNRAR_TOOL], True)\n",
      "AttributeError: module 'rarfile' has no attribute 'custom_check'\n",
      "ERROR:subliminal.utils:Service unavailable. Provider opensubtitles\n",
      "ERROR:subliminal.utils:SSL error MaxRetryError(\"HTTPSConnectionPool(host='www.podnapisi.net', port=443): Max retries exceeded with url: /subtitles/search/old?sXML=1&sL=en&sK=Star+Wars (Caused by SSLError(SSLError(1, '[SSL: WRONG_SIGNATURE_TYPE] wrong signature type (_ssl.c:1091)')))\"). Provider podnapisi\n",
      "Traceback (most recent call last):\n",
      "  File \"/Users/g0bel1n/opt/anaconda3/envs/hackathon/lib/python3.7/site-packages/urllib3/connectionpool.py\", line 710, in urlopen\n",
      "    chunked=chunked,\n",
      "  File \"/Users/g0bel1n/opt/anaconda3/envs/hackathon/lib/python3.7/site-packages/urllib3/connectionpool.py\", line 386, in _make_request\n",
      "    self._validate_conn(conn)\n",
      "  File \"/Users/g0bel1n/opt/anaconda3/envs/hackathon/lib/python3.7/site-packages/urllib3/connectionpool.py\", line 1040, in _validate_conn\n",
      "    conn.connect()\n",
      "  File \"/Users/g0bel1n/opt/anaconda3/envs/hackathon/lib/python3.7/site-packages/urllib3/connection.py\", line 424, in connect\n",
      "    tls_in_tls=tls_in_tls,\n",
      "  File \"/Users/g0bel1n/opt/anaconda3/envs/hackathon/lib/python3.7/site-packages/urllib3/util/ssl_.py\", line 450, in ssl_wrap_socket\n",
      "    sock, context, tls_in_tls, server_hostname=server_hostname\n",
      "  File \"/Users/g0bel1n/opt/anaconda3/envs/hackathon/lib/python3.7/site-packages/urllib3/util/ssl_.py\", line 493, in _ssl_wrap_socket_impl\n",
      "    return ssl_context.wrap_socket(sock, server_hostname=server_hostname)\n",
      "  File \"/Users/g0bel1n/opt/anaconda3/envs/hackathon/lib/python3.7/ssl.py\", line 423, in wrap_socket\n",
      "    session=session\n",
      "  File \"/Users/g0bel1n/opt/anaconda3/envs/hackathon/lib/python3.7/ssl.py\", line 870, in _create\n",
      "    self.do_handshake()\n",
      "  File \"/Users/g0bel1n/opt/anaconda3/envs/hackathon/lib/python3.7/ssl.py\", line 1139, in do_handshake\n",
      "    self._sslobj.do_handshake()\n",
      "ssl.SSLError: [SSL: WRONG_SIGNATURE_TYPE] wrong signature type (_ssl.c:1091)\n",
      "\n",
      "During handling of the above exception, another exception occurred:\n",
      "\n",
      "Traceback (most recent call last):\n",
      "  File \"/Users/g0bel1n/opt/anaconda3/envs/hackathon/lib/python3.7/site-packages/requests/adapters.py\", line 450, in send\n",
      "    timeout=timeout\n",
      "  File \"/Users/g0bel1n/opt/anaconda3/envs/hackathon/lib/python3.7/site-packages/urllib3/connectionpool.py\", line 786, in urlopen\n",
      "    method, url, error=e, _pool=self, _stacktrace=sys.exc_info()[2]\n",
      "  File \"/Users/g0bel1n/opt/anaconda3/envs/hackathon/lib/python3.7/site-packages/urllib3/util/retry.py\", line 592, in increment\n",
      "    raise MaxRetryError(_pool, url, error or ResponseError(cause))\n",
      "urllib3.exceptions.MaxRetryError: HTTPSConnectionPool(host='www.podnapisi.net', port=443): Max retries exceeded with url: /subtitles/search/old?sXML=1&sL=en&sK=Star+Wars (Caused by SSLError(SSLError(1, '[SSL: WRONG_SIGNATURE_TYPE] wrong signature type (_ssl.c:1091)')))\n",
      "\n",
      "During handling of the above exception, another exception occurred:\n",
      "\n",
      "Traceback (most recent call last):\n",
      "  File \"/Users/g0bel1n/opt/anaconda3/envs/hackathon/lib/python3.7/site-packages/subliminal/core.py\", line 115, in list_subtitles_provider\n",
      "    return self[provider].list_subtitles(video, provider_languages)\n",
      "  File \"/Users/g0bel1n/opt/anaconda3/envs/hackathon/lib/python3.7/site-packages/subliminal/providers/podnapisi.py\", line 160, in list_subtitles\n",
      "    subtitles = [s for l in languages for s in\n",
      "  File \"/Users/g0bel1n/opt/anaconda3/envs/hackathon/lib/python3.7/site-packages/subliminal/providers/podnapisi.py\", line 161, in <listcomp>\n",
      "    self.query(l, title, season=season, episode=episode, year=video.year)]\n",
      "  File \"/Users/g0bel1n/opt/anaconda3/envs/hackathon/lib/python3.7/site-packages/subliminal/providers/podnapisi.py\", line 98, in query\n",
      "    r = self.session.get(self.server_url + 'search/old', params=params, timeout=10)\n",
      "  File \"/Users/g0bel1n/opt/anaconda3/envs/hackathon/lib/python3.7/site-packages/requests/sessions.py\", line 542, in get\n",
      "    return self.request('GET', url, **kwargs)\n",
      "  File \"/Users/g0bel1n/opt/anaconda3/envs/hackathon/lib/python3.7/site-packages/requests/sessions.py\", line 529, in request\n",
      "    resp = self.send(prep, **send_kwargs)\n",
      "  File \"/Users/g0bel1n/opt/anaconda3/envs/hackathon/lib/python3.7/site-packages/requests/sessions.py\", line 645, in send\n",
      "    r = adapter.send(request, **kwargs)\n",
      "  File \"/Users/g0bel1n/opt/anaconda3/envs/hackathon/lib/python3.7/site-packages/requests/adapters.py\", line 517, in send\n",
      "    raise SSLError(e, request=request)\n",
      "requests.exceptions.SSLError: HTTPSConnectionPool(host='www.podnapisi.net', port=443): Max retries exceeded with url: /subtitles/search/old?sXML=1&sL=en&sK=Star+Wars (Caused by SSLError(SSLError(1, '[SSL: WRONG_SIGNATURE_TYPE] wrong signature type (_ssl.c:1091)')))\n"
     ]
    }
   ],
   "source": [
    "subtitles = list_subtitles([video], {Language('eng')}, providers=None)"
   ]
  },
  {
   "cell_type": "code",
   "execution_count": 54,
   "metadata": {},
   "outputs": [
    {
     "data": {
      "text/plain": [
       "[<ShooterSubtitle 'https://www.shooter.cn/api/subapi.php?fetch=MTY1MDY3OTg3N3xxaGU3U3NLWEpZdzV3REhCSDZ1Z3JlaTZvTnRKX193b08xM3ptay12WUxveHFLVzZVeDZTcWdCNm1tb05NV0cxVHpHNl9xUHhjMi1nRTYwNHpuSlNFaVh3M092QkJCVkp5OWxLaXlZZlhwTHphLWVubjF4X3zUw14PLe8kKO1hQO0LXUtsarpLQK6Q9adeHEMCgyy9zA==&nonce=%D0%A7%DC%1A%93%22%A6%E9%D6%1B%EB%18m%89%97f' [en]>]"
      ]
     },
     "execution_count": 54,
     "metadata": {},
     "output_type": "execute_result"
    }
   ],
   "source": [
    "subtitles[video]"
   ]
  },
  {
   "cell_type": "code",
   "execution_count": 32,
   "metadata": {},
   "outputs": [
    {
     "ename": "AttributeError",
     "evalue": "'NoneType' object has no attribute 'split'",
     "output_type": "error",
     "traceback": [
      "\u001b[0;31m---------------------------------------------------------------------------\u001b[0m",
      "\u001b[0;31mAttributeError\u001b[0m                            Traceback (most recent call last)",
      "\u001b[0;32m/var/folders/tw/0_4t24xd3vs3yb_2z5jssqnc0000gn/T/ipykernel_61860/4002171467.py\u001b[0m in \u001b[0;36m<module>\u001b[0;34m\u001b[0m\n\u001b[0;32m----> 1\u001b[0;31m \u001b[0msubtitles\u001b[0m\u001b[0;34m[\u001b[0m\u001b[0mvideo\u001b[0m\u001b[0;34m]\u001b[0m\u001b[0;34m[\u001b[0m\u001b[0;36m0\u001b[0m\u001b[0;34m]\u001b[0m\u001b[0;34m.\u001b[0m\u001b[0mcontent\u001b[0m\u001b[0;34m.\u001b[0m\u001b[0msplit\u001b[0m\u001b[0;34m(\u001b[0m\u001b[0;34mb'\\n'\u001b[0m\u001b[0;34m)\u001b[0m\u001b[0;34m[\u001b[0m\u001b[0;36m2\u001b[0m\u001b[0;34m]\u001b[0m\u001b[0;34m\u001b[0m\u001b[0;34m\u001b[0m\u001b[0m\n\u001b[0m",
      "\u001b[0;31mAttributeError\u001b[0m: 'NoneType' object has no attribute 'split'"
     ]
    }
   ],
   "source": []
  },
  {
   "cell_type": "code",
   "execution_count": 19,
   "metadata": {},
   "outputs": [],
   "source": [
    "for s in subtitles[video]:\n",
    "    {s: compute_score(s, video)}"
   ]
  },
  {
   "cell_type": "code",
   "execution_count": 22,
   "metadata": {},
   "outputs": [
    {
     "name": "stderr",
     "output_type": "stream",
     "text": [
      "ERROR:subliminal.utils:Unexpected error. Provider legendastv\n",
      "Traceback (most recent call last):\n",
      "  File \"/Users/g0bel1n/opt/anaconda3/envs/hackathon/lib/python3.7/site-packages/subliminal/core.py\", line 115, in list_subtitles_provider\n",
      "    return self[provider].list_subtitles(video, provider_languages)\n",
      "  File \"/Users/g0bel1n/opt/anaconda3/envs/hackathon/lib/python3.7/site-packages/subliminal/core.py\", line 66, in __getitem__\n",
      "    provider = provider_manager[name].plugin(**self.provider_configs.get(name, {}))\n",
      "  File \"/Users/g0bel1n/opt/anaconda3/envs/hackathon/lib/python3.7/site-packages/subliminal/providers/legendastv.py\", line 164, in __init__\n",
      "    rarfile.custom_check([rarfile.UNRAR_TOOL], True)\n",
      "AttributeError: module 'rarfile' has no attribute 'custom_check'\n",
      "ERROR:subliminal.utils:Unexpected error. Provider opensubtitles\n",
      "Traceback (most recent call last):\n",
      "  File \"/Users/g0bel1n/opt/anaconda3/envs/hackathon/lib/python3.7/site-packages/subliminal/core.py\", line 115, in list_subtitles_provider\n",
      "    return self[provider].list_subtitles(video, provider_languages)\n",
      "  File \"/Users/g0bel1n/opt/anaconda3/envs/hackathon/lib/python3.7/site-packages/subliminal/core.py\", line 67, in __getitem__\n",
      "    provider.initialize()\n",
      "  File \"/Users/g0bel1n/opt/anaconda3/envs/hackathon/lib/python3.7/site-packages/subliminal/providers/opensubtitles.py\", line 129, in initialize\n",
      "    response = checked(self.server.LogIn(self.username, self.password, 'eng', self.user_agent))\n",
      "  File \"/Users/g0bel1n/opt/anaconda3/envs/hackathon/lib/python3.7/site-packages/subliminal/providers/opensubtitles.py\", line 278, in checked\n",
      "    raise Unauthorized\n",
      "subliminal.providers.opensubtitles.Unauthorized\n",
      "ERROR:subliminal.utils:SSL error MaxRetryError(\"HTTPSConnectionPool(host='www.podnapisi.net', port=443): Max retries exceeded with url: /subtitles/search/old?sXML=1&sL=en&sK=Jaws&sY=1975 (Caused by SSLError(SSLError(1, '[SSL: WRONG_SIGNATURE_TYPE] wrong signature type (_ssl.c:1091)')))\"). Provider podnapisi\n",
      "Traceback (most recent call last):\n",
      "  File \"/Users/g0bel1n/opt/anaconda3/envs/hackathon/lib/python3.7/site-packages/urllib3/connectionpool.py\", line 710, in urlopen\n",
      "    chunked=chunked,\n",
      "  File \"/Users/g0bel1n/opt/anaconda3/envs/hackathon/lib/python3.7/site-packages/urllib3/connectionpool.py\", line 386, in _make_request\n",
      "    self._validate_conn(conn)\n",
      "  File \"/Users/g0bel1n/opt/anaconda3/envs/hackathon/lib/python3.7/site-packages/urllib3/connectionpool.py\", line 1040, in _validate_conn\n",
      "    conn.connect()\n",
      "  File \"/Users/g0bel1n/opt/anaconda3/envs/hackathon/lib/python3.7/site-packages/urllib3/connection.py\", line 424, in connect\n",
      "    tls_in_tls=tls_in_tls,\n",
      "  File \"/Users/g0bel1n/opt/anaconda3/envs/hackathon/lib/python3.7/site-packages/urllib3/util/ssl_.py\", line 450, in ssl_wrap_socket\n",
      "    sock, context, tls_in_tls, server_hostname=server_hostname\n",
      "  File \"/Users/g0bel1n/opt/anaconda3/envs/hackathon/lib/python3.7/site-packages/urllib3/util/ssl_.py\", line 493, in _ssl_wrap_socket_impl\n",
      "    return ssl_context.wrap_socket(sock, server_hostname=server_hostname)\n",
      "  File \"/Users/g0bel1n/opt/anaconda3/envs/hackathon/lib/python3.7/ssl.py\", line 423, in wrap_socket\n",
      "    session=session\n",
      "  File \"/Users/g0bel1n/opt/anaconda3/envs/hackathon/lib/python3.7/ssl.py\", line 870, in _create\n",
      "    self.do_handshake()\n",
      "  File \"/Users/g0bel1n/opt/anaconda3/envs/hackathon/lib/python3.7/ssl.py\", line 1139, in do_handshake\n",
      "    self._sslobj.do_handshake()\n",
      "ssl.SSLError: [SSL: WRONG_SIGNATURE_TYPE] wrong signature type (_ssl.c:1091)\n",
      "\n",
      "During handling of the above exception, another exception occurred:\n",
      "\n",
      "Traceback (most recent call last):\n",
      "  File \"/Users/g0bel1n/opt/anaconda3/envs/hackathon/lib/python3.7/site-packages/requests/adapters.py\", line 450, in send\n",
      "    timeout=timeout\n",
      "  File \"/Users/g0bel1n/opt/anaconda3/envs/hackathon/lib/python3.7/site-packages/urllib3/connectionpool.py\", line 786, in urlopen\n",
      "    method, url, error=e, _pool=self, _stacktrace=sys.exc_info()[2]\n",
      "  File \"/Users/g0bel1n/opt/anaconda3/envs/hackathon/lib/python3.7/site-packages/urllib3/util/retry.py\", line 592, in increment\n",
      "    raise MaxRetryError(_pool, url, error or ResponseError(cause))\n",
      "urllib3.exceptions.MaxRetryError: HTTPSConnectionPool(host='www.podnapisi.net', port=443): Max retries exceeded with url: /subtitles/search/old?sXML=1&sL=en&sK=Jaws&sY=1975 (Caused by SSLError(SSLError(1, '[SSL: WRONG_SIGNATURE_TYPE] wrong signature type (_ssl.c:1091)')))\n",
      "\n",
      "During handling of the above exception, another exception occurred:\n",
      "\n",
      "Traceback (most recent call last):\n",
      "  File \"/Users/g0bel1n/opt/anaconda3/envs/hackathon/lib/python3.7/site-packages/subliminal/core.py\", line 115, in list_subtitles_provider\n",
      "    return self[provider].list_subtitles(video, provider_languages)\n",
      "  File \"/Users/g0bel1n/opt/anaconda3/envs/hackathon/lib/python3.7/site-packages/subliminal/providers/podnapisi.py\", line 160, in list_subtitles\n",
      "    subtitles = [s for l in languages for s in\n",
      "  File \"/Users/g0bel1n/opt/anaconda3/envs/hackathon/lib/python3.7/site-packages/subliminal/providers/podnapisi.py\", line 161, in <listcomp>\n",
      "    self.query(l, title, season=season, episode=episode, year=video.year)]\n",
      "  File \"/Users/g0bel1n/opt/anaconda3/envs/hackathon/lib/python3.7/site-packages/subliminal/providers/podnapisi.py\", line 98, in query\n",
      "    r = self.session.get(self.server_url + 'search/old', params=params, timeout=10)\n",
      "  File \"/Users/g0bel1n/opt/anaconda3/envs/hackathon/lib/python3.7/site-packages/requests/sessions.py\", line 542, in get\n",
      "    return self.request('GET', url, **kwargs)\n",
      "  File \"/Users/g0bel1n/opt/anaconda3/envs/hackathon/lib/python3.7/site-packages/requests/sessions.py\", line 529, in request\n",
      "    resp = self.send(prep, **send_kwargs)\n",
      "  File \"/Users/g0bel1n/opt/anaconda3/envs/hackathon/lib/python3.7/site-packages/requests/sessions.py\", line 645, in send\n",
      "    r = adapter.send(request, **kwargs)\n",
      "  File \"/Users/g0bel1n/opt/anaconda3/envs/hackathon/lib/python3.7/site-packages/requests/adapters.py\", line 517, in send\n",
      "    raise SSLError(e, request=request)\n",
      "requests.exceptions.SSLError: HTTPSConnectionPool(host='www.podnapisi.net', port=443): Max retries exceeded with url: /subtitles/search/old?sXML=1&sL=en&sK=Jaws&sY=1975 (Caused by SSLError(SSLError(1, '[SSL: WRONG_SIGNATURE_TYPE] wrong signature type (_ssl.c:1091)')))\n",
      "ERROR:subliminal.core:Invalid subtitle\n"
     ]
    }
   ],
   "source": [
    "best_subtitles = download_best_subtitles([video], {Language('eng')}, providers=None)\n",
    "best_subtitle = best_subtitles[video]"
   ]
  },
  {
   "cell_type": "code",
   "execution_count": null,
   "metadata": {},
   "outputs": [],
   "source": []
  },
  {
   "cell_type": "code",
   "execution_count": 23,
   "metadata": {},
   "outputs": [
    {
     "data": {
      "text/plain": [
       "[]"
      ]
     },
     "execution_count": 23,
     "metadata": {},
     "output_type": "execute_result"
    }
   ],
   "source": [
    "best_subtitle"
   ]
  },
  {
   "cell_type": "code",
   "execution_count": null,
   "metadata": {},
   "outputs": [],
   "source": []
  }
 ],
 "metadata": {
  "interpreter": {
   "hash": "8a06b16eeb1aafe456feb02fe6e0b1401b216a035170a1a7613df3d99ddf6e3e"
  },
  "kernelspec": {
   "display_name": "Python 3.9.12 ('hackathon')",
   "language": "python",
   "name": "python3"
  },
  "language_info": {
   "codemirror_mode": {
    "name": "ipython",
    "version": 3
   },
   "file_extension": ".py",
   "mimetype": "text/x-python",
   "name": "python",
   "nbconvert_exporter": "python",
   "pygments_lexer": "ipython3",
   "version": "3.7.12"
  },
  "orig_nbformat": 4
 },
 "nbformat": 4,
 "nbformat_minor": 2
}
