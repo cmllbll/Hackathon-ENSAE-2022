{
 "cells": [
  {
   "cell_type": "code",
   "execution_count": 1,
   "metadata": {},
   "outputs": [],
   "source": [
    "from selenium import webdriver\n",
    "from selenium.webdriver.common.by import By\n",
    "from pathlib import Path\n",
    "import os \n",
    "\n",
    "from pytube import YouTube\n",
    "\n",
    "from selenium.webdriver.support.ui import WebDriverWait\n",
    "from selenium.webdriver.support import expected_conditions as EC\n",
    "\n"
   ]
  },
  {
   "cell_type": "code",
   "execution_count": 2,
   "metadata": {},
   "outputs": [],
   "source": [
    "def get_url(search: str)-> str:\n",
    "    driver = webdriver.Chrome()\n",
    "    base_url = 'https://www.youtube.com/results?search_query=bande+annonce+vf'\n",
    "    keywords = search.split()\n",
    "    url = '+'.join((base_url,*keywords))\n",
    "    driver.get(url)\n",
    "    element = WebDriverWait(driver, 10).until(\n",
    "        EC.presence_of_element_located((By.ID, 'video-title')))\n",
    "    return  element.get_attribute('href')\n"
   ]
  },
  {
   "cell_type": "code",
   "execution_count": 3,
   "metadata": {},
   "outputs": [],
   "source": [
    "title = 'jaws'\n",
    "video_url = get_url(title)\n",
    "\n",
    "selected_video = YouTube(video_url)"
   ]
  },
  {
   "cell_type": "code",
   "execution_count": 4,
   "metadata": {},
   "outputs": [
    {
     "data": {
      "text/plain": [
       "'/Users/g0bel1n/hackathon/audio/jaws+mp4/Les Dents De La Mer - Bande Annonce VF – 1975.mp4'"
      ]
     },
     "execution_count": 4,
     "metadata": {},
     "output_type": "execute_result"
    }
   ],
   "source": [
    "selected_video.streams.filter(only_audio=True, file_extension='mp4').first().download(f'{title}+mp4')"
   ]
  },
  {
   "cell_type": "code",
   "execution_count": 5,
   "metadata": {},
   "outputs": [
    {
     "ename": "ModuleNotFoundError",
     "evalue": "No module named 'youtube_dl'",
     "output_type": "error",
     "traceback": [
      "\u001b[0;31m---------------------------------------------------------------------------\u001b[0m",
      "\u001b[0;31mModuleNotFoundError\u001b[0m                       Traceback (most recent call last)",
      "\u001b[0;32m/var/folders/tw/0_4t24xd3vs3yb_2z5jssqnc0000gn/T/ipykernel_66557/2316644698.py\u001b[0m in \u001b[0;36m<module>\u001b[0;34m\u001b[0m\n\u001b[0;32m----> 1\u001b[0;31m \u001b[0;32mfrom\u001b[0m \u001b[0myoutube_dl\u001b[0m \u001b[0;32mimport\u001b[0m \u001b[0mYoutubeDL\u001b[0m\u001b[0;34m\u001b[0m\u001b[0;34m\u001b[0m\u001b[0m\n\u001b[0m\u001b[1;32m      2\u001b[0m \u001b[0;34m\u001b[0m\u001b[0m\n\u001b[1;32m      3\u001b[0m \u001b[0maudio_downloader\u001b[0m \u001b[0;34m=\u001b[0m \u001b[0mYoutubeDL\u001b[0m\u001b[0;34m(\u001b[0m\u001b[0;34m{\u001b[0m\u001b[0;34m'format'\u001b[0m\u001b[0;34m:\u001b[0m\u001b[0;34m'bestaudio'\u001b[0m\u001b[0;34m}\u001b[0m\u001b[0;34m)\u001b[0m\u001b[0;34m\u001b[0m\u001b[0;34m\u001b[0m\u001b[0m\n\u001b[1;32m      4\u001b[0m \u001b[0;34m\u001b[0m\u001b[0m\n\u001b[1;32m      5\u001b[0m \u001b[0maudio_downloader\u001b[0m\u001b[0;34m.\u001b[0m\u001b[0mextract_info\u001b[0m\u001b[0;34m(\u001b[0m\u001b[0;34m'https://www.youtube.com/watch?v=PZDO1hrV16I'\u001b[0m\u001b[0;34m)\u001b[0m\u001b[0;34m\u001b[0m\u001b[0;34m\u001b[0m\u001b[0m\n",
      "\u001b[0;31mModuleNotFoundError\u001b[0m: No module named 'youtube_dl'"
     ]
    }
   ],
   "source": []
  },
  {
   "cell_type": "code",
   "execution_count": 27,
   "metadata": {},
   "outputs": [
    {
     "ename": "KeyError",
     "evalue": "'dislike_count'",
     "output_type": "error",
     "traceback": [
      "\u001b[0;31m---------------------------------------------------------------------------\u001b[0m",
      "\u001b[0;31mKeyError\u001b[0m                                  Traceback (most recent call last)",
      "\u001b[1;32m/Users/g0bel1n/Hackathon-ENSAE-2022/audio/audio_search.ipynb Cell 6'\u001b[0m in \u001b[0;36m<cell line: 4>\u001b[0;34m()\u001b[0m\n\u001b[1;32m      <a href='vscode-notebook-cell:/Users/g0bel1n/Hackathon-ENSAE-2022/audio/audio_search.ipynb#ch0000005?line=0'>1</a>\u001b[0m \u001b[39mimport\u001b[39;00m \u001b[39mpafy\u001b[39;00m \n\u001b[1;32m      <a href='vscode-notebook-cell:/Users/g0bel1n/Hackathon-ENSAE-2022/audio/audio_search.ipynb#ch0000005?line=2'>3</a>\u001b[0m url \u001b[39m=\u001b[39m \u001b[39m\"\u001b[39m\u001b[39mhttps://www.youtube.com/watch?v=eACohWVwTOc\u001b[39m\u001b[39m\"\u001b[39m\n\u001b[0;32m----> <a href='vscode-notebook-cell:/Users/g0bel1n/Hackathon-ENSAE-2022/audio/audio_search.ipynb#ch0000005?line=3'>4</a>\u001b[0m video \u001b[39m=\u001b[39m pafy\u001b[39m.\u001b[39;49mnew(url)\n\u001b[1;32m      <a href='vscode-notebook-cell:/Users/g0bel1n/Hackathon-ENSAE-2022/audio/audio_search.ipynb#ch0000005?line=5'>6</a>\u001b[0m audiostreams \u001b[39m=\u001b[39m video\u001b[39m.\u001b[39maudiostreams\n\u001b[1;32m      <a href='vscode-notebook-cell:/Users/g0bel1n/Hackathon-ENSAE-2022/audio/audio_search.ipynb#ch0000005?line=6'>7</a>\u001b[0m \u001b[39mfor\u001b[39;00m i \u001b[39min\u001b[39;00m audiostreams:\n",
      "File \u001b[0;32m~/opt/anaconda3/envs/hackathon/lib/python3.9/site-packages/pafy/pafy.py:124\u001b[0m, in \u001b[0;36mnew\u001b[0;34m(url, basic, gdata, size, callback, ydl_opts)\u001b[0m\n\u001b[1;32m    <a href='file:///Users/g0bel1n/opt/anaconda3/envs/hackathon/lib/python3.9/site-packages/pafy/pafy.py?line=120'>121</a>\u001b[0m     \u001b[39melse\u001b[39;00m:\n\u001b[1;32m    <a href='file:///Users/g0bel1n/opt/anaconda3/envs/hackathon/lib/python3.9/site-packages/pafy/pafy.py?line=121'>122</a>\u001b[0m        \u001b[39mfrom\u001b[39;00m \u001b[39m.\u001b[39;00m\u001b[39mbackend_youtube_dl\u001b[39;00m \u001b[39mimport\u001b[39;00m YtdlPafy \u001b[39mas\u001b[39;00m Pafy\n\u001b[0;32m--> <a href='file:///Users/g0bel1n/opt/anaconda3/envs/hackathon/lib/python3.9/site-packages/pafy/pafy.py?line=123'>124</a>\u001b[0m \u001b[39mreturn\u001b[39;00m Pafy(url, basic, gdata, size, callback, ydl_opts\u001b[39m=\u001b[39;49mydl_opts)\n",
      "File \u001b[0;32m~/opt/anaconda3/envs/hackathon/lib/python3.9/site-packages/pafy/backend_youtube_dl.py:31\u001b[0m, in \u001b[0;36mYtdlPafy.__init__\u001b[0;34m(self, *args, **kwargs)\u001b[0m\n\u001b[1;32m     <a href='file:///Users/g0bel1n/opt/anaconda3/envs/hackathon/lib/python3.9/site-packages/pafy/backend_youtube_dl.py?line=28'>29</a>\u001b[0m \u001b[39mif\u001b[39;00m ydl_opts:\n\u001b[1;32m     <a href='file:///Users/g0bel1n/opt/anaconda3/envs/hackathon/lib/python3.9/site-packages/pafy/backend_youtube_dl.py?line=29'>30</a>\u001b[0m     \u001b[39mself\u001b[39m\u001b[39m.\u001b[39m_ydl_opts\u001b[39m.\u001b[39mupdate(ydl_opts)\n\u001b[0;32m---> <a href='file:///Users/g0bel1n/opt/anaconda3/envs/hackathon/lib/python3.9/site-packages/pafy/backend_youtube_dl.py?line=30'>31</a>\u001b[0m \u001b[39msuper\u001b[39;49m(YtdlPafy, \u001b[39mself\u001b[39;49m)\u001b[39m.\u001b[39;49m\u001b[39m__init__\u001b[39;49m(\u001b[39m*\u001b[39;49margs, \u001b[39m*\u001b[39;49m\u001b[39m*\u001b[39;49mkwargs)\n",
      "File \u001b[0;32m~/opt/anaconda3/envs/hackathon/lib/python3.9/site-packages/pafy/backend_shared.py:97\u001b[0m, in \u001b[0;36mBasePafy.__init__\u001b[0;34m(self, video_url, basic, gdata, size, callback, ydl_opts)\u001b[0m\n\u001b[1;32m     <a href='file:///Users/g0bel1n/opt/anaconda3/envs/hackathon/lib/python3.9/site-packages/pafy/backend_shared.py?line=93'>94</a>\u001b[0m \u001b[39mself\u001b[39m\u001b[39m.\u001b[39mexpiry \u001b[39m=\u001b[39m \u001b[39mNone\u001b[39;00m\n\u001b[1;32m     <a href='file:///Users/g0bel1n/opt/anaconda3/envs/hackathon/lib/python3.9/site-packages/pafy/backend_shared.py?line=95'>96</a>\u001b[0m \u001b[39mif\u001b[39;00m basic:\n\u001b[0;32m---> <a href='file:///Users/g0bel1n/opt/anaconda3/envs/hackathon/lib/python3.9/site-packages/pafy/backend_shared.py?line=96'>97</a>\u001b[0m     \u001b[39mself\u001b[39;49m\u001b[39m.\u001b[39;49m_fetch_basic()\n\u001b[1;32m     <a href='file:///Users/g0bel1n/opt/anaconda3/envs/hackathon/lib/python3.9/site-packages/pafy/backend_shared.py?line=98'>99</a>\u001b[0m \u001b[39mif\u001b[39;00m gdata:\n\u001b[1;32m    <a href='file:///Users/g0bel1n/opt/anaconda3/envs/hackathon/lib/python3.9/site-packages/pafy/backend_shared.py?line=99'>100</a>\u001b[0m     \u001b[39mself\u001b[39m\u001b[39m.\u001b[39m_fetch_gdata()\n",
      "File \u001b[0;32m~/opt/anaconda3/envs/hackathon/lib/python3.9/site-packages/pafy/backend_youtube_dl.py:54\u001b[0m, in \u001b[0;36mYtdlPafy._fetch_basic\u001b[0;34m(self)\u001b[0m\n\u001b[1;32m     <a href='file:///Users/g0bel1n/opt/anaconda3/envs/hackathon/lib/python3.9/site-packages/pafy/backend_youtube_dl.py?line=51'>52</a>\u001b[0m \u001b[39mself\u001b[39m\u001b[39m.\u001b[39m_viewcount \u001b[39m=\u001b[39m \u001b[39mself\u001b[39m\u001b[39m.\u001b[39m_ydl_info[\u001b[39m'\u001b[39m\u001b[39mview_count\u001b[39m\u001b[39m'\u001b[39m]\n\u001b[1;32m     <a href='file:///Users/g0bel1n/opt/anaconda3/envs/hackathon/lib/python3.9/site-packages/pafy/backend_youtube_dl.py?line=52'>53</a>\u001b[0m \u001b[39mself\u001b[39m\u001b[39m.\u001b[39m_likes \u001b[39m=\u001b[39m \u001b[39mself\u001b[39m\u001b[39m.\u001b[39m_ydl_info[\u001b[39m'\u001b[39m\u001b[39mlike_count\u001b[39m\u001b[39m'\u001b[39m]\n\u001b[0;32m---> <a href='file:///Users/g0bel1n/opt/anaconda3/envs/hackathon/lib/python3.9/site-packages/pafy/backend_youtube_dl.py?line=53'>54</a>\u001b[0m \u001b[39mself\u001b[39m\u001b[39m.\u001b[39m_dislikes \u001b[39m=\u001b[39m \u001b[39mself\u001b[39;49m\u001b[39m.\u001b[39;49m_ydl_info[\u001b[39m'\u001b[39;49m\u001b[39mdislike_count\u001b[39;49m\u001b[39m'\u001b[39;49m]\n\u001b[1;32m     <a href='file:///Users/g0bel1n/opt/anaconda3/envs/hackathon/lib/python3.9/site-packages/pafy/backend_youtube_dl.py?line=54'>55</a>\u001b[0m \u001b[39mself\u001b[39m\u001b[39m.\u001b[39m_username \u001b[39m=\u001b[39m \u001b[39mself\u001b[39m\u001b[39m.\u001b[39m_ydl_info[\u001b[39m'\u001b[39m\u001b[39muploader_id\u001b[39m\u001b[39m'\u001b[39m]\n\u001b[1;32m     <a href='file:///Users/g0bel1n/opt/anaconda3/envs/hackathon/lib/python3.9/site-packages/pafy/backend_youtube_dl.py?line=55'>56</a>\u001b[0m \u001b[39mself\u001b[39m\u001b[39m.\u001b[39m_category \u001b[39m=\u001b[39m \u001b[39mself\u001b[39m\u001b[39m.\u001b[39m_ydl_info[\u001b[39m'\u001b[39m\u001b[39mcategories\u001b[39m\u001b[39m'\u001b[39m][\u001b[39m0\u001b[39m] \u001b[39mif\u001b[39;00m \u001b[39mself\u001b[39m\u001b[39m.\u001b[39m_ydl_info[\u001b[39m'\u001b[39m\u001b[39mcategories\u001b[39m\u001b[39m'\u001b[39m] \u001b[39melse\u001b[39;00m \u001b[39m'\u001b[39m\u001b[39m'\u001b[39m\n",
      "\u001b[0;31mKeyError\u001b[0m: 'dislike_count'"
     ]
    }
   ],
   "source": [
    "import pafy \n",
    "  \n",
    "url = \"https://www.youtube.com/watch?v=eACohWVwTOc\"\n",
    "video = pafy.new(url)\n",
    "  \n",
    "audiostreams = video.audiostreams\n",
    "for i in audiostreams:\n",
    "    print(i.bitrate, i.extension, i.get_filesize())\n",
    "  \n",
    "audiostreams[3].download()"
   ]
  },
  {
   "cell_type": "code",
   "execution_count": 7,
   "metadata": {},
   "outputs": [],
   "source": [
    "# Load the API\n",
    "from inaSpeechSegmenter import Segmenter\n",
    "from inaSpeechSegmenter.export_funcs import seg2csv, seg2textgrid"
   ]
  },
  {
   "cell_type": "code",
   "execution_count": 13,
   "metadata": {},
   "outputs": [
    {
     "name": "stderr",
     "output_type": "stream",
     "text": [
      "/Users/g0bel1n/opt/anaconda3/envs/hackathon/lib/python3.7/site-packages/pyannote/algorithms/utils/viterbi.py:88: FutureWarning: arrays to stack must be passed as a \"sequence\" type such as list or tuple. Support for non-sequence iterables such as generators is deprecated as of NumPy 1.16 and will raise an error in the future.\n",
      "  for e, c in six.moves.zip(emission.T, consecutive)\n",
      "/Users/g0bel1n/opt/anaconda3/envs/hackathon/lib/python3.7/site-packages/pyannote/algorithms/utils/viterbi.py:97: FutureWarning: arrays to stack must be passed as a \"sequence\" type such as list or tuple. Support for non-sequence iterables such as generators is deprecated as of NumPy 1.16 and will raise an error in the future.\n",
      "  for e, c in six.moves.zip(constraint.T, consecutive)\n",
      "/Users/g0bel1n/opt/anaconda3/envs/hackathon/lib/python3.7/site-packages/inaSpeechSegmenter/segmenter.py:61: RuntimeWarning: invalid value encountered in subtract\n",
      "  data = (data - np.mean(data, axis=1).reshape((len(data), 1))) / np.std(data, axis=1).reshape((len(data), 1))\n",
      "/Users/g0bel1n/opt/anaconda3/envs/hackathon/lib/python3.7/site-packages/numpy/core/_methods.py:230: RuntimeWarning: invalid value encountered in subtract\n",
      "  x = asanyarray(arr - arrmean)\n"
     ]
    }
   ],
   "source": [
    "segmentation = Segmenter()('v.mp4')\n",
    "seg2csv(segmentation, 'myseg.csv')"
   ]
  },
  {
   "cell_type": "code",
   "execution_count": 14,
   "metadata": {},
   "outputs": [],
   "source": [
    "import pandas as pd"
   ]
  },
  {
   "cell_type": "code",
   "execution_count": 17,
   "metadata": {},
   "outputs": [],
   "source": [
    "df = pd.read_csv('myseg.csv', sep='\\t')"
   ]
  },
  {
   "cell_type": "code",
   "execution_count": 18,
   "metadata": {},
   "outputs": [
    {
     "data": {
      "text/html": [
       "<div>\n",
       "<style scoped>\n",
       "    .dataframe tbody tr th:only-of-type {\n",
       "        vertical-align: middle;\n",
       "    }\n",
       "\n",
       "    .dataframe tbody tr th {\n",
       "        vertical-align: top;\n",
       "    }\n",
       "\n",
       "    .dataframe thead th {\n",
       "        text-align: right;\n",
       "    }\n",
       "</style>\n",
       "<table border=\"1\" class=\"dataframe\">\n",
       "  <thead>\n",
       "    <tr style=\"text-align: right;\">\n",
       "      <th></th>\n",
       "      <th>labels</th>\n",
       "      <th>start</th>\n",
       "      <th>stop</th>\n",
       "    </tr>\n",
       "  </thead>\n",
       "  <tbody>\n",
       "    <tr>\n",
       "      <th>0</th>\n",
       "      <td>noEnergy</td>\n",
       "      <td>0.00</td>\n",
       "      <td>7.56</td>\n",
       "    </tr>\n",
       "    <tr>\n",
       "      <th>1</th>\n",
       "      <td>male</td>\n",
       "      <td>7.56</td>\n",
       "      <td>16.22</td>\n",
       "    </tr>\n",
       "    <tr>\n",
       "      <th>2</th>\n",
       "      <td>music</td>\n",
       "      <td>16.22</td>\n",
       "      <td>21.28</td>\n",
       "    </tr>\n",
       "    <tr>\n",
       "      <th>3</th>\n",
       "      <td>noEnergy</td>\n",
       "      <td>21.28</td>\n",
       "      <td>21.92</td>\n",
       "    </tr>\n",
       "    <tr>\n",
       "      <th>4</th>\n",
       "      <td>noise</td>\n",
       "      <td>21.92</td>\n",
       "      <td>22.98</td>\n",
       "    </tr>\n",
       "    <tr>\n",
       "      <th>5</th>\n",
       "      <td>male</td>\n",
       "      <td>22.98</td>\n",
       "      <td>40.94</td>\n",
       "    </tr>\n",
       "    <tr>\n",
       "      <th>6</th>\n",
       "      <td>music</td>\n",
       "      <td>40.94</td>\n",
       "      <td>45.06</td>\n",
       "    </tr>\n",
       "    <tr>\n",
       "      <th>7</th>\n",
       "      <td>noise</td>\n",
       "      <td>45.06</td>\n",
       "      <td>47.08</td>\n",
       "    </tr>\n",
       "    <tr>\n",
       "      <th>8</th>\n",
       "      <td>male</td>\n",
       "      <td>47.08</td>\n",
       "      <td>56.28</td>\n",
       "    </tr>\n",
       "    <tr>\n",
       "      <th>9</th>\n",
       "      <td>music</td>\n",
       "      <td>56.28</td>\n",
       "      <td>57.82</td>\n",
       "    </tr>\n",
       "    <tr>\n",
       "      <th>10</th>\n",
       "      <td>female</td>\n",
       "      <td>57.82</td>\n",
       "      <td>70.42</td>\n",
       "    </tr>\n",
       "    <tr>\n",
       "      <th>11</th>\n",
       "      <td>male</td>\n",
       "      <td>70.42</td>\n",
       "      <td>74.62</td>\n",
       "    </tr>\n",
       "    <tr>\n",
       "      <th>12</th>\n",
       "      <td>music</td>\n",
       "      <td>74.62</td>\n",
       "      <td>78.70</td>\n",
       "    </tr>\n",
       "    <tr>\n",
       "      <th>13</th>\n",
       "      <td>noise</td>\n",
       "      <td>78.70</td>\n",
       "      <td>87.18</td>\n",
       "    </tr>\n",
       "    <tr>\n",
       "      <th>14</th>\n",
       "      <td>male</td>\n",
       "      <td>87.18</td>\n",
       "      <td>102.90</td>\n",
       "    </tr>\n",
       "    <tr>\n",
       "      <th>15</th>\n",
       "      <td>noEnergy</td>\n",
       "      <td>102.90</td>\n",
       "      <td>103.46</td>\n",
       "    </tr>\n",
       "    <tr>\n",
       "      <th>16</th>\n",
       "      <td>male</td>\n",
       "      <td>103.46</td>\n",
       "      <td>108.20</td>\n",
       "    </tr>\n",
       "    <tr>\n",
       "      <th>17</th>\n",
       "      <td>noEnergy</td>\n",
       "      <td>108.20</td>\n",
       "      <td>108.82</td>\n",
       "    </tr>\n",
       "    <tr>\n",
       "      <th>18</th>\n",
       "      <td>male</td>\n",
       "      <td>108.82</td>\n",
       "      <td>120.52</td>\n",
       "    </tr>\n",
       "    <tr>\n",
       "      <th>19</th>\n",
       "      <td>noise</td>\n",
       "      <td>120.52</td>\n",
       "      <td>124.86</td>\n",
       "    </tr>\n",
       "    <tr>\n",
       "      <th>20</th>\n",
       "      <td>music</td>\n",
       "      <td>124.86</td>\n",
       "      <td>128.38</td>\n",
       "    </tr>\n",
       "    <tr>\n",
       "      <th>21</th>\n",
       "      <td>male</td>\n",
       "      <td>128.38</td>\n",
       "      <td>141.86</td>\n",
       "    </tr>\n",
       "    <tr>\n",
       "      <th>22</th>\n",
       "      <td>noise</td>\n",
       "      <td>141.86</td>\n",
       "      <td>151.12</td>\n",
       "    </tr>\n",
       "    <tr>\n",
       "      <th>23</th>\n",
       "      <td>male</td>\n",
       "      <td>151.12</td>\n",
       "      <td>155.20</td>\n",
       "    </tr>\n",
       "    <tr>\n",
       "      <th>24</th>\n",
       "      <td>female</td>\n",
       "      <td>155.20</td>\n",
       "      <td>158.18</td>\n",
       "    </tr>\n",
       "    <tr>\n",
       "      <th>25</th>\n",
       "      <td>noise</td>\n",
       "      <td>158.18</td>\n",
       "      <td>169.96</td>\n",
       "    </tr>\n",
       "    <tr>\n",
       "      <th>26</th>\n",
       "      <td>male</td>\n",
       "      <td>169.96</td>\n",
       "      <td>176.00</td>\n",
       "    </tr>\n",
       "    <tr>\n",
       "      <th>27</th>\n",
       "      <td>noEnergy</td>\n",
       "      <td>176.00</td>\n",
       "      <td>177.04</td>\n",
       "    </tr>\n",
       "    <tr>\n",
       "      <th>28</th>\n",
       "      <td>music</td>\n",
       "      <td>177.04</td>\n",
       "      <td>182.82</td>\n",
       "    </tr>\n",
       "    <tr>\n",
       "      <th>29</th>\n",
       "      <td>noEnergy</td>\n",
       "      <td>182.82</td>\n",
       "      <td>184.82</td>\n",
       "    </tr>\n",
       "  </tbody>\n",
       "</table>\n",
       "</div>"
      ],
      "text/plain": [
       "      labels   start    stop\n",
       "0   noEnergy    0.00    7.56\n",
       "1       male    7.56   16.22\n",
       "2      music   16.22   21.28\n",
       "3   noEnergy   21.28   21.92\n",
       "4      noise   21.92   22.98\n",
       "5       male   22.98   40.94\n",
       "6      music   40.94   45.06\n",
       "7      noise   45.06   47.08\n",
       "8       male   47.08   56.28\n",
       "9      music   56.28   57.82\n",
       "10    female   57.82   70.42\n",
       "11      male   70.42   74.62\n",
       "12     music   74.62   78.70\n",
       "13     noise   78.70   87.18\n",
       "14      male   87.18  102.90\n",
       "15  noEnergy  102.90  103.46\n",
       "16      male  103.46  108.20\n",
       "17  noEnergy  108.20  108.82\n",
       "18      male  108.82  120.52\n",
       "19     noise  120.52  124.86\n",
       "20     music  124.86  128.38\n",
       "21      male  128.38  141.86\n",
       "22     noise  141.86  151.12\n",
       "23      male  151.12  155.20\n",
       "24    female  155.20  158.18\n",
       "25     noise  158.18  169.96\n",
       "26      male  169.96  176.00\n",
       "27  noEnergy  176.00  177.04\n",
       "28     music  177.04  182.82\n",
       "29  noEnergy  182.82  184.82"
      ]
     },
     "execution_count": 18,
     "metadata": {},
     "output_type": "execute_result"
    }
   ],
   "source": [
    "df"
   ]
  },
  {
   "cell_type": "code",
   "execution_count": 20,
   "metadata": {},
   "outputs": [],
   "source": [
    "\n"
   ]
  },
  {
   "cell_type": "code",
   "execution_count": 29,
   "metadata": {},
   "outputs": [
    {
     "name": "stdout",
     "output_type": "stream",
     "text": [
      "0.16266443934015437\n"
     ]
    }
   ],
   "source": [
    "df['delay']=df.stop-df.start\n",
    "df1 = df.groupby(by='labels').sum()\n",
    "print(df1.loc['female','delay']/df1.loc['male','delay'])"
   ]
  },
  {
   "cell_type": "code",
   "execution_count": null,
   "metadata": {},
   "outputs": [],
   "source": []
  }
 ],
 "metadata": {
  "interpreter": {
   "hash": "8a06b16eeb1aafe456feb02fe6e0b1401b216a035170a1a7613df3d99ddf6e3e"
  },
  "kernelspec": {
   "display_name": "Python 3.9.12 ('hackathon')",
   "language": "python",
   "name": "python3"
  },
  "language_info": {
   "codemirror_mode": {
    "name": "ipython",
    "version": 3
   },
   "file_extension": ".py",
   "mimetype": "text/x-python",
   "name": "python",
   "nbconvert_exporter": "python",
   "pygments_lexer": "ipython3",
   "version": "3.7.12"
  },
  "orig_nbformat": 4
 },
 "nbformat": 4,
 "nbformat_minor": 2
}
